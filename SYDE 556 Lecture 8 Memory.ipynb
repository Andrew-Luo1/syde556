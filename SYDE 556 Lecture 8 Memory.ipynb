{
 "cells": [
  {
   "cell_type": "markdown",
   "metadata": {
    "slideshow": {
     "slide_type": "slide"
    }
   },
   "source": [
    "# SYDE 556/750: Simulating Neurobiological Systems\n",
    "\n",
    "## Administration\n",
    "\n",
    "- 2-slide presentations on project topics\n",
    "- Mar 27th:  Yun, Dameracharla, St George, Kim, McLeod, Bulger, Jackes, Lu, Gravel, Ige, Vaidyanathan, Zhang\n",
    "- Apr 1st: Newhook, Strang, Shalekeen, Cooke, Li, Koh, Peshimam, Park, Bianchini, Weng, Dumont \n",
    "- Apr 3rd: Sathiyaseelan, Luo, Lee, Chopra, Ferrabee, Tong, Yao, Selby, Skupien, Wiyatno, Abbasi Azadgoleh "
   ]
  },
  {
   "cell_type": "markdown",
   "metadata": {
    "slideshow": {
     "slide_type": "slide"
    }
   },
   "source": [
    "## Memory\n",
    "\n",
    "Readings: [Serial Working Memory](http://compneuro.uwaterloo.ca/files/publications/choo.2010a.pdf); [Associative Memory](http://compneuro.uwaterloo.ca/files/publications/stewart.2011.pdf)\n",
    "\n",
    "- We've seen how to represent symbol-like structures using vectors\n",
    "- Typically high dimensional vectors\n",
    "- How can we store those over short periods of time (working memory)\n",
    "- Long periods of time?\n",
    "- Recall Jackendoff's 4th challenge (same repn in long and working memory)"
   ]
  },
  {
   "cell_type": "markdown",
   "metadata": {
    "slideshow": {
     "slide_type": "subslide"
    }
   },
   "source": [
    "## Attractor networks\n",
    "- An attractor in dynamical systems theory is a system state (or states) towards which other states tend over time\n",
    "- The standard analogy is to imagine the state space as a ‘hill-like’ topology which a ball travels through (tending downhill).\n",
    "\n",
    "<img src=\"lecture_memory/point_attractor.png\" width=\"500\">\n",
    "\n",
    "- In neural network research, attractor networks (networks with dynamical attractors) have long been thought relevant for various behaviours \n",
    "    - e.g., memory, integration, off-line updating of representations, repetitive pattern generation, noise reduction, etc."
   ]
  },
  {
   "cell_type": "markdown",
   "metadata": {
    "slideshow": {
     "slide_type": "subslide"
    }
   },
   "source": [
    "\n",
    "    \n",
    "- The neural integrator is an example of an attractor network\n",
    "\n",
    "- The neural integrator can be thought of as a line attractor as in a) \n",
    "    - Actually an approximate one as in b)\n",
    "\n",
    "<img src=\"lecture_memory/line_attractor.png\" width=\"600\">\n",
    "\n",
    "- Attractor networks were extensively examined in the ANN community (e.g. hopfield nets). Amit suggested that persistent activity could be associated with recurrent biological networks \n",
    "- Persistent activity is found in motor, premotor, parietal, prefrontal, frontal, hippocampal, and inferotemporal cortex; and basal ganglia, midbrain, superior colliculus, and brainstem\n",
    "- Focus to date is often on simple attractors:\n",
    "    - The NEF lets us easily generalize."
   ]
  },
  {
   "cell_type": "markdown",
   "metadata": {},
   "source": [
    "## Generalizing dynamics\n",
    "\n",
    "- A cyclic attractor (i.e. a set of attractive points that the system moves through)\n",
    "\n",
    "<img src=\"lecture_memory/cyclic_attractor.png\" width=\"600\">\n",
    "\n",
    "- Note: The hill and ball analogy doesn't work anymore.\n",
    "\n",
    "- This is an oscillator.  Technically a nonlinear one, since it should be stable (the Simple Harmonic Oscillator is linear).  Let's build a stable oscillator."
   ]
  },
  {
   "cell_type": "code",
   "execution_count": 45,
   "metadata": {
    "slideshow": {
     "slide_type": "slide"
    }
   },
   "outputs": [],
   "source": [
    "%pylab inline\n",
    "import nengo\n",
    "from nengo.utils.ensemble import response_curves\n",
    "from nengo.dists import Uniform\n",
    "\n",
    "model = nengo.Network('Oscillator')\n",
    "\n",
    "freq = .25\n",
    "scale = 1.1\n",
    "N=300\n",
    "\n",
    "with model:\n",
    "    stim = nengo.Node(lambda t: [.5,.5] if 0.1<t<0.12 else [0,0])\n",
    "    inhib = nengo.Node(lambda t: [-1]*N if 2.8<t<2.82 else [0]*N)\n",
    "    \n",
    "    osc = nengo.Ensemble(N, dimensions=2, intercepts=Uniform(.3,1))\n",
    "    \n",
    "    def feedback(x):\n",
    "        return scale*x[0]+freq*x[1], -freq*x[0]+scale*x[1]\n",
    "    \n",
    "    nengo.Connection(osc, osc, function=feedback)\n",
    "    nengo.Connection(inhib, osc.neurons)\n",
    "    nengo.Connection(stim, osc)\n",
    "    \n",
    "    osc_p = nengo.Probe(osc, synapse=.01)\n",
    "    "
   ]
  },
  {
   "cell_type": "code",
   "execution_count": 46,
   "metadata": {
    "slideshow": {
     "slide_type": "subslide"
    }
   },
   "outputs": [
    {
     "name": "stderr",
     "output_type": "stream",
     "text": [
      "/Users/celiasmi/Documents/nengo/nengo_gui/nengo_gui/jupyter.py:69: ConfigReuseWarning: Reusing config. Only the most recent visualization will update the config.\n",
      "  \"Reusing config. Only the most recent visualization will \"\n"
     ]
    },
    {
     "data": {
      "text/html": [
       "\n",
       "            <script type=\"text/javascript\" id=\"15cd0306-0fc1-4fa2-ab82-45b171677dd7\">\n",
       "            {\n",
       "                let req = new XMLHttpRequest();\n",
       "                req.addEventListener(\"load\", function() {\n",
       "                    if (this.status != 200 && this.response != 'OK') {\n",
       "                        let p = document.getElementById('15cd0306-0fc1-4fa2-ab82-45b171677dd7').parentNode;\n",
       "                        p.innerHTML +=\n",
       "                            'The nengo_gui.jupyter notebook server ' +\n",
       "                            'extension was not loaded. Please activate it ' +\n",
       "                            'with the following command:' +\n",
       "                            '<pre>jupyter serverextension enable ' +\n",
       "                            'nengo_gui.jupyter</pre>';\n",
       "                        p.classList.add('output_stderr');\n",
       "                    }\n",
       "                });\n",
       "                req.open('GET', './nengo/check', true);\n",
       "                req.send();\n",
       "            }\n",
       "            </script>\n",
       "        "
      ],
      "text/plain": [
       "<IPython.core.display.HTML object>"
      ]
     },
     "metadata": {},
     "output_type": "display_data"
    },
    {
     "data": {
      "application/vdom.v1+json": {
       "attributes": {
        "id": "c46917de-295e-448f-8bf4-255e65d1d9d7"
       },
       "children": [
        {
         "attributes": {
          "allowfullscreen": "allowfullscreen",
          "class": "cell",
          "frameborder": "0",
          "height": "600",
          "src": "./nengo/63233/?token=b863ef4ac6f02703c845c8d8b98aae81000ddcfd41075fa2",
          "style": {
           "border": "1px solid #eee",
           "boxSizing": "border-box"
          },
          "width": "100%"
         },
         "tagName": "iframe"
        }
       ],
       "tagName": "div"
      },
      "text/html": [
       "\n",
       "                <div id=\"1fb37820-ca75-40fa-89a6-c21542c3900d\">\n",
       "                    <iframe\n",
       "                        src=\"./nengo/63233/?token=b863ef4ac6f02703c845c8d8b98aae81000ddcfd41075fa2\"\n",
       "                        width=\"100%\"\n",
       "                        height=\"600\"\n",
       "                        frameborder=\"0\"\n",
       "                        class=\"cell\"\n",
       "                        style=\"border: 1px solid #eee; box-sizing: border-box;\"\n",
       "                        allowfullscreen></iframe>\n",
       "                </div>\n",
       "            "
      ]
     },
     "metadata": {},
     "output_type": "display_data"
    }
   ],
   "source": [
    "from nengo_gui.ipython import IPythonViz\n",
    "IPythonViz(model, \"configs/nonlinear_oscillator.py.cfg\")"
   ]
  },
  {
   "cell_type": "code",
   "execution_count": 48,
   "metadata": {
    "slideshow": {
     "slide_type": "subslide"
    }
   },
   "outputs": [
    {
     "data": {
      "text/html": [
       "\n",
       "                <div id=\"9d6a3aa1-d0b1-4a23-9a60-88e9802b4c5b\" style=\"\n",
       "                    width: 100%;\n",
       "                    border: 1px solid #cfcfcf;\n",
       "                    border-radius: 4px;\n",
       "                    text-align: center;\n",
       "                    position: relative;\">\n",
       "                  <div class=\"pb-text\" style=\"\n",
       "                      position: absolute;\n",
       "                      width: 100%;\">\n",
       "                    0%\n",
       "                  </div>\n",
       "                  <div class=\"pb-fill\" style=\"\n",
       "                      background-color: #bdd2e6;\n",
       "                      width: 0%;\">\n",
       "                    <style type=\"text/css\" scoped=\"scoped\">\n",
       "                        @keyframes pb-fill-anim {\n",
       "                            0% { background-position: 0 0; }\n",
       "                            100% { background-position: 100px 0; }\n",
       "                        }\n",
       "                    </style>\n",
       "                    &nbsp;\n",
       "                  </div>\n",
       "                </div>"
      ],
      "text/plain": [
       "HtmlProgressBar cannot be displayed. Please use the TerminalProgressBar. It can be enabled with `nengo.rc.set('progress', 'progress_bar', 'nengo.utils.progress.TerminalProgressBar')`."
      ]
     },
     "metadata": {},
     "output_type": "display_data"
    },
    {
     "data": {
      "application/javascript": [
       "\n",
       "              (function () {\n",
       "                  var root = document.getElementById('9d6a3aa1-d0b1-4a23-9a60-88e9802b4c5b');\n",
       "                  var text = root.getElementsByClassName('pb-text')[0];\n",
       "                  var fill = root.getElementsByClassName('pb-fill')[0];\n",
       "\n",
       "                  text.innerHTML = 'Build finished in 0:00:01.';\n",
       "                  \n",
       "            fill.style.width = '100%';\n",
       "            fill.style.animation = 'pb-fill-anim 2s linear infinite';\n",
       "            fill.style.backgroundSize = '100px 100%';\n",
       "            fill.style.backgroundImage = 'repeating-linear-gradient(' +\n",
       "                '90deg, #bdd2e6, #edf2f8 40%, #bdd2e6 80%, #bdd2e6)';\n",
       "        \n",
       "                  \n",
       "                fill.style.animation = 'none';\n",
       "                fill.style.backgroundImage = 'none';\n",
       "            \n",
       "              })();\n",
       "        "
      ],
      "text/plain": [
       "<IPython.core.display.Javascript object>"
      ]
     },
     "metadata": {},
     "output_type": "display_data"
    },
    {
     "data": {
      "text/html": [
       "\n",
       "                <div id=\"31d1cf39-8d1c-4530-8d22-92a3359d73cd\" style=\"\n",
       "                    width: 100%;\n",
       "                    border: 1px solid #cfcfcf;\n",
       "                    border-radius: 4px;\n",
       "                    text-align: center;\n",
       "                    position: relative;\">\n",
       "                  <div class=\"pb-text\" style=\"\n",
       "                      position: absolute;\n",
       "                      width: 100%;\">\n",
       "                    0%\n",
       "                  </div>\n",
       "                  <div class=\"pb-fill\" style=\"\n",
       "                      background-color: #bdd2e6;\n",
       "                      width: 0%;\">\n",
       "                    <style type=\"text/css\" scoped=\"scoped\">\n",
       "                        @keyframes pb-fill-anim {\n",
       "                            0% { background-position: 0 0; }\n",
       "                            100% { background-position: 100px 0; }\n",
       "                        }\n",
       "                    </style>\n",
       "                    &nbsp;\n",
       "                  </div>\n",
       "                </div>"
      ],
      "text/plain": [
       "HtmlProgressBar cannot be displayed. Please use the TerminalProgressBar. It can be enabled with `nengo.rc.set('progress', 'progress_bar', 'nengo.utils.progress.TerminalProgressBar')`."
      ]
     },
     "metadata": {},
     "output_type": "display_data"
    },
    {
     "data": {
      "application/javascript": [
       "\n",
       "              (function () {\n",
       "                  var root = document.getElementById('31d1cf39-8d1c-4530-8d22-92a3359d73cd');\n",
       "                  var text = root.getElementsByClassName('pb-text')[0];\n",
       "                  var fill = root.getElementsByClassName('pb-fill')[0];\n",
       "\n",
       "                  text.innerHTML = 'Simulation finished in 0:00:02.';\n",
       "                  \n",
       "            if (100.0 > 0.) {\n",
       "                fill.style.transition = 'width 0.1s linear';\n",
       "            } else {\n",
       "                fill.style.transition = 'none';\n",
       "            }\n",
       "\n",
       "            fill.style.width = '100.0%';\n",
       "            fill.style.animation = 'none';\n",
       "            fill.style.backgroundImage = 'none'\n",
       "        \n",
       "                  \n",
       "                fill.style.animation = 'none';\n",
       "                fill.style.backgroundImage = 'none';\n",
       "            \n",
       "              })();\n",
       "        "
      ],
      "text/plain": [
       "<IPython.core.display.Javascript object>"
      ]
     },
     "metadata": {},
     "output_type": "display_data"
    },
    {
     "data": {
      "image/png": "[encoded data removed]",
      "text/plain": [
       "<matplotlib.figure.Figure at 0x11c2d0b70>"
      ]
     },
     "metadata": {
      "needs_background": "light"
     },
     "output_type": "display_data"
    },
    {
     "data": {
      "image/png": "[encoded data removed]",
      "text/plain": [
       "<matplotlib.figure.Figure at 0x11e8f3860>"
      ]
     },
     "metadata": {
      "needs_background": "light"
     },
     "output_type": "display_data"
    }
   ],
   "source": [
    "sim = nengo.Simulator(model)\n",
    "sim.run(3.)\n",
    "\n",
    "x, A = response_curves(osc, sim)\n",
    "figure(figsize=(4,2))\n",
    "plot(x, A)\n",
    "xlabel('x')\n",
    "ylabel('firing rate (Hz)')\n",
    "\n",
    "figure(figsize=(12,4))\n",
    "subplot(1,2,1)\n",
    "plot(sim.trange(), sim.data[osc_p]);\n",
    "xlabel('Time (s)')\n",
    "ylabel('State value')\n",
    "       \n",
    "subplot(1,2,2)\n",
    "plot(sim.data[osc_p][:,0],sim.data[osc_p][:,1])\n",
    "xlabel('$x_0$')\n",
    "ylabel('$x_1$');"
   ]
  },
  {
   "cell_type": "markdown",
   "metadata": {
    "slideshow": {
     "slide_type": "subslide"
    }
   },
   "source": [
    "- This also generalizes to chaotic attractors and many other fun dynamic networks (see Lecture 5).\n",
    "- Can also generalize representation"
   ]
  },
  {
   "cell_type": "markdown",
   "metadata": {
    "slideshow": {
     "slide_type": "slide"
    }
   },
   "source": [
    "## Generalizing representation\n",
    "\n",
    "- Generalizing a line attractor gives something much more interesting\n",
    "    - A plane attractor\n",
    "    \n",
    "<img src=\"lecture_memory/plane_attractor.png\" width=\"600\">\n",
    "\n",
    "- The attractor space is much more complicated, so you need a lot more neurons to do as good a job ($N^D$)"
   ]
  },
  {
   "cell_type": "code",
   "execution_count": 57,
   "metadata": {
    "slideshow": {
     "slide_type": "subslide"
    }
   },
   "outputs": [
    {
     "name": "stderr",
     "output_type": "stream",
     "text": [
      "//anaconda/envs/python3/lib/python3.6/site-packages/IPython/core/magics/pylab.py:160: UserWarning: pylab import has clobbered these variables: ['piecewise']\n",
      "`%matplotlib` prevents importing * from pylab and numpy\n",
      "  \"\\n`%matplotlib` prevents importing * from pylab and numpy\"\n"
     ]
    },
    {
     "data": {
      "text/html": [
       "\n",
       "                <div id=\"394d3a1b-1dd1-4ba3-8cee-e4445aa18bce\" style=\"\n",
       "                    width: 100%;\n",
       "                    border: 1px solid #cfcfcf;\n",
       "                    border-radius: 4px;\n",
       "                    text-align: center;\n",
       "                    position: relative;\">\n",
       "                  <div class=\"pb-text\" style=\"\n",
       "                      position: absolute;\n",
       "                      width: 100%;\">\n",
       "                    0%\n",
       "                  </div>\n",
       "                  <div class=\"pb-fill\" style=\"\n",
       "                      background-color: #bdd2e6;\n",
       "                      width: 0%;\">\n",
       "                    <style type=\"text/css\" scoped=\"scoped\">\n",
       "                        @keyframes pb-fill-anim {\n",
       "                            0% { background-position: 0 0; }\n",
       "                            100% { background-position: 100px 0; }\n",
       "                        }\n",
       "                    </style>\n",
       "                    &nbsp;\n",
       "                  </div>\n",
       "                </div>"
      ],
      "text/plain": [
       "HtmlProgressBar cannot be displayed. Please use the TerminalProgressBar. It can be enabled with `nengo.rc.set('progress', 'progress_bar', 'nengo.utils.progress.TerminalProgressBar')`."
      ]
     },
     "metadata": {},
     "output_type": "display_data"
    },
    {
     "data": {
      "application/javascript": [
       "\n",
       "              (function () {\n",
       "                  var root = document.getElementById('394d3a1b-1dd1-4ba3-8cee-e4445aa18bce');\n",
       "                  var text = root.getElementsByClassName('pb-text')[0];\n",
       "                  var fill = root.getElementsByClassName('pb-fill')[0];\n",
       "\n",
       "                  text.innerHTML = 'Build finished in 0:00:01.';\n",
       "                  \n",
       "            fill.style.width = '100%';\n",
       "            fill.style.animation = 'pb-fill-anim 2s linear infinite';\n",
       "            fill.style.backgroundSize = '100px 100%';\n",
       "            fill.style.backgroundImage = 'repeating-linear-gradient(' +\n",
       "                '90deg, #bdd2e6, #edf2f8 40%, #bdd2e6 80%, #bdd2e6)';\n",
       "        \n",
       "                  \n",
       "                fill.style.animation = 'none';\n",
       "                fill.style.backgroundImage = 'none';\n",
       "            \n",
       "              })();\n",
       "        "
      ],
      "text/plain": [
       "<IPython.core.display.Javascript object>"
      ]
     },
     "metadata": {},
     "output_type": "display_data"
    },
    {
     "data": {
      "text/html": [
       "\n",
       "                <div id=\"18f4c73c-f7e5-4661-93f7-81821efde7b6\" style=\"\n",
       "                    width: 100%;\n",
       "                    border: 1px solid #cfcfcf;\n",
       "                    border-radius: 4px;\n",
       "                    text-align: center;\n",
       "                    position: relative;\">\n",
       "                  <div class=\"pb-text\" style=\"\n",
       "                      position: absolute;\n",
       "                      width: 100%;\">\n",
       "                    0%\n",
       "                  </div>\n",
       "                  <div class=\"pb-fill\" style=\"\n",
       "                      background-color: #bdd2e6;\n",
       "                      width: 0%;\">\n",
       "                    <style type=\"text/css\" scoped=\"scoped\">\n",
       "                        @keyframes pb-fill-anim {\n",
       "                            0% { background-position: 0 0; }\n",
       "                            100% { background-position: 100px 0; }\n",
       "                        }\n",
       "                    </style>\n",
       "                    &nbsp;\n",
       "                  </div>\n",
       "                </div>"
      ],
      "text/plain": [
       "HtmlProgressBar cannot be displayed. Please use the TerminalProgressBar. It can be enabled with `nengo.rc.set('progress', 'progress_bar', 'nengo.utils.progress.TerminalProgressBar')`."
      ]
     },
     "metadata": {},
     "output_type": "display_data"
    },
    {
     "data": {
      "application/javascript": [
       "\n",
       "              (function () {\n",
       "                  var root = document.getElementById('18f4c73c-f7e5-4661-93f7-81821efde7b6');\n",
       "                  var text = root.getElementsByClassName('pb-text')[0];\n",
       "                  var fill = root.getElementsByClassName('pb-fill')[0];\n",
       "\n",
       "                  text.innerHTML = 'Simulation finished in 0:00:02.';\n",
       "                  \n",
       "            if (100.0 > 0.) {\n",
       "                fill.style.transition = 'width 0.1s linear';\n",
       "            } else {\n",
       "                fill.style.transition = 'none';\n",
       "            }\n",
       "\n",
       "            fill.style.width = '100.0%';\n",
       "            fill.style.animation = 'none';\n",
       "            fill.style.backgroundImage = 'none'\n",
       "        \n",
       "                  \n",
       "                fill.style.animation = 'none';\n",
       "                fill.style.backgroundImage = 'none';\n",
       "            \n",
       "              })();\n",
       "        "
      ],
      "text/plain": [
       "<IPython.core.display.Javascript object>"
      ]
     },
     "metadata": {},
     "output_type": "display_data"
    },
    {
     "data": {
      "image/png": "[encoded data removed]",
      "text/plain": [
       "<matplotlib.figure.Figure at 0x11ed00c18>"
      ]
     },
     "metadata": {
      "needs_background": "light"
     },
     "output_type": "display_data"
    }
   ],
   "source": [
    "%pylab inline\n",
    "#A 1D integrator with a few hundred neurons works great\n",
    "import nengo\n",
    "from nengo.utils.functions import piecewise\n",
    "\n",
    "model = nengo.Network(label='1D Line Attractor', seed=5)\n",
    "\n",
    "N = 300\n",
    "tau = 0.01\n",
    "\n",
    "with model:\n",
    "    stim = nengo.Node(piecewise({.3:[1], .5:[0] }))\n",
    "    neurons = nengo.Ensemble(N, dimensions=1)\n",
    "\n",
    "    nengo.Connection(stim, neurons, transform=tau, synapse=tau)\n",
    "    nengo.Connection(neurons, neurons, synapse=tau)\n",
    "\n",
    "    stim_p = nengo.Probe(stim)\n",
    "    neurons_p = nengo.Probe(neurons, synapse=.01)\n",
    "    \n",
    "sim = nengo.Simulator(model)\n",
    "sim.run(4)\n",
    "\n",
    "t=sim.trange()\n",
    "\n",
    "plot(t, sim.data[stim_p], label = \"stim\")\n",
    "plot(t, sim.data[neurons_p], label = \"position\")\n",
    "legend(loc=\"best\");"
   ]
  },
  {
   "cell_type": "code",
   "execution_count": 61,
   "metadata": {
    "slideshow": {
     "slide_type": "subslide"
    }
   },
   "outputs": [
    {
     "data": {
      "text/html": [
       "\n",
       "                <div id=\"2f92acc6-73b2-49c8-b5f5-c1c67b5b4e22\" style=\"\n",
       "                    width: 100%;\n",
       "                    border: 1px solid #cfcfcf;\n",
       "                    border-radius: 4px;\n",
       "                    text-align: center;\n",
       "                    position: relative;\">\n",
       "                  <div class=\"pb-text\" style=\"\n",
       "                      position: absolute;\n",
       "                      width: 100%;\">\n",
       "                    0%\n",
       "                  </div>\n",
       "                  <div class=\"pb-fill\" style=\"\n",
       "                      background-color: #bdd2e6;\n",
       "                      width: 0%;\">\n",
       "                    <style type=\"text/css\" scoped=\"scoped\">\n",
       "                        @keyframes pb-fill-anim {\n",
       "                            0% { background-position: 0 0; }\n",
       "                            100% { background-position: 100px 0; }\n",
       "                        }\n",
       "                    </style>\n",
       "                    &nbsp;\n",
       "                  </div>\n",
       "                </div>"
      ],
      "text/plain": [
       "HtmlProgressBar cannot be displayed. Please use the TerminalProgressBar. It can be enabled with `nengo.rc.set('progress', 'progress_bar', 'nengo.utils.progress.TerminalProgressBar')`."
      ]
     },
     "metadata": {},
     "output_type": "display_data"
    },
    {
     "data": {
      "application/javascript": [
       "\n",
       "              (function () {\n",
       "                  var root = document.getElementById('2f92acc6-73b2-49c8-b5f5-c1c67b5b4e22');\n",
       "                  var text = root.getElementsByClassName('pb-text')[0];\n",
       "                  var fill = root.getElementsByClassName('pb-fill')[0];\n",
       "\n",
       "                  text.innerHTML = 'Build finished in 0:00:01.';\n",
       "                  \n",
       "            fill.style.width = '100%';\n",
       "            fill.style.animation = 'pb-fill-anim 2s linear infinite';\n",
       "            fill.style.backgroundSize = '100px 100%';\n",
       "            fill.style.backgroundImage = 'repeating-linear-gradient(' +\n",
       "                '90deg, #bdd2e6, #edf2f8 40%, #bdd2e6 80%, #bdd2e6)';\n",
       "        \n",
       "                  \n",
       "                fill.style.animation = 'none';\n",
       "                fill.style.backgroundImage = 'none';\n",
       "            \n",
       "              })();\n",
       "        "
      ],
      "text/plain": [
       "<IPython.core.display.Javascript object>"
      ]
     },
     "metadata": {},
     "output_type": "display_data"
    },
    {
     "data": {
      "text/html": [
       "\n",
       "                <div id=\"8bb24e8d-a434-40a6-9d9d-cd37c876f46d\" style=\"\n",
       "                    width: 100%;\n",
       "                    border: 1px solid #cfcfcf;\n",
       "                    border-radius: 4px;\n",
       "                    text-align: center;\n",
       "                    position: relative;\">\n",
       "                  <div class=\"pb-text\" style=\"\n",
       "                      position: absolute;\n",
       "                      width: 100%;\">\n",
       "                    0%\n",
       "                  </div>\n",
       "                  <div class=\"pb-fill\" style=\"\n",
       "                      background-color: #bdd2e6;\n",
       "                      width: 0%;\">\n",
       "                    <style type=\"text/css\" scoped=\"scoped\">\n",
       "                        @keyframes pb-fill-anim {\n",
       "                            0% { background-position: 0 0; }\n",
       "                            100% { background-position: 100px 0; }\n",
       "                        }\n",
       "                    </style>\n",
       "                    &nbsp;\n",
       "                  </div>\n",
       "                </div>"
      ],
      "text/plain": [
       "HtmlProgressBar cannot be displayed. Please use the TerminalProgressBar. It can be enabled with `nengo.rc.set('progress', 'progress_bar', 'nengo.utils.progress.TerminalProgressBar')`."
      ]
     },
     "metadata": {},
     "output_type": "display_data"
    },
    {
     "data": {
      "application/javascript": [
       "\n",
       "              (function () {\n",
       "                  var root = document.getElementById('8bb24e8d-a434-40a6-9d9d-cd37c876f46d');\n",
       "                  var text = root.getElementsByClassName('pb-text')[0];\n",
       "                  var fill = root.getElementsByClassName('pb-fill')[0];\n",
       "\n",
       "                  text.innerHTML = 'Simulation finished in 0:00:02.';\n",
       "                  \n",
       "            if (100.0 > 0.) {\n",
       "                fill.style.transition = 'width 0.1s linear';\n",
       "            } else {\n",
       "                fill.style.transition = 'none';\n",
       "            }\n",
       "\n",
       "            fill.style.width = '100.0%';\n",
       "            fill.style.animation = 'none';\n",
       "            fill.style.backgroundImage = 'none'\n",
       "        \n",
       "                  \n",
       "                fill.style.animation = 'none';\n",
       "                fill.style.backgroundImage = 'none';\n",
       "            \n",
       "              })();\n",
       "        "
      ],
      "text/plain": [
       "<IPython.core.display.Javascript object>"
      ]
     },
     "metadata": {},
     "output_type": "display_data"
    },
    {
     "data": {
      "image/png": "[encoded data removed]",
      "text/plain": [
       "<matplotlib.figure.Figure at 0x11bd4dd30>"
      ]
     },
     "metadata": {
      "needs_background": "light"
     },
     "output_type": "display_data"
    }
   ],
   "source": [
    "#Need lots of neurons to get reasonable performance in higher D\n",
    "import nengo\n",
    "from nengo.utils.functions import piecewise\n",
    "\n",
    "model = nengo.Network(label='2D Plane Attractor', seed=4)\n",
    "\n",
    "N = 2000 #600 \n",
    "tau = 0.01\n",
    "\n",
    "with model:\n",
    "    stim = nengo.Node(piecewise({.3:[1, -1], .5:[0, 0] }))\n",
    "    neurons = nengo.Ensemble(N, dimensions=2)\n",
    "\n",
    "    nengo.Connection(stim, neurons, transform=tau, synapse=tau)\n",
    "    nengo.Connection(neurons, neurons, synapse=tau)\n",
    "\n",
    "    stim_p = nengo.Probe(stim)\n",
    "    neurons_p = nengo.Probe(neurons, synapse=.01)\n",
    "    \n",
    "sim = nengo.Simulator(model)\n",
    "sim.run(4)\n",
    "\n",
    "t=sim.trange()\n",
    "\n",
    "plot(t, sim.data[stim_p], label = \"stim\")\n",
    "plot(t, sim.data[neurons_p], label = \"position\")\n",
    "legend(loc=\"best\");"
   ]
  },
  {
   "cell_type": "code",
   "execution_count": 62,
   "metadata": {
    "slideshow": {
     "slide_type": "subslide"
    }
   },
   "outputs": [
    {
     "data": {
      "text/html": [
       "\n",
       "                <div id=\"510bdfdc-5b15-4caf-9c6f-e40cf0157518\" style=\"\n",
       "                    width: 100%;\n",
       "                    border: 1px solid #cfcfcf;\n",
       "                    border-radius: 4px;\n",
       "                    text-align: center;\n",
       "                    position: relative;\">\n",
       "                  <div class=\"pb-text\" style=\"\n",
       "                      position: absolute;\n",
       "                      width: 100%;\">\n",
       "                    0%\n",
       "                  </div>\n",
       "                  <div class=\"pb-fill\" style=\"\n",
       "                      background-color: #bdd2e6;\n",
       "                      width: 0%;\">\n",
       "                    <style type=\"text/css\" scoped=\"scoped\">\n",
       "                        @keyframes pb-fill-anim {\n",
       "                            0% { background-position: 0 0; }\n",
       "                            100% { background-position: 100px 0; }\n",
       "                        }\n",
       "                    </style>\n",
       "                    &nbsp;\n",
       "                  </div>\n",
       "                </div>"
      ],
      "text/plain": [
       "HtmlProgressBar cannot be displayed. Please use the TerminalProgressBar. It can be enabled with `nengo.rc.set('progress', 'progress_bar', 'nengo.utils.progress.TerminalProgressBar')`."
      ]
     },
     "metadata": {},
     "output_type": "display_data"
    },
    {
     "data": {
      "application/javascript": [
       "\n",
       "              (function () {\n",
       "                  var root = document.getElementById('510bdfdc-5b15-4caf-9c6f-e40cf0157518');\n",
       "                  var text = root.getElementsByClassName('pb-text')[0];\n",
       "                  var fill = root.getElementsByClassName('pb-fill')[0];\n",
       "\n",
       "                  text.innerHTML = 'Build finished in 0:00:01.';\n",
       "                  \n",
       "            fill.style.width = '100%';\n",
       "            fill.style.animation = 'pb-fill-anim 2s linear infinite';\n",
       "            fill.style.backgroundSize = '100px 100%';\n",
       "            fill.style.backgroundImage = 'repeating-linear-gradient(' +\n",
       "                '90deg, #bdd2e6, #edf2f8 40%, #bdd2e6 80%, #bdd2e6)';\n",
       "        \n",
       "                  \n",
       "                fill.style.animation = 'none';\n",
       "                fill.style.backgroundImage = 'none';\n",
       "            \n",
       "              })();\n",
       "        "
      ],
      "text/plain": [
       "<IPython.core.display.Javascript object>"
      ]
     },
     "metadata": {},
     "output_type": "display_data"
    },
    {
     "data": {
      "text/html": [
       "\n",
       "                <div id=\"0d19c2f1-4271-4693-bf2d-2d26fd025b04\" style=\"\n",
       "                    width: 100%;\n",
       "                    border: 1px solid #cfcfcf;\n",
       "                    border-radius: 4px;\n",
       "                    text-align: center;\n",
       "                    position: relative;\">\n",
       "                  <div class=\"pb-text\" style=\"\n",
       "                      position: absolute;\n",
       "                      width: 100%;\">\n",
       "                    0%\n",
       "                  </div>\n",
       "                  <div class=\"pb-fill\" style=\"\n",
       "                      background-color: #bdd2e6;\n",
       "                      width: 0%;\">\n",
       "                    <style type=\"text/css\" scoped=\"scoped\">\n",
       "                        @keyframes pb-fill-anim {\n",
       "                            0% { background-position: 0 0; }\n",
       "                            100% { background-position: 100px 0; }\n",
       "                        }\n",
       "                    </style>\n",
       "                    &nbsp;\n",
       "                  </div>\n",
       "                </div>"
      ],
      "text/plain": [
       "HtmlProgressBar cannot be displayed. Please use the TerminalProgressBar. It can be enabled with `nengo.rc.set('progress', 'progress_bar', 'nengo.utils.progress.TerminalProgressBar')`."
      ]
     },
     "metadata": {},
     "output_type": "display_data"
    },
    {
     "data": {
      "application/javascript": [
       "\n",
       "              (function () {\n",
       "                  var root = document.getElementById('0d19c2f1-4271-4693-bf2d-2d26fd025b04');\n",
       "                  var text = root.getElementsByClassName('pb-text')[0];\n",
       "                  var fill = root.getElementsByClassName('pb-fill')[0];\n",
       "\n",
       "                  text.innerHTML = 'Simulation finished in 0:00:02.';\n",
       "                  \n",
       "            if (100.0 > 0.) {\n",
       "                fill.style.transition = 'width 0.1s linear';\n",
       "            } else {\n",
       "                fill.style.transition = 'none';\n",
       "            }\n",
       "\n",
       "            fill.style.width = '100.0%';\n",
       "            fill.style.animation = 'none';\n",
       "            fill.style.backgroundImage = 'none'\n",
       "        \n",
       "                  \n",
       "                fill.style.animation = 'none';\n",
       "                fill.style.backgroundImage = 'none';\n",
       "            \n",
       "              })();\n",
       "        "
      ],
      "text/plain": [
       "<IPython.core.display.Javascript object>"
      ]
     },
     "metadata": {},
     "output_type": "display_data"
    },
    {
     "data": {
      "image/png": "[encoded data removed]",
      "text/plain": [
       "<matplotlib.figure.Figure at 0x11f0620f0>"
      ]
     },
     "metadata": {
      "needs_background": "light"
     },
     "output_type": "display_data"
    }
   ],
   "source": [
    "#Note that the representation saturates at the radius\n",
    "with model:\n",
    "    stim.output = piecewise({.2:[1, -1], 1.2:[0, 0] })\n",
    "    \n",
    "sim = nengo.Simulator(model)\n",
    "sim.run(4)\n",
    "\n",
    "t=sim.trange()\n",
    "\n",
    "plot(t, sim.data[stim_p], label = \"stim\")\n",
    "plot(t, sim.data[neurons_p], label = \"position\");"
   ]
  },
  {
   "cell_type": "markdown",
   "metadata": {
    "slideshow": {
     "slide_type": "subslide"
    }
   },
   "source": [
    "- So for higher dimensional memories, you may want the dimensions to be independent\n",
    "    - To make this easy, Nengo has 'ensemble arrays'"
   ]
  },
  {
   "cell_type": "code",
   "execution_count": 63,
   "metadata": {},
   "outputs": [
    {
     "data": {
      "text/html": [
       "\n",
       "                <div id=\"6a28e6bb-e8ef-493a-9504-fc3c3455b3cb\" style=\"\n",
       "                    width: 100%;\n",
       "                    border: 1px solid #cfcfcf;\n",
       "                    border-radius: 4px;\n",
       "                    text-align: center;\n",
       "                    position: relative;\">\n",
       "                  <div class=\"pb-text\" style=\"\n",
       "                      position: absolute;\n",
       "                      width: 100%;\">\n",
       "                    0%\n",
       "                  </div>\n",
       "                  <div class=\"pb-fill\" style=\"\n",
       "                      background-color: #bdd2e6;\n",
       "                      width: 0%;\">\n",
       "                    <style type=\"text/css\" scoped=\"scoped\">\n",
       "                        @keyframes pb-fill-anim {\n",
       "                            0% { background-position: 0 0; }\n",
       "                            100% { background-position: 100px 0; }\n",
       "                        }\n",
       "                    </style>\n",
       "                    &nbsp;\n",
       "                  </div>\n",
       "                </div>"
      ],
      "text/plain": [
       "HtmlProgressBar cannot be displayed. Please use the TerminalProgressBar. It can be enabled with `nengo.rc.set('progress', 'progress_bar', 'nengo.utils.progress.TerminalProgressBar')`."
      ]
     },
     "metadata": {},
     "output_type": "display_data"
    },
    {
     "data": {
      "application/javascript": [
       "\n",
       "              (function () {\n",
       "                  var root = document.getElementById('6a28e6bb-e8ef-493a-9504-fc3c3455b3cb');\n",
       "                  var text = root.getElementsByClassName('pb-text')[0];\n",
       "                  var fill = root.getElementsByClassName('pb-fill')[0];\n",
       "\n",
       "                  text.innerHTML = 'Build finished in 0:00:01.';\n",
       "                  \n",
       "            fill.style.width = '100%';\n",
       "            fill.style.animation = 'pb-fill-anim 2s linear infinite';\n",
       "            fill.style.backgroundSize = '100px 100%';\n",
       "            fill.style.backgroundImage = 'repeating-linear-gradient(' +\n",
       "                '90deg, #bdd2e6, #edf2f8 40%, #bdd2e6 80%, #bdd2e6)';\n",
       "        \n",
       "                  \n",
       "                fill.style.animation = 'none';\n",
       "                fill.style.backgroundImage = 'none';\n",
       "            \n",
       "              })();\n",
       "        "
      ],
      "text/plain": [
       "<IPython.core.display.Javascript object>"
      ]
     },
     "metadata": {},
     "output_type": "display_data"
    },
    {
     "data": {
      "text/html": [
       "\n",
       "                <div id=\"c36f4452-c9ad-483c-bc7e-3e561b6766d3\" style=\"\n",
       "                    width: 100%;\n",
       "                    border: 1px solid #cfcfcf;\n",
       "                    border-radius: 4px;\n",
       "                    text-align: center;\n",
       "                    position: relative;\">\n",
       "                  <div class=\"pb-text\" style=\"\n",
       "                      position: absolute;\n",
       "                      width: 100%;\">\n",
       "                    0%\n",
       "                  </div>\n",
       "                  <div class=\"pb-fill\" style=\"\n",
       "                      background-color: #bdd2e6;\n",
       "                      width: 0%;\">\n",
       "                    <style type=\"text/css\" scoped=\"scoped\">\n",
       "                        @keyframes pb-fill-anim {\n",
       "                            0% { background-position: 0 0; }\n",
       "                            100% { background-position: 100px 0; }\n",
       "                        }\n",
       "                    </style>\n",
       "                    &nbsp;\n",
       "                  </div>\n",
       "                </div>"
      ],
      "text/plain": [
       "HtmlProgressBar cannot be displayed. Please use the TerminalProgressBar. It can be enabled with `nengo.rc.set('progress', 'progress_bar', 'nengo.utils.progress.TerminalProgressBar')`."
      ]
     },
     "metadata": {},
     "output_type": "display_data"
    },
    {
     "data": {
      "application/javascript": [
       "\n",
       "              (function () {\n",
       "                  var root = document.getElementById('c36f4452-c9ad-483c-bc7e-3e561b6766d3');\n",
       "                  var text = root.getElementsByClassName('pb-text')[0];\n",
       "                  var fill = root.getElementsByClassName('pb-fill')[0];\n",
       "\n",
       "                  text.innerHTML = 'Simulation finished in 0:00:03.';\n",
       "                  \n",
       "            if (100.0 > 0.) {\n",
       "                fill.style.transition = 'width 0.1s linear';\n",
       "            } else {\n",
       "                fill.style.transition = 'none';\n",
       "            }\n",
       "\n",
       "            fill.style.width = '100.0%';\n",
       "            fill.style.animation = 'none';\n",
       "            fill.style.backgroundImage = 'none'\n",
       "        \n",
       "                  \n",
       "                fill.style.animation = 'none';\n",
       "                fill.style.backgroundImage = 'none';\n",
       "            \n",
       "              })();\n",
       "        "
      ],
      "text/plain": [
       "<IPython.core.display.Javascript object>"
      ]
     },
     "metadata": {},
     "output_type": "display_data"
    },
    {
     "data": {
      "image/png": "[encoded data removed]",
      "text/plain": [
       "<matplotlib.figure.Figure at 0x11c133be0>"
      ]
     },
     "metadata": {
      "needs_background": "light"
     },
     "output_type": "display_data"
    }
   ],
   "source": [
    "model = nengo.Network(label='Ensemble Array', seed=123)\n",
    "\n",
    "N = 300 #neurons per sub_ensemble\n",
    "tau = 0.01\n",
    "\n",
    "with model:\n",
    "    stim = nengo.Node(piecewise({.3:[1, -1], .5:[0, 0] }))\n",
    "\n",
    "    neurons = nengo.networks.EnsembleArray(N, n_ensembles=2)\n",
    "    \n",
    "    nengo.Connection(stim, neurons.input, transform=tau, synapse=tau)\n",
    "    nengo.Connection(neurons.output, neurons.input, synapse=tau)\n",
    "\n",
    "    stim_p = nengo.Probe(stim)\n",
    "    neurons_p = nengo.Probe(neurons.output, synapse=.01)\n",
    "    \n",
    "sim = nengo.Simulator(model)\n",
    "sim.run(4)\n",
    "\n",
    "t=sim.trange()\n",
    "\n",
    "plot(t, sim.data[stim_p], label = \"stim\")\n",
    "plot(t, sim.data[neurons_p], label = \"position\");"
   ]
  },
  {
   "cell_type": "code",
   "execution_count": 64,
   "metadata": {
    "slideshow": {
     "slide_type": "subslide"
    }
   },
   "outputs": [
    {
     "data": {
      "text/html": [
       "\n",
       "            <script type=\"text/javascript\" id=\"4da41209-854c-4d3e-a259-6704bdd178c7\">\n",
       "            {\n",
       "                let req = new XMLHttpRequest();\n",
       "                req.addEventListener(\"load\", function() {\n",
       "                    if (this.status != 200 && this.response != 'OK') {\n",
       "                        let p = document.getElementById('4da41209-854c-4d3e-a259-6704bdd178c7').parentNode;\n",
       "                        p.innerHTML +=\n",
       "                            'The nengo_gui.jupyter notebook server ' +\n",
       "                            'extension was not loaded. Please activate it ' +\n",
       "                            'with the following command:' +\n",
       "                            '<pre>jupyter serverextension enable ' +\n",
       "                            'nengo_gui.jupyter</pre>';\n",
       "                        p.classList.add('output_stderr');\n",
       "                    }\n",
       "                });\n",
       "                req.open('GET', './nengo/check', true);\n",
       "                req.send();\n",
       "            }\n",
       "            </script>\n",
       "        "
      ],
      "text/plain": [
       "<IPython.core.display.HTML object>"
      ]
     },
     "metadata": {},
     "output_type": "display_data"
    },
    {
     "data": {
      "application/vdom.v1+json": {
       "attributes": {
        "id": "cfa93337-90cb-4b26-ac83-ce3b2598f5c7"
       },
       "children": [
        {
         "attributes": {
          "allowfullscreen": "allowfullscreen",
          "class": "cell",
          "frameborder": "0",
          "height": "600",
          "src": "./nengo/63586/?token=eefb94d3b906cb55ccdf3076e0b3fbaf25945224911e73bb",
          "style": {
           "border": "1px solid #eee",
           "boxSizing": "border-box"
          },
          "width": "100%"
         },
         "tagName": "iframe"
        }
       ],
       "tagName": "div"
      },
      "text/html": [
       "\n",
       "                <div id=\"5621d79b-0ca7-4cbd-8c50-c3c203aebf3e\">\n",
       "                    <iframe\n",
       "                        src=\"./nengo/63586/?token=eefb94d3b906cb55ccdf3076e0b3fbaf25945224911e73bb\"\n",
       "                        width=\"100%\"\n",
       "                        height=\"600\"\n",
       "                        frameborder=\"0\"\n",
       "                        class=\"cell\"\n",
       "                        style=\"border: 1px solid #eee; box-sizing: border-box;\"\n",
       "                        allowfullscreen></iframe>\n",
       "                </div>\n",
       "            "
      ]
     },
     "metadata": {},
     "output_type": "display_data"
    }
   ],
   "source": [
    "from nengo_gui.ipython import IPythonViz\n",
    "IPythonViz(model, \"configs/ensemble_array.py.cfg\")"
   ]
  },
  {
   "cell_type": "markdown",
   "metadata": {
    "slideshow": {
     "slide_type": "subslide"
    }
   },
   "source": [
    "- And saturation effects are quite different"
   ]
  },
  {
   "cell_type": "code",
   "execution_count": 65,
   "metadata": {
    "slideshow": {
     "slide_type": "subslide"
    }
   },
   "outputs": [
    {
     "data": {
      "text/html": [
       "\n",
       "                <div id=\"ac9301fa-1901-4b71-a098-5c9332ac8a7d\" style=\"\n",
       "                    width: 100%;\n",
       "                    border: 1px solid #cfcfcf;\n",
       "                    border-radius: 4px;\n",
       "                    text-align: center;\n",
       "                    position: relative;\">\n",
       "                  <div class=\"pb-text\" style=\"\n",
       "                      position: absolute;\n",
       "                      width: 100%;\">\n",
       "                    0%\n",
       "                  </div>\n",
       "                  <div class=\"pb-fill\" style=\"\n",
       "                      background-color: #bdd2e6;\n",
       "                      width: 0%;\">\n",
       "                    <style type=\"text/css\" scoped=\"scoped\">\n",
       "                        @keyframes pb-fill-anim {\n",
       "                            0% { background-position: 0 0; }\n",
       "                            100% { background-position: 100px 0; }\n",
       "                        }\n",
       "                    </style>\n",
       "                    &nbsp;\n",
       "                  </div>\n",
       "                </div>"
      ],
      "text/plain": [
       "HtmlProgressBar cannot be displayed. Please use the TerminalProgressBar. It can be enabled with `nengo.rc.set('progress', 'progress_bar', 'nengo.utils.progress.TerminalProgressBar')`."
      ]
     },
     "metadata": {},
     "output_type": "display_data"
    },
    {
     "data": {
      "application/javascript": [
       "\n",
       "              (function () {\n",
       "                  var root = document.getElementById('ac9301fa-1901-4b71-a098-5c9332ac8a7d');\n",
       "                  var text = root.getElementsByClassName('pb-text')[0];\n",
       "                  var fill = root.getElementsByClassName('pb-fill')[0];\n",
       "\n",
       "                  text.innerHTML = 'Build finished in 0:00:01.';\n",
       "                  \n",
       "            fill.style.width = '100%';\n",
       "            fill.style.animation = 'pb-fill-anim 2s linear infinite';\n",
       "            fill.style.backgroundSize = '100px 100%';\n",
       "            fill.style.backgroundImage = 'repeating-linear-gradient(' +\n",
       "                '90deg, #bdd2e6, #edf2f8 40%, #bdd2e6 80%, #bdd2e6)';\n",
       "        \n",
       "                  \n",
       "                fill.style.animation = 'none';\n",
       "                fill.style.backgroundImage = 'none';\n",
       "            \n",
       "              })();\n",
       "        "
      ],
      "text/plain": [
       "<IPython.core.display.Javascript object>"
      ]
     },
     "metadata": {},
     "output_type": "display_data"
    },
    {
     "data": {
      "text/html": [
       "\n",
       "                <div id=\"db553ff7-f880-4890-9c8f-fafce7661e38\" style=\"\n",
       "                    width: 100%;\n",
       "                    border: 1px solid #cfcfcf;\n",
       "                    border-radius: 4px;\n",
       "                    text-align: center;\n",
       "                    position: relative;\">\n",
       "                  <div class=\"pb-text\" style=\"\n",
       "                      position: absolute;\n",
       "                      width: 100%;\">\n",
       "                    0%\n",
       "                  </div>\n",
       "                  <div class=\"pb-fill\" style=\"\n",
       "                      background-color: #bdd2e6;\n",
       "                      width: 0%;\">\n",
       "                    <style type=\"text/css\" scoped=\"scoped\">\n",
       "                        @keyframes pb-fill-anim {\n",
       "                            0% { background-position: 0 0; }\n",
       "                            100% { background-position: 100px 0; }\n",
       "                        }\n",
       "                    </style>\n",
       "                    &nbsp;\n",
       "                  </div>\n",
       "                </div>"
      ],
      "text/plain": [
       "HtmlProgressBar cannot be displayed. Please use the TerminalProgressBar. It can be enabled with `nengo.rc.set('progress', 'progress_bar', 'nengo.utils.progress.TerminalProgressBar')`."
      ]
     },
     "metadata": {},
     "output_type": "display_data"
    },
    {
     "data": {
      "application/javascript": [
       "\n",
       "              (function () {\n",
       "                  var root = document.getElementById('db553ff7-f880-4890-9c8f-fafce7661e38');\n",
       "                  var text = root.getElementsByClassName('pb-text')[0];\n",
       "                  var fill = root.getElementsByClassName('pb-fill')[0];\n",
       "\n",
       "                  text.innerHTML = 'Simulation finished in 0:00:03.';\n",
       "                  \n",
       "            if (100.0 > 0.) {\n",
       "                fill.style.transition = 'width 0.1s linear';\n",
       "            } else {\n",
       "                fill.style.transition = 'none';\n",
       "            }\n",
       "\n",
       "            fill.style.width = '100.0%';\n",
       "            fill.style.animation = 'none';\n",
       "            fill.style.backgroundImage = 'none'\n",
       "        \n",
       "                  \n",
       "                fill.style.animation = 'none';\n",
       "                fill.style.backgroundImage = 'none';\n",
       "            \n",
       "              })();\n",
       "        "
      ],
      "text/plain": [
       "<IPython.core.display.Javascript object>"
      ]
     },
     "metadata": {},
     "output_type": "display_data"
    },
    {
     "data": {
      "image/png": "[encoded data removed]",
      "text/plain": [
       "<matplotlib.figure.Figure at 0x11ccc0c50>"
      ]
     },
     "metadata": {
      "needs_background": "light"
     },
     "output_type": "display_data"
    }
   ],
   "source": [
    "#Note that the representation saturates at the radius\n",
    "with model:\n",
    "    stim.output = piecewise({.2:[1, -1], 1.2:[0, 0] })\n",
    "    \n",
    "sim = nengo.Simulator(model)\n",
    "sim.run(4)\n",
    "\n",
    "t=sim.trange()\n",
    "\n",
    "plot(t, sim.data[stim_p], label = \"stim\")\n",
    "plot(t, sim.data[neurons_p], label = \"position\");"
   ]
  },
  {
   "cell_type": "markdown",
   "metadata": {
    "slideshow": {
     "slide_type": "slide"
    }
   },
   "source": [
    "## Working memory\n",
    "\n",
    "- We can build high dimensional working memories using plane attractors\n",
    "- In general we want some saturation, and some independence between dimensions\n",
    "    - Gives both a 'soft normalization' \n",
    "    - And good temporal stability for fewer neurons\n"
   ]
  },
  {
   "cell_type": "code",
   "execution_count": 66,
   "metadata": {
    "slideshow": {
     "slide_type": "subslide"
    }
   },
   "outputs": [
    {
     "data": {
      "text/html": [
       "\n",
       "                <div id=\"55f5b12d-a505-42cb-94c6-dce7b218ce33\" style=\"\n",
       "                    width: 100%;\n",
       "                    border: 1px solid #cfcfcf;\n",
       "                    border-radius: 4px;\n",
       "                    text-align: center;\n",
       "                    position: relative;\">\n",
       "                  <div class=\"pb-text\" style=\"\n",
       "                      position: absolute;\n",
       "                      width: 100%;\">\n",
       "                    0%\n",
       "                  </div>\n",
       "                  <div class=\"pb-fill\" style=\"\n",
       "                      background-color: #bdd2e6;\n",
       "                      width: 0%;\">\n",
       "                    <style type=\"text/css\" scoped=\"scoped\">\n",
       "                        @keyframes pb-fill-anim {\n",
       "                            0% { background-position: 0 0; }\n",
       "                            100% { background-position: 100px 0; }\n",
       "                        }\n",
       "                    </style>\n",
       "                    &nbsp;\n",
       "                  </div>\n",
       "                </div>"
      ],
      "text/plain": [
       "HtmlProgressBar cannot be displayed. Please use the TerminalProgressBar. It can be enabled with `nengo.rc.set('progress', 'progress_bar', 'nengo.utils.progress.TerminalProgressBar')`."
      ]
     },
     "metadata": {},
     "output_type": "display_data"
    },
    {
     "data": {
      "application/javascript": [
       "\n",
       "              (function () {\n",
       "                  var root = document.getElementById('55f5b12d-a505-42cb-94c6-dce7b218ce33');\n",
       "                  var text = root.getElementsByClassName('pb-text')[0];\n",
       "                  var fill = root.getElementsByClassName('pb-fill')[0];\n",
       "\n",
       "                  text.innerHTML = 'Build finished in 0:00:01.';\n",
       "                  \n",
       "            fill.style.width = '100%';\n",
       "            fill.style.animation = 'pb-fill-anim 2s linear infinite';\n",
       "            fill.style.backgroundSize = '100px 100%';\n",
       "            fill.style.backgroundImage = 'repeating-linear-gradient(' +\n",
       "                '90deg, #bdd2e6, #edf2f8 40%, #bdd2e6 80%, #bdd2e6)';\n",
       "        \n",
       "                  \n",
       "                fill.style.animation = 'none';\n",
       "                fill.style.backgroundImage = 'none';\n",
       "            \n",
       "              })();\n",
       "        "
      ],
      "text/plain": [
       "<IPython.core.display.Javascript object>"
      ]
     },
     "metadata": {},
     "output_type": "display_data"
    },
    {
     "data": {
      "text/html": [
       "\n",
       "                <div id=\"0ba12130-6212-4936-aeaa-ba6ab66e2020\" style=\"\n",
       "                    width: 100%;\n",
       "                    border: 1px solid #cfcfcf;\n",
       "                    border-radius: 4px;\n",
       "                    text-align: center;\n",
       "                    position: relative;\">\n",
       "                  <div class=\"pb-text\" style=\"\n",
       "                      position: absolute;\n",
       "                      width: 100%;\">\n",
       "                    0%\n",
       "                  </div>\n",
       "                  <div class=\"pb-fill\" style=\"\n",
       "                      background-color: #bdd2e6;\n",
       "                      width: 0%;\">\n",
       "                    <style type=\"text/css\" scoped=\"scoped\">\n",
       "                        @keyframes pb-fill-anim {\n",
       "                            0% { background-position: 0 0; }\n",
       "                            100% { background-position: 100px 0; }\n",
       "                        }\n",
       "                    </style>\n",
       "                    &nbsp;\n",
       "                  </div>\n",
       "                </div>"
      ],
      "text/plain": [
       "HtmlProgressBar cannot be displayed. Please use the TerminalProgressBar. It can be enabled with `nengo.rc.set('progress', 'progress_bar', 'nengo.utils.progress.TerminalProgressBar')`."
      ]
     },
     "metadata": {},
     "output_type": "display_data"
    },
    {
     "data": {
      "application/javascript": [
       "\n",
       "              (function () {\n",
       "                  var root = document.getElementById('0ba12130-6212-4936-aeaa-ba6ab66e2020');\n",
       "                  var text = root.getElementsByClassName('pb-text')[0];\n",
       "                  var fill = root.getElementsByClassName('pb-fill')[0];\n",
       "\n",
       "                  text.innerHTML = 'Simulation finished in 0:00:04.';\n",
       "                  \n",
       "            if (100.0 > 0.) {\n",
       "                fill.style.transition = 'width 0.1s linear';\n",
       "            } else {\n",
       "                fill.style.transition = 'none';\n",
       "            }\n",
       "\n",
       "            fill.style.width = '100.0%';\n",
       "            fill.style.animation = 'none';\n",
       "            fill.style.backgroundImage = 'none'\n",
       "        \n",
       "                  \n",
       "                fill.style.animation = 'none';\n",
       "                fill.style.backgroundImage = 'none';\n",
       "            \n",
       "              })();\n",
       "        "
      ],
      "text/plain": [
       "<IPython.core.display.Javascript object>"
      ]
     },
     "metadata": {},
     "output_type": "display_data"
    },
    {
     "name": "stderr",
     "output_type": "stream",
     "text": [
      "//anaconda/envs/python3/lib/python3.6/site-packages/matplotlib/axes/_axes.py:545: UserWarning: No labelled objects found. Use label='...' kwarg on individual plots.\n",
      "  warnings.warn(\"No labelled objects found. \"\n"
     ]
    },
    {
     "data": {
      "image/png": "[encoded data removed]",
      "text/plain": [
       "<matplotlib.figure.Figure at 0x11c0f21d0>"
      ]
     },
     "metadata": {
      "needs_background": "light"
     },
     "output_type": "display_data"
    }
   ],
   "source": [
    "import nengo\n",
    "import nengo_spa as spa\n",
    "\n",
    "def colour_input(t):\n",
    "    if t < 0.15:\n",
    "        return 'BLUE'\n",
    "    elif 1.0 < t < 1.15:\n",
    "        return 'GREEN'\n",
    "    elif 1.7 < t < 1.85:\n",
    "        return 'RED'\n",
    "    else:\n",
    "        return '0'\n",
    "\n",
    "model = spa.Network(label=\"HighD Working Memory\", seed=5)\n",
    "\n",
    "dimensions = 32\n",
    "\n",
    "with model:\n",
    "    colour_in = spa.Transcode(colour_input, output_vocab=dimensions)\n",
    "\n",
    "    mem = spa.State(dimensions, subdimensions=4, feedback=1., \n",
    "                    feedback_synapse=0.1,\n",
    "                    neurons_per_dimension=50)\n",
    "\n",
    "    # Connect the ensembles\n",
    "    colour_in >> mem\n",
    "        \n",
    "    model.config[nengo.Probe].synapse = nengo.Lowpass(0.03)\n",
    "    colour_in_p = nengo.Probe(colour_in.output)\n",
    "    mem_p = nengo.Probe(mem.output)\n",
    "    \n",
    "sim = nengo.Simulator(model)\n",
    "sim.run(3.)\n",
    "\n",
    "plt.figure(figsize=(10, 10))\n",
    "vocab = model.vocabs[dimensions]\n",
    "\n",
    "plt.subplot(2, 1, 1)\n",
    "plt.plot(sim.trange(), spa.similarity(sim.data[colour_in_p], vocab))\n",
    "plt.legend(vocab.keys(), fontsize='x-small')\n",
    "plt.ylabel(\"colour\")\n",
    "\n",
    "plt.subplot(2, 1, 2)\n",
    "plt.plot(sim.trange(), spa.similarity(sim.data[mem_p], vocab))\n",
    "plt.legend(fontsize='x-small')\n",
    "plt.legend(vocab.keys(), fontsize='x-small')\n",
    "plt.ylabel(\"memory\")\n",
    "plt.xlabel(\"time [s]\");"
   ]
  },
  {
   "cell_type": "code",
   "execution_count": 67,
   "metadata": {
    "slideshow": {
     "slide_type": "subslide"
    }
   },
   "outputs": [
    {
     "data": {
      "text/html": [
       "\n",
       "            <script type=\"text/javascript\" id=\"ca2752eb-b878-49c3-94ae-028c92e6a578\">\n",
       "            {\n",
       "                let req = new XMLHttpRequest();\n",
       "                req.addEventListener(\"load\", function() {\n",
       "                    if (this.status != 200 && this.response != 'OK') {\n",
       "                        let p = document.getElementById('ca2752eb-b878-49c3-94ae-028c92e6a578').parentNode;\n",
       "                        p.innerHTML +=\n",
       "                            'The nengo_gui.jupyter notebook server ' +\n",
       "                            'extension was not loaded. Please activate it ' +\n",
       "                            'with the following command:' +\n",
       "                            '<pre>jupyter serverextension enable ' +\n",
       "                            'nengo_gui.jupyter</pre>';\n",
       "                        p.classList.add('output_stderr');\n",
       "                    }\n",
       "                });\n",
       "                req.open('GET', './nengo/check', true);\n",
       "                req.send();\n",
       "            }\n",
       "            </script>\n",
       "        "
      ],
      "text/plain": [
       "<IPython.core.display.HTML object>"
      ]
     },
     "metadata": {},
     "output_type": "display_data"
    },
    {
     "data": {
      "application/vdom.v1+json": {
       "attributes": {
        "id": "60236142-87eb-44d6-8687-237eb81e2da7"
       },
       "children": [
        {
         "attributes": {
          "allowfullscreen": "allowfullscreen",
          "class": "cell",
          "frameborder": "0",
          "height": "600",
          "src": "./nengo/63785/?token=903c360a118bfa9747f6d2520381859443ccfd1b0df41fa3",
          "style": {
           "border": "1px solid #eee",
           "boxSizing": "border-box"
          },
          "width": "100%"
         },
         "tagName": "iframe"
        }
       ],
       "tagName": "div"
      },
      "text/html": [
       "\n",
       "                <div id=\"2637f47f-ca23-4d2c-9f01-cc497352f51f\">\n",
       "                    <iframe\n",
       "                        src=\"./nengo/63785/?token=903c360a118bfa9747f6d2520381859443ccfd1b0df41fa3\"\n",
       "                        width=\"100%\"\n",
       "                        height=\"600\"\n",
       "                        frameborder=\"0\"\n",
       "                        class=\"cell\"\n",
       "                        style=\"border: 1px solid #eee; box-sizing: border-box;\"\n",
       "                        allowfullscreen></iframe>\n",
       "                </div>\n",
       "            "
      ]
     },
     "metadata": {},
     "output_type": "display_data"
    }
   ],
   "source": [
    "from nengo_gui.ipython import IPythonViz\n",
    "IPythonViz(model, \"configs/simple_spa_wm.py.cfg\")"
   ]
  },
  {
   "cell_type": "code",
   "execution_count": 21,
   "metadata": {
    "slideshow": {
     "slide_type": "subslide"
    }
   },
   "outputs": [
    {
     "data": {
      "text/plain": [
       "200"
      ]
     },
     "execution_count": 21,
     "metadata": {},
     "output_type": "execute_result"
    }
   ],
   "source": [
    "# model.all_ensembles has all the neurons\n",
    "model.all_ensembles[2].n_neurons "
   ]
  },
  {
   "cell_type": "markdown",
   "metadata": {
    "slideshow": {
     "slide_type": "subslide"
    }
   },
   "source": [
    "- You can see interference effects here\n",
    "- If you recalled things from this memory, you'd probably have a 'recency effect'\n",
    "    - i.e. The things most recently put in memory would be best recalled\n",
    "\n",
    "- This is seen in human memory, but so is primacy\n",
    "    - How could we get primacy?  "
   ]
  },
  {
   "cell_type": "code",
   "execution_count": 68,
   "metadata": {
    "slideshow": {
     "slide_type": "subslide"
    }
   },
   "outputs": [],
   "source": [
    "import nengo\n",
    "import nengo_spa as spa\n",
    "\n",
    "def colour_input(t):\n",
    "    if t < 0.15:\n",
    "        return 'BLUE'\n",
    "    elif 1.0 < t < 1.15:\n",
    "        return 'GREEN'\n",
    "    elif 1.7 < t < 1.85:\n",
    "        return 'RED'\n",
    "    else:\n",
    "        return '0'\n",
    "\n",
    "model = spa.Network(label=\"HighD Working Memory\", seed=3)\n",
    "\n",
    "dimensions = 32\n",
    "\n",
    "with model:\n",
    "    colour_in = spa.Transcode(colour_input, output_vocab=dimensions)\n",
    "\n",
    "    mem = spa.State(dimensions, subdimensions=4, feedback=1.2, \n",
    "                    feedback_synapse=0.1,\n",
    "                    neurons_per_dimension=50)\n",
    "\n",
    "    # Connect the ensembles\n",
    "    colour_in >> mem\n",
    "        \n",
    "    model.config[nengo.Probe].synapse = nengo.Lowpass(0.03)\n",
    "    colour_in_p = nengo.Probe(colour_in.output)\n",
    "    mem_p = nengo.Probe(mem.output)"
   ]
  },
  {
   "cell_type": "code",
   "execution_count": 29,
   "metadata": {
    "slideshow": {
     "slide_type": "subslide"
    }
   },
   "outputs": [
    {
     "data": {
      "text/html": [
       "\n",
       "                <div id=\"5432f98d-a29d-42ff-9a37-7ae3b895774c\">\n",
       "                    <iframe\n",
       "                        src=\"http://localhost:56129\"\n",
       "                        width=\"100%\"\n",
       "                        height=\"600\"\n",
       "                        frameborder=\"0\"\n",
       "                        class=\"cell\"\n",
       "                        style=\"border: 1px solid #eee;\"\n",
       "                        allowfullscreen></iframe>\n",
       "                </div>\n",
       "            "
      ],
      "text/plain": [
       "<IPython.core.display.HTML object>"
      ]
     },
     "metadata": {},
     "output_type": "display_data"
    }
   ],
   "source": [
    "from nengo_gui.ipython import IPythonViz\n",
    "IPythonViz(model, \"configs/simple_spa_wm_primacy.py.cfg\")"
   ]
  },
  {
   "cell_type": "code",
   "execution_count": 69,
   "metadata": {
    "slideshow": {
     "slide_type": "subslide"
    }
   },
   "outputs": [
    {
     "data": {
      "text/html": [
       "\n",
       "                <div id=\"8568b842-9cbd-4365-bf6d-08d69a4c22ca\" style=\"\n",
       "                    width: 100%;\n",
       "                    border: 1px solid #cfcfcf;\n",
       "                    border-radius: 4px;\n",
       "                    text-align: center;\n",
       "                    position: relative;\">\n",
       "                  <div class=\"pb-text\" style=\"\n",
       "                      position: absolute;\n",
       "                      width: 100%;\">\n",
       "                    0%\n",
       "                  </div>\n",
       "                  <div class=\"pb-fill\" style=\"\n",
       "                      background-color: #bdd2e6;\n",
       "                      width: 0%;\">\n",
       "                    <style type=\"text/css\" scoped=\"scoped\">\n",
       "                        @keyframes pb-fill-anim {\n",
       "                            0% { background-position: 0 0; }\n",
       "                            100% { background-position: 100px 0; }\n",
       "                        }\n",
       "                    </style>\n",
       "                    &nbsp;\n",
       "                  </div>\n",
       "                </div>"
      ],
      "text/plain": [
       "HtmlProgressBar cannot be displayed. Please use the TerminalProgressBar. It can be enabled with `nengo.rc.set('progress', 'progress_bar', 'nengo.utils.progress.TerminalProgressBar')`."
      ]
     },
     "metadata": {},
     "output_type": "display_data"
    },
    {
     "data": {
      "application/javascript": [
       "\n",
       "              (function () {\n",
       "                  var root = document.getElementById('8568b842-9cbd-4365-bf6d-08d69a4c22ca');\n",
       "                  var text = root.getElementsByClassName('pb-text')[0];\n",
       "                  var fill = root.getElementsByClassName('pb-fill')[0];\n",
       "\n",
       "                  text.innerHTML = 'Build finished in 0:00:01.';\n",
       "                  \n",
       "            fill.style.width = '100%';\n",
       "            fill.style.animation = 'pb-fill-anim 2s linear infinite';\n",
       "            fill.style.backgroundSize = '100px 100%';\n",
       "            fill.style.backgroundImage = 'repeating-linear-gradient(' +\n",
       "                '90deg, #bdd2e6, #edf2f8 40%, #bdd2e6 80%, #bdd2e6)';\n",
       "        \n",
       "                  \n",
       "                fill.style.animation = 'none';\n",
       "                fill.style.backgroundImage = 'none';\n",
       "            \n",
       "              })();\n",
       "        "
      ],
      "text/plain": [
       "<IPython.core.display.Javascript object>"
      ]
     },
     "metadata": {},
     "output_type": "display_data"
    },
    {
     "data": {
      "text/html": [
       "\n",
       "                <div id=\"6ac3c57b-e95b-4c1b-9b63-007fe4f9abd2\" style=\"\n",
       "                    width: 100%;\n",
       "                    border: 1px solid #cfcfcf;\n",
       "                    border-radius: 4px;\n",
       "                    text-align: center;\n",
       "                    position: relative;\">\n",
       "                  <div class=\"pb-text\" style=\"\n",
       "                      position: absolute;\n",
       "                      width: 100%;\">\n",
       "                    0%\n",
       "                  </div>\n",
       "                  <div class=\"pb-fill\" style=\"\n",
       "                      background-color: #bdd2e6;\n",
       "                      width: 0%;\">\n",
       "                    <style type=\"text/css\" scoped=\"scoped\">\n",
       "                        @keyframes pb-fill-anim {\n",
       "                            0% { background-position: 0 0; }\n",
       "                            100% { background-position: 100px 0; }\n",
       "                        }\n",
       "                    </style>\n",
       "                    &nbsp;\n",
       "                  </div>\n",
       "                </div>"
      ],
      "text/plain": [
       "HtmlProgressBar cannot be displayed. Please use the TerminalProgressBar. It can be enabled with `nengo.rc.set('progress', 'progress_bar', 'nengo.utils.progress.TerminalProgressBar')`."
      ]
     },
     "metadata": {},
     "output_type": "display_data"
    },
    {
     "data": {
      "application/javascript": [
       "\n",
       "              (function () {\n",
       "                  var root = document.getElementById('6ac3c57b-e95b-4c1b-9b63-007fe4f9abd2');\n",
       "                  var text = root.getElementsByClassName('pb-text')[0];\n",
       "                  var fill = root.getElementsByClassName('pb-fill')[0];\n",
       "\n",
       "                  text.innerHTML = 'Simulation finished in 0:00:04.';\n",
       "                  \n",
       "            if (100.0 > 0.) {\n",
       "                fill.style.transition = 'width 0.1s linear';\n",
       "            } else {\n",
       "                fill.style.transition = 'none';\n",
       "            }\n",
       "\n",
       "            fill.style.width = '100.0%';\n",
       "            fill.style.animation = 'none';\n",
       "            fill.style.backgroundImage = 'none'\n",
       "        \n",
       "                  \n",
       "                fill.style.animation = 'none';\n",
       "                fill.style.backgroundImage = 'none';\n",
       "            \n",
       "              })();\n",
       "        "
      ],
      "text/plain": [
       "<IPython.core.display.Javascript object>"
      ]
     },
     "metadata": {},
     "output_type": "display_data"
    },
    {
     "name": "stderr",
     "output_type": "stream",
     "text": [
      "//anaconda/envs/python3/lib/python3.6/site-packages/matplotlib/axes/_axes.py:545: UserWarning: No labelled objects found. Use label='...' kwarg on individual plots.\n",
      "  warnings.warn(\"No labelled objects found. \"\n"
     ]
    },
    {
     "data": {
      "image/png": "[encoded data removed]",
      "text/plain": [
       "<matplotlib.figure.Figure at 0x11bc4bef0>"
      ]
     },
     "metadata": {
      "needs_background": "light"
     },
     "output_type": "display_data"
    },
    {
     "name": "stderr",
     "output_type": "stream",
     "text": [
      "ERROR:nengo_gui.server:Error response\n",
      "Traceback (most recent call last):\n",
      "  File \"/Users/celiasmi/Documents/nengo/nengo_gui/nengo_gui/server.py\", line 412, in do_GET\n",
      "    self.http_GET()\n",
      "  File \"/Users/celiasmi/Documents/nengo/nengo_gui/nengo_gui/guibackend.py\", line 137, in http_GET\n",
      "    server.HttpWsRequestHandler.http_GET(self)\n",
      "  File \"/Users/celiasmi/Documents/nengo/nengo_gui/nengo_gui/server.py\", line 428, in http_GET\n",
      "    response = getattr(self, command)()\n",
      "  File \"/Users/celiasmi/Documents/nengo/nengo_gui/nengo_gui/guibackend.py\", line 86, in auth_checked\n",
      "    return fn(inst)\n",
      "  File \"/Users/celiasmi/Documents/nengo/nengo_gui/nengo_gui/guibackend.py\", line 233, in serve_main\n",
      "    page = self.server.create_page(filename, reset_cfg=reset_cfg)\n",
      "  File \"/Users/celiasmi/Documents/nengo/nengo_gui/nengo_gui/guibackend.py\", line 457, in create_page\n",
      "    reset_cfg=reset_cfg)\n",
      "  File \"/Users/celiasmi/Documents/nengo/nengo_gui/nengo_gui/page.py\", line 114, in __init__\n",
      "    self.load()\n",
      "  File \"/Users/celiasmi/Documents/nengo/nengo_gui/nengo_gui/page.py\", line 172, in load\n",
      "    self.name_finder = nengo_gui.NameFinder(self.locals, self.model)\n",
      "  File \"/Users/celiasmi/Documents/nengo/nengo_gui/nengo_gui/namefinder.py\", line 13, in __init__\n",
      "    self.find_names(net)\n",
      "  File \"/Users/celiasmi/Documents/nengo/nengo_gui/nengo_gui/namefinder.py\", line 16, in find_names\n",
      "    net_name = self.known_name[net]\n",
      "KeyError: <Network \"Ensemble Array\" at 0x11e787400>\n",
      "ERROR:nengo_gui.server:Error response\n",
      "Traceback (most recent call last):\n",
      "  File \"/Users/celiasmi/Documents/nengo/nengo_gui/nengo_gui/server.py\", line 412, in do_GET\n",
      "    self.http_GET()\n",
      "  File \"/Users/celiasmi/Documents/nengo/nengo_gui/nengo_gui/guibackend.py\", line 137, in http_GET\n",
      "    server.HttpWsRequestHandler.http_GET(self)\n",
      "  File \"/Users/celiasmi/Documents/nengo/nengo_gui/nengo_gui/server.py\", line 428, in http_GET\n",
      "    response = getattr(self, command)()\n",
      "  File \"/Users/celiasmi/Documents/nengo/nengo_gui/nengo_gui/guibackend.py\", line 86, in auth_checked\n",
      "    return fn(inst)\n",
      "  File \"/Users/celiasmi/Documents/nengo/nengo_gui/nengo_gui/guibackend.py\", line 233, in serve_main\n",
      "    page = self.server.create_page(filename, reset_cfg=reset_cfg)\n",
      "  File \"/Users/celiasmi/Documents/nengo/nengo_gui/nengo_gui/guibackend.py\", line 457, in create_page\n",
      "    reset_cfg=reset_cfg)\n",
      "  File \"/Users/celiasmi/Documents/nengo/nengo_gui/nengo_gui/page.py\", line 114, in __init__\n",
      "    self.load()\n",
      "  File \"/Users/celiasmi/Documents/nengo/nengo_gui/nengo_gui/page.py\", line 172, in load\n",
      "    self.name_finder = nengo_gui.NameFinder(self.locals, self.model)\n",
      "  File \"/Users/celiasmi/Documents/nengo/nengo_gui/nengo_gui/namefinder.py\", line 13, in __init__\n",
      "    self.find_names(net)\n",
      "  File \"/Users/celiasmi/Documents/nengo/nengo_gui/nengo_gui/namefinder.py\", line 16, in find_names\n",
      "    net_name = self.known_name[net]\n",
      "KeyError: <Network \"Oscillator\" at 0x11e515400>\n",
      "ERROR:nengo_gui.server:Error response\n",
      "Traceback (most recent call last):\n",
      "  File \"/Users/celiasmi/Documents/nengo/nengo_gui/nengo_gui/server.py\", line 412, in do_GET\n",
      "    self.http_GET()\n",
      "  File \"/Users/celiasmi/Documents/nengo/nengo_gui/nengo_gui/guibackend.py\", line 137, in http_GET\n",
      "    server.HttpWsRequestHandler.http_GET(self)\n",
      "  File \"/Users/celiasmi/Documents/nengo/nengo_gui/nengo_gui/server.py\", line 428, in http_GET\n",
      "    response = getattr(self, command)()\n",
      "  File \"/Users/celiasmi/Documents/nengo/nengo_gui/nengo_gui/guibackend.py\", line 86, in auth_checked\n",
      "    return fn(inst)\n",
      "  File \"/Users/celiasmi/Documents/nengo/nengo_gui/nengo_gui/guibackend.py\", line 233, in serve_main\n",
      "    page = self.server.create_page(filename, reset_cfg=reset_cfg)\n",
      "  File \"/Users/celiasmi/Documents/nengo/nengo_gui/nengo_gui/guibackend.py\", line 457, in create_page\n",
      "    reset_cfg=reset_cfg)\n",
      "  File \"/Users/celiasmi/Documents/nengo/nengo_gui/nengo_gui/page.py\", line 114, in __init__\n",
      "    self.load()\n",
      "  File \"/Users/celiasmi/Documents/nengo/nengo_gui/nengo_gui/page.py\", line 172, in load\n",
      "    self.name_finder = nengo_gui.NameFinder(self.locals, self.model)\n",
      "  File \"/Users/celiasmi/Documents/nengo/nengo_gui/nengo_gui/namefinder.py\", line 13, in __init__\n",
      "    self.find_names(net)\n",
      "  File \"/Users/celiasmi/Documents/nengo/nengo_gui/nengo_gui/namefinder.py\", line 16, in find_names\n",
      "    net_name = self.known_name[net]\n",
      "KeyError: <Network \"HighD Working Memory\" at 0x11e326160>\n",
      "ERROR:nengo_gui.server:Error response\n",
      "Traceback (most recent call last):\n",
      "  File \"/Users/celiasmi/Documents/nengo/nengo_gui/nengo_gui/server.py\", line 412, in do_GET\n",
      "    self.http_GET()\n",
      "  File \"/Users/celiasmi/Documents/nengo/nengo_gui/nengo_gui/guibackend.py\", line 137, in http_GET\n",
      "    server.HttpWsRequestHandler.http_GET(self)\n",
      "  File \"/Users/celiasmi/Documents/nengo/nengo_gui/nengo_gui/server.py\", line 428, in http_GET\n",
      "    response = getattr(self, command)()\n",
      "  File \"/Users/celiasmi/Documents/nengo/nengo_gui/nengo_gui/guibackend.py\", line 86, in auth_checked\n",
      "    return fn(inst)\n",
      "  File \"/Users/celiasmi/Documents/nengo/nengo_gui/nengo_gui/guibackend.py\", line 233, in serve_main\n",
      "    page = self.server.create_page(filename, reset_cfg=reset_cfg)\n",
      "  File \"/Users/celiasmi/Documents/nengo/nengo_gui/nengo_gui/guibackend.py\", line 457, in create_page\n",
      "    reset_cfg=reset_cfg)\n",
      "  File \"/Users/celiasmi/Documents/nengo/nengo_gui/nengo_gui/page.py\", line 114, in __init__\n",
      "    self.load()\n",
      "  File \"/Users/celiasmi/Documents/nengo/nengo_gui/nengo_gui/page.py\", line 172, in load\n",
      "    self.name_finder = nengo_gui.NameFinder(self.locals, self.model)\n",
      "  File \"/Users/celiasmi/Documents/nengo/nengo_gui/nengo_gui/namefinder.py\", line 13, in __init__\n",
      "    self.find_names(net)\n",
      "  File \"/Users/celiasmi/Documents/nengo/nengo_gui/nengo_gui/namefinder.py\", line 16, in find_names\n",
      "    net_name = self.known_name[net]\n",
      "KeyError: <Network \"Associative Memory\" at 0x11cde39e8>\n"
     ]
    }
   ],
   "source": [
    "sim = nengo.Simulator(model)\n",
    "sim.run(3.)\n",
    "\n",
    "plt.figure(figsize=(10, 10))\n",
    "vocab = model.vocabs[dimensions]\n",
    "\n",
    "plt.subplot(2, 1, 1)\n",
    "plt.plot(sim.trange(), spa.similarity(sim.data[colour_in_p], vocab))\n",
    "plt.legend(vocab.keys(), fontsize='x-small')\n",
    "plt.ylabel(\"colour\")\n",
    "\n",
    "plt.subplot(2, 1, 2)\n",
    "plt.plot(sim.trange(), spa.similarity(sim.data[mem_p], vocab))\n",
    "plt.legend(fontsize='x-small')\n",
    "plt.legend(vocab.keys(), fontsize='x-small')\n",
    "plt.ylabel(\"memory\")\n",
    "plt.xlabel(\"time [s]\");"
   ]
  },
  {
   "cell_type": "markdown",
   "metadata": {
    "slideshow": {
     "slide_type": "subslide"
    }
   },
   "source": [
    "- By making the recurrent connection greater than one we made whatever is in memory 'grow' over time\n",
    "- This gives a 'primacy' effect\n",
    "    - i.e. Whatever you ran into first is what you remember\n",
    "    - You could also get this by changing connection weights    \n"
   ]
  },
  {
   "cell_type": "markdown",
   "metadata": {
    "slideshow": {
     "slide_type": "subslide"
    }
   },
   "source": [
    "- Together, primacy and recency capture the most salient properties of human working memory\n",
    "- You see these effects in both 'free recall' and 'serial recall'\n",
    "\n",
    "<img src=\"lecture_memory/human_wm.png\" width=\"400\">\n",
    "\n",
    "- So far, the networks we've seen would work well for free recall presumably.\n",
    "    - How to include order information?"
   ]
  },
  {
   "cell_type": "markdown",
   "metadata": {
    "slideshow": {
     "slide_type": "slide"
    }
   },
   "source": [
    "## Serial Working Memory\n",
    "\n",
    "- An ordered list is a very simple kind of structure\n",
    "- To represent structures, we can use what we learned last time: vector binding\n",
    "    - Specifically, Semantic Pointers\n",
    "    \n",
    "- In this case, we can do something like:\n",
    "\n",
    "$Pos_0\\circledast Item_0 + Pos_1\\circledast Item_1 + ...$\n",
    "\n",
    "- The $Item$ can just whatever vector we want to remember\n",
    "- How should we generate $Pos$?  What features does it need?\n",
    "    - It would be good if we could generate them on the fly, forever\n",
    "    - It would be good if $Pos_0$ \"came before\" $Pos_1$ in some sense\n",
    "\n",
    "    "
   ]
  },
  {
   "cell_type": "markdown",
   "metadata": {
    "slideshow": {
     "slide_type": "subslide"
    }
   },
   "source": [
    "- There is a kind of vector that's ideal for this called a 'unitary vector'\n",
    "    - A unitary vector does not change length when convolved\n",
    "        - So, you can convolve forever\n",
    "    - The convolution of a unitary vector with itself is 'unlike' the original vector\n",
    "        - So, you can go fwd/backward with convolution/correlation\n",
    "- This gives a way of 'counting' positions:\n",
    "    - $Pos_0 \\circledast PlusOne = Pos_1$\n",
    "    - $Pos_1 \\circledast PlusOne = Pos_2$\n",
    "    - $Pos_2 \\circledast PlusOne = Pos_3$\n",
    "    - etc.\n",
    "    - And, $Pos_3 \\circledast PlusOne' = Pos_2$"
   ]
  },
  {
   "cell_type": "markdown",
   "metadata": {
    "slideshow": {
     "slide_type": "subslide"
    }
   },
   "source": [
    "\n",
    "- We can put this representation together with primacy and recency, and we get something like this\n",
    "\n",
    "<img src=\"lecture_memory/wm_model.png\">\n",
    "\n",
    "- To do 'recall' from this representation, we want to remember what we've already recalled, so we can add a circuit like this\n",
    "\n",
    "<img src=\"lecture_memory/wm_recall.png\">\n",
    "\n"
   ]
  },
  {
   "cell_type": "markdown",
   "metadata": {
    "slideshow": {
     "slide_type": "subslide"
    }
   },
   "source": [
    "- This does a pretty good job of capturing lots of working memory data\n",
    "\n",
    "<img src=\"lecture_memory/model_data1.png\">\n",
    "\n"
   ]
  },
  {
   "cell_type": "markdown",
   "metadata": {
    "slideshow": {
     "slide_type": "subslide"
    }
   },
   "source": [
    "- Order effects\n",
    "\n",
    "<img src=\"lecture_memory/model_data2.png\">\n",
    "\n"
   ]
  },
  {
   "cell_type": "markdown",
   "metadata": {
    "slideshow": {
     "slide_type": "subslide"
    }
   },
   "source": [
    "- Error probability of items in the list (closer items are more likely to be incorrect, unless you change similarity between items)\n",
    "\n",
    "<img src=\"lecture_memory/model_data3.png\">\n",
    "\n",
    "\n",
    "\n"
   ]
  },
  {
   "cell_type": "markdown",
   "metadata": {
    "slideshow": {
     "slide_type": "subslide"
    }
   },
   "source": [
    "- Item similarity effects\n",
    "\n",
    "<img src=\"lecture_memory/model_data4.png\">\n",
    "\n"
   ]
  },
  {
   "cell_type": "markdown",
   "metadata": {
    "slideshow": {
     "slide_type": "subslide"
    }
   },
   "source": [
    "- Arbitrary list lengths\n",
    "\n",
    "- This model can actually do lots more as well\n",
    "    - backwards recall, etc.\n",
    "- A slight variation does free recall\n",
    "    - you have to include non-bound item representations as well\n",
    "- You'll notice that it relies on a 'clean-up' \n",
    "    - This is a kind of long term memory\n",
    "    - We saw this show up before when talking about symbols\n",
    "    - How can we build such a thing in spiking neurons?"
   ]
  },
  {
   "cell_type": "markdown",
   "metadata": {
    "slideshow": {
     "slide_type": "slide"
    }
   },
   "source": [
    "## Long term memory\n",
    "\n",
    "\n",
    "- In order for memories to be stable over the long term, they must be encoded in connection weights\n",
    "- These kind of memories are often called 'associative memories'\n",
    "    - Auto-associative: recall the same thing you're shown\n",
    "        - e.g. for noise reduction\n",
    "        - pattern completion\n",
    "    - Hetero-associative: recall some arbitrary association\n",
    "        - e.g. for capturing domain relationships\n",
    "        - reasoning\n",
    "        \n"
   ]
  },
  {
   "cell_type": "markdown",
   "metadata": {
    "slideshow": {
     "slide_type": "subslide"
    }
   },
   "source": [
    "- Typical solutions in ANNs are \n",
    "    - Hopfield networks: A many-point attractor network\n",
    "    - Linear associators: Do SVD on the input/output to get a weight matrix\n",
    "    - Multi-layer Perceptron (MLP): Use backprop to train a network to compute the feedfwd mapping\n",
    "\n",
    "<img src=\"lecture_memory/hopfield.png\">\n",
    "\n",
    "\n"
   ]
  },
  {
   "cell_type": "markdown",
   "metadata": {
    "slideshow": {
     "slide_type": "subslide"
    }
   },
   "source": [
    "- Often worried about how to learn these\n",
    "    - We'll talk about learning in a later lecture\n",
    "    - Often the learning is so un-'biologically plausible' that it's best thought of as an optimization (like least squares in the NEF).\n",
    "    \n",
    "- How to compute these kinds of mappings with the NEF/SPA?\n",
    "    - We want to 'recognize' specific vectors (in a vocabulary)\n",
    "    - We want only some neurons to fire when a given vector is present (sparse)\n",
    "    - We want to activate a given output vector if the input is recognized\n",
    "    \n"
   ]
  },
  {
   "cell_type": "markdown",
   "metadata": {
    "slideshow": {
     "slide_type": "subslide"
    }
   },
   "source": [
    "- Can do it in one layer with a feedforward approach\n",
    "    - Set the encoding vectors of some small set of neurons to be a vocabulary item\n",
    "        - That will pick out specific vectors\n",
    "    - Set the intercepts of neurons to be high in the positive direction\n",
    "        - So they will only fire if there is 'enough' of that vector in the input\n",
    "    - Set the linear transformation on the output of those neurons to be the desired output vector\n",
    "        - Since these are in the weights, the output will perfectly represent the desired output\n",
    "        \n",
    "- We've seen several techniques that will make this easy\n",
    "    - Ensemble arrays: For collecting lots of small populations together\n",
    "    - SPA module: For defining vocabs, etc."
   ]
  },
  {
   "cell_type": "code",
   "execution_count": 92,
   "metadata": {
    "slideshow": {
     "slide_type": "subslide"
    }
   },
   "outputs": [],
   "source": [
    "import nengo\n",
    "import nengo_spa as spa\n",
    "\n",
    "D = 32\n",
    "seed = 1\n",
    "model = spa.Network(\"Associative Memory\", seed=seed)\n",
    "\n",
    "vocab = spa.Vocabulary(dimensions=D, \n",
    "                       pointer_gen=np.random.RandomState(seed + 1))\n",
    "\n",
    "words = ['RED', 'GREEN', 'BLUE']\n",
    "vocab.populate(';'.join(words))\n",
    "\n",
    "#noise_RED = vocab.parse(\"RED\").v + .4*np.random.randn(D)\n",
    "noise_RED = vocab.parse(\"RED\").v + .2*vocab.parse(\"GREEN\").v + .2*np.random.randn(D)\n",
    "noise_RED = noise_RED/np.linalg.norm(noise_RED)\n",
    "\n",
    "noise_GREEN = vocab.parse(\"GREEN\").v + .2*np.random.randn(D)\n",
    "noise_GREEN = noise_GREEN/np.linalg.norm(noise_GREEN)\n",
    "\n",
    "def memory_input(t):\n",
    "    if t < 0.2:\n",
    "        return vocab.parse(\"BLUE\").v\n",
    "    elif .2 < t < .5:\n",
    "        return noise_RED\n",
    "    elif .5 < t < .8:\n",
    "        return vocab.parse(\"RED\").v\n",
    "    elif .8 < t < 1:\n",
    "        return noise_GREEN\n",
    "    else:\n",
    "        return vocab.parse(\"0\").v\n",
    "\n",
    "with model:\n",
    "    stim = spa.Transcode(memory_input, label='input', output_vocab=vocab)\n",
    "    am = spa.ThresholdingAssocMem(threshold=0.3, input_vocab=vocab,\n",
    "                                    mapping=vocab.keys())\n",
    "    \n",
    "    stim >> am\n",
    "\n",
    "    in_p = nengo.Probe(stim.output)\n",
    "    out_p = nengo.Probe(am.output, synapse=0.03)\n",
    "\n"
   ]
  },
  {
   "cell_type": "code",
   "execution_count": 94,
   "metadata": {
    "slideshow": {
     "slide_type": "subslide"
    }
   },
   "outputs": [
    {
     "name": "stderr",
     "output_type": "stream",
     "text": [
      "/Users/celiasmi/Documents/nengo/nengo_gui/nengo_gui/jupyter.py:69: ConfigReuseWarning: Reusing config. Only the most recent visualization will update the config.\n",
      "  \"Reusing config. Only the most recent visualization will \"\n"
     ]
    },
    {
     "data": {
      "text/html": [
       "\n",
       "            <script type=\"text/javascript\" id=\"d31b64db-4537-4336-b3bf-6dd9c65a217f\">\n",
       "            {\n",
       "                let req = new XMLHttpRequest();\n",
       "                req.addEventListener(\"load\", function() {\n",
       "                    if (this.status != 200 && this.response != 'OK') {\n",
       "                        let p = document.getElementById('d31b64db-4537-4336-b3bf-6dd9c65a217f').parentNode;\n",
       "                        p.innerHTML +=\n",
       "                            'The nengo_gui.jupyter notebook server ' +\n",
       "                            'extension was not loaded. Please activate it ' +\n",
       "                            'with the following command:' +\n",
       "                            '<pre>jupyter serverextension enable ' +\n",
       "                            'nengo_gui.jupyter</pre>';\n",
       "                        p.classList.add('output_stderr');\n",
       "                    }\n",
       "                });\n",
       "                req.open('GET', './nengo/check', true);\n",
       "                req.send();\n",
       "            }\n",
       "            </script>\n",
       "        "
      ],
      "text/plain": [
       "<IPython.core.display.HTML object>"
      ]
     },
     "metadata": {},
     "output_type": "display_data"
    },
    {
     "data": {
      "application/vdom.v1+json": {
       "attributes": {
        "id": "99d0f4ca-3808-4d83-a191-703b122bc131"
       },
       "children": [
        {
         "attributes": {
          "allowfullscreen": "allowfullscreen",
          "class": "cell",
          "frameborder": "0",
          "height": "600",
          "src": "./nengo/55684/?token=689e9793662b3923b0b9c6d1c17442d9a4bfa6fe28835143",
          "style": {
           "border": "1px solid #eee",
           "boxSizing": "border-box"
          },
          "width": "100%"
         },
         "tagName": "iframe"
        }
       ],
       "tagName": "div"
      },
      "text/html": [
       "\n",
       "                <div id=\"3e5fa75f-587e-4215-b3b5-a2272b1aa23b\">\n",
       "                    <iframe\n",
       "                        src=\"./nengo/55684/?token=689e9793662b3923b0b9c6d1c17442d9a4bfa6fe28835143\"\n",
       "                        width=\"100%\"\n",
       "                        height=\"600\"\n",
       "                        frameborder=\"0\"\n",
       "                        class=\"cell\"\n",
       "                        style=\"border: 1px solid #eee; box-sizing: border-box;\"\n",
       "                        allowfullscreen></iframe>\n",
       "                </div>\n",
       "            "
      ]
     },
     "metadata": {},
     "output_type": "display_data"
    }
   ],
   "source": [
    "from nengo_gui.ipython import IPythonViz\n",
    "IPythonViz(model, \"configs/simple_cleanup.py.cfg\")"
   ]
  },
  {
   "cell_type": "code",
   "execution_count": 93,
   "metadata": {
    "slideshow": {
     "slide_type": "subslide"
    }
   },
   "outputs": [
    {
     "data": {
      "text/html": [
       "\n",
       "                <div id=\"af6596da-1e7b-4a10-afc0-908f5e9ab3a7\" style=\"\n",
       "                    width: 100%;\n",
       "                    border: 1px solid #cfcfcf;\n",
       "                    border-radius: 4px;\n",
       "                    text-align: center;\n",
       "                    position: relative;\">\n",
       "                  <div class=\"pb-text\" style=\"\n",
       "                      position: absolute;\n",
       "                      width: 100%;\">\n",
       "                    0%\n",
       "                  </div>\n",
       "                  <div class=\"pb-fill\" style=\"\n",
       "                      background-color: #bdd2e6;\n",
       "                      width: 0%;\">\n",
       "                    <style type=\"text/css\" scoped=\"scoped\">\n",
       "                        @keyframes pb-fill-anim {\n",
       "                            0% { background-position: 0 0; }\n",
       "                            100% { background-position: 100px 0; }\n",
       "                        }\n",
       "                    </style>\n",
       "                    &nbsp;\n",
       "                  </div>\n",
       "                </div>"
      ],
      "text/plain": [
       "HtmlProgressBar cannot be displayed. Please use the TerminalProgressBar. It can be enabled with `nengo.rc.set('progress', 'progress_bar', 'nengo.utils.progress.TerminalProgressBar')`."
      ]
     },
     "metadata": {},
     "output_type": "display_data"
    },
    {
     "data": {
      "application/javascript": [
       "\n",
       "              (function () {\n",
       "                  var root = document.getElementById('af6596da-1e7b-4a10-afc0-908f5e9ab3a7');\n",
       "                  var text = root.getElementsByClassName('pb-text')[0];\n",
       "                  var fill = root.getElementsByClassName('pb-fill')[0];\n",
       "\n",
       "                  text.innerHTML = 'Build finished in 0:00:01.';\n",
       "                  \n",
       "            fill.style.width = '100%';\n",
       "            fill.style.animation = 'pb-fill-anim 2s linear infinite';\n",
       "            fill.style.backgroundSize = '100px 100%';\n",
       "            fill.style.backgroundImage = 'repeating-linear-gradient(' +\n",
       "                '90deg, #bdd2e6, #edf2f8 40%, #bdd2e6 80%, #bdd2e6)';\n",
       "        \n",
       "                  \n",
       "                fill.style.animation = 'none';\n",
       "                fill.style.backgroundImage = 'none';\n",
       "            \n",
       "              })();\n",
       "        "
      ],
      "text/plain": [
       "<IPython.core.display.Javascript object>"
      ]
     },
     "metadata": {},
     "output_type": "display_data"
    },
    {
     "data": {
      "text/html": [
       "\n",
       "                <div id=\"5ed1fb15-e6c9-4dbf-8f8c-c72201cc707d\" style=\"\n",
       "                    width: 100%;\n",
       "                    border: 1px solid #cfcfcf;\n",
       "                    border-radius: 4px;\n",
       "                    text-align: center;\n",
       "                    position: relative;\">\n",
       "                  <div class=\"pb-text\" style=\"\n",
       "                      position: absolute;\n",
       "                      width: 100%;\">\n",
       "                    0%\n",
       "                  </div>\n",
       "                  <div class=\"pb-fill\" style=\"\n",
       "                      background-color: #bdd2e6;\n",
       "                      width: 0%;\">\n",
       "                    <style type=\"text/css\" scoped=\"scoped\">\n",
       "                        @keyframes pb-fill-anim {\n",
       "                            0% { background-position: 0 0; }\n",
       "                            100% { background-position: 100px 0; }\n",
       "                        }\n",
       "                    </style>\n",
       "                    &nbsp;\n",
       "                  </div>\n",
       "                </div>"
      ],
      "text/plain": [
       "HtmlProgressBar cannot be displayed. Please use the TerminalProgressBar. It can be enabled with `nengo.rc.set('progress', 'progress_bar', 'nengo.utils.progress.TerminalProgressBar')`."
      ]
     },
     "metadata": {},
     "output_type": "display_data"
    },
    {
     "data": {
      "application/javascript": [
       "\n",
       "              (function () {\n",
       "                  var root = document.getElementById('5ed1fb15-e6c9-4dbf-8f8c-c72201cc707d');\n",
       "                  var text = root.getElementsByClassName('pb-text')[0];\n",
       "                  var fill = root.getElementsByClassName('pb-fill')[0];\n",
       "\n",
       "                  text.innerHTML = 'Simulation finished in 0:00:02.';\n",
       "                  \n",
       "            if (100.0 > 0.) {\n",
       "                fill.style.transition = 'width 0.1s linear';\n",
       "            } else {\n",
       "                fill.style.transition = 'none';\n",
       "            }\n",
       "\n",
       "            fill.style.width = '100.0%';\n",
       "            fill.style.animation = 'none';\n",
       "            fill.style.backgroundImage = 'none'\n",
       "        \n",
       "                  \n",
       "                fill.style.animation = 'none';\n",
       "                fill.style.backgroundImage = 'none';\n",
       "            \n",
       "              })();\n",
       "        "
      ],
      "text/plain": [
       "<IPython.core.display.Javascript object>"
      ]
     },
     "metadata": {},
     "output_type": "display_data"
    },
    {
     "data": {
      "image/png": "[encoded data removed]",
      "text/plain": [
       "<matplotlib.figure.Figure at 0x122ac54a8>"
      ]
     },
     "metadata": {
      "needs_background": "light"
     },
     "output_type": "display_data"
    }
   ],
   "source": [
    "# Notice that the magnitude of the cleaned element is preserved, but others are \n",
    "# all made closer to or less than zero. The output is thus more 'purely' the target vector.\n",
    "# Could put another threshold after to boost to one.\n",
    "sim = nengo.Simulator(model)\n",
    "sim.run(1.2)\n",
    "t = sim.trange()\n",
    "\n",
    "figure(figsize=(10,10))\n",
    "plt.subplot(2, 1, 1)\n",
    "plt.plot(t, spa.similarity(sim.data[in_p], vocab))\n",
    "plt.ylabel(\"Input\")\n",
    "plt.ylim(top=1.1)\n",
    "plt.legend(vocab.keys(), loc='best')\n",
    "plt.subplot(2, 1, 2)\n",
    "plt.plot(t, spa.similarity(sim.data[out_p], vocab))\n",
    "plt.ylabel(\"Output\")\n",
    "plt.legend(vocab.keys(), loc='best');"
   ]
  },
  {
   "cell_type": "markdown",
   "metadata": {
    "slideshow": {
     "slide_type": "subslide"
    }
   },
   "source": [
    "- This implementation has several nice features\n",
    "    - Extremely fast (1 synapse feedforward ~ 5ms)\n",
    "    - Fully spiking, integrates with SPA models\n",
    "    - Scales very well\n",
    "    \n",
    "<img src=\"lecture_memory/cleanup.png\" width=\"500\">\n",
    "\n",
    "- Scaling properties of a neural clean-up memory. \n",
    "    - A SP is formed by binding $k$ pairs of random SPs and adding \n",
    "    - Binding to random probes from that set. \n",
    "    - Figure shows the minimum number of dimensions required to recover a lexical item from the input 99% of the time. \n",
    "    - Averages over 200 simulations for each combination of $k$, $M$, and $D$ values. \n",
    "    - Vertical dashed line is approximate size of an adult lexicon. \n",
    "    - Horizontal dashed lines show the performance of a non-neural clean-up directly implementing the algorithm."
   ]
  },
  {
   "cell_type": "markdown",
   "metadata": {
    "slideshow": {
     "slide_type": "slide"
    }
   },
   "source": [
    "## SPA Example\n",
    "\n",
    "- This is the same example as for the symbols lecture, but with a working memory\n",
    "    - The WM is just a single attractor network\n",
    "    - The model is supposed to memorize the bound inputs and then answer questions about what is bound to what"
   ]
  },
  {
   "cell_type": "code",
   "execution_count": 98,
   "metadata": {
    "slideshow": {
     "slide_type": "subslide"
    }
   },
   "outputs": [
    {
     "name": "stderr",
     "output_type": "stream",
     "text": [
      "//anaconda/envs/python3/lib/python3.6/site-packages/IPython/core/magics/pylab.py:160: UserWarning: pylab import has clobbered these variables: ['seed']\n",
      "`%matplotlib` prevents importing * from pylab and numpy\n",
      "  \"\\n`%matplotlib` prevents importing * from pylab and numpy\"\n"
     ]
    }
   ],
   "source": [
    "%pylab inline\n",
    "import nengo\n",
    "import nengo_spa as spa\n",
    "\n",
    "def colour_input(t):\n",
    "    if t < 0.25:\n",
    "        return 'RED'\n",
    "    elif t < 0.5:\n",
    "        return 'BLUE'\n",
    "    else:\n",
    "        return '0'\n",
    "\n",
    "def shape_input(t):\n",
    "    if t < 0.25:\n",
    "        return 'CIRCLE'\n",
    "    elif t < 0.5:\n",
    "        return 'SQUARE'\n",
    "    else:\n",
    "        return '0'\n",
    "\n",
    "def cue_input(t):\n",
    "    if t < 0.5:\n",
    "        return '0'\n",
    "    sequence = ['0', 'CIRCLE', 'RED', '0', 'SQUARE', 'BLUE']\n",
    "    idx = int(((t - 0.5) // (1. / len(sequence))) % len(sequence))\n",
    "    return sequence[idx]\n",
    "\n",
    "# Number of dimensions for the Semantic Pointers\n",
    "D = 32\n",
    "seed = 4\n",
    "\n",
    "vocab = spa.Vocabulary(dimensions=D, \n",
    "                       pointer_gen=np.random.RandomState(seed))\n",
    "\n",
    "words = ['RED', 'SQUARE', 'BLUE', 'CIRCLE']\n",
    "vocab.populate(';'.join(words))\n",
    "\n",
    "model = spa.Network(label=\"Question answering with memory\")\n",
    "\n",
    "with model:\n",
    "    colour_in = spa.Transcode(colour_input, output_vocab=vocab)\n",
    "    shape_in = spa.Transcode(shape_input, output_vocab=vocab)\n",
    "    cue = spa.Transcode(cue_input, output_vocab=vocab, label=\"cue\")    \n",
    "    \n",
    "    conv = spa.State(vocab, subdimensions=4, \n",
    "                     feedback=1., \n",
    "                     feedback_synapse=0.4,\n",
    "                    label=\"memory\")\n",
    "    #out = spa.State(vocab)\n",
    "    out = spa.ThresholdingAssocMem(threshold=0.3, input_vocab=vocab,\n",
    "                                    mapping=vocab.keys(), label=\"clean up\")    \n",
    "\n",
    "    # Connect the buffers\n",
    "    colour_in * shape_in >> conv\n",
    "    conv * ~cue >> out \n",
    "    \n",
    "with model:\n",
    "    model.config[nengo.Probe].synapse = nengo.Lowpass(0.03)\n",
    "    p_colour_in = nengo.Probe(colour_in.output)\n",
    "    p_shape_in = nengo.Probe(shape_in.output)\n",
    "    p_cue = nengo.Probe(cue.output)\n",
    "    p_conv = nengo.Probe(conv.output)\n",
    "    p_out = nengo.Probe(out.output)"
   ]
  },
  {
   "cell_type": "code",
   "execution_count": 99,
   "metadata": {
    "slideshow": {
     "slide_type": "subslide"
    }
   },
   "outputs": [
    {
     "name": "stderr",
     "output_type": "stream",
     "text": [
      "/Users/celiasmi/Documents/nengo/nengo_gui/nengo_gui/jupyter.py:69: ConfigReuseWarning: Reusing config. Only the most recent visualization will update the config.\n",
      "  \"Reusing config. Only the most recent visualization will \"\n"
     ]
    },
    {
     "data": {
      "text/html": [
       "\n",
       "            <script type=\"text/javascript\" id=\"f7580a51-689e-4189-82b5-4870838f301a\">\n",
       "            {\n",
       "                let req = new XMLHttpRequest();\n",
       "                req.addEventListener(\"load\", function() {\n",
       "                    if (this.status != 200 && this.response != 'OK') {\n",
       "                        let p = document.getElementById('f7580a51-689e-4189-82b5-4870838f301a').parentNode;\n",
       "                        p.innerHTML +=\n",
       "                            'The nengo_gui.jupyter notebook server ' +\n",
       "                            'extension was not loaded. Please activate it ' +\n",
       "                            'with the following command:' +\n",
       "                            '<pre>jupyter serverextension enable ' +\n",
       "                            'nengo_gui.jupyter</pre>';\n",
       "                        p.classList.add('output_stderr');\n",
       "                    }\n",
       "                });\n",
       "                req.open('GET', './nengo/check', true);\n",
       "                req.send();\n",
       "            }\n",
       "            </script>\n",
       "        "
      ],
      "text/plain": [
       "<IPython.core.display.HTML object>"
      ]
     },
     "metadata": {},
     "output_type": "display_data"
    },
    {
     "data": {
      "application/vdom.v1+json": {
       "attributes": {
        "id": "3c5213a8-814e-4485-8671-b9c662b9dc5d"
       },
       "children": [
        {
         "attributes": {
          "allowfullscreen": "allowfullscreen",
          "class": "cell",
          "frameborder": "0",
          "height": "600",
          "src": "./nengo/56008/?token=9ed52bfd6f40fb3bc2fe72bf195132c2f23acd5fd5b194b4",
          "style": {
           "border": "1px solid #eee",
           "boxSizing": "border-box"
          },
          "width": "100%"
         },
         "tagName": "iframe"
        }
       ],
       "tagName": "div"
      },
      "text/html": [
       "\n",
       "                <div id=\"8eea2bee-2068-47c6-9803-840e41a70651\">\n",
       "                    <iframe\n",
       "                        src=\"./nengo/56008/?token=9ed52bfd6f40fb3bc2fe72bf195132c2f23acd5fd5b194b4\"\n",
       "                        width=\"100%\"\n",
       "                        height=\"600\"\n",
       "                        frameborder=\"0\"\n",
       "                        class=\"cell\"\n",
       "                        style=\"border: 1px solid #eee; box-sizing: border-box;\"\n",
       "                        allowfullscreen></iframe>\n",
       "                </div>\n",
       "            "
      ]
     },
     "metadata": {},
     "output_type": "display_data"
    }
   ],
   "source": [
    "from nengo_gui.ipython import IPythonViz\n",
    "IPythonViz(model, \"configs/binding_with_memory.py.cfg\")"
   ]
  },
  {
   "cell_type": "code",
   "execution_count": 96,
   "metadata": {
    "slideshow": {
     "slide_type": "subslide"
    }
   },
   "outputs": [
    {
     "data": {
      "text/html": [
       "\n",
       "                <div id=\"bcbe2cb2-3ff9-41c4-8779-67b6cbc88a64\" style=\"\n",
       "                    width: 100%;\n",
       "                    border: 1px solid #cfcfcf;\n",
       "                    border-radius: 4px;\n",
       "                    text-align: center;\n",
       "                    position: relative;\">\n",
       "                  <div class=\"pb-text\" style=\"\n",
       "                      position: absolute;\n",
       "                      width: 100%;\">\n",
       "                    0%\n",
       "                  </div>\n",
       "                  <div class=\"pb-fill\" style=\"\n",
       "                      background-color: #bdd2e6;\n",
       "                      width: 0%;\">\n",
       "                    <style type=\"text/css\" scoped=\"scoped\">\n",
       "                        @keyframes pb-fill-anim {\n",
       "                            0% { background-position: 0 0; }\n",
       "                            100% { background-position: 100px 0; }\n",
       "                        }\n",
       "                    </style>\n",
       "                    &nbsp;\n",
       "                  </div>\n",
       "                </div>"
      ],
      "text/plain": [
       "HtmlProgressBar cannot be displayed. Please use the TerminalProgressBar. It can be enabled with `nengo.rc.set('progress', 'progress_bar', 'nengo.utils.progress.TerminalProgressBar')`."
      ]
     },
     "metadata": {},
     "output_type": "display_data"
    },
    {
     "data": {
      "application/javascript": [
       "\n",
       "              (function () {\n",
       "                  var root = document.getElementById('bcbe2cb2-3ff9-41c4-8779-67b6cbc88a64');\n",
       "                  var text = root.getElementsByClassName('pb-text')[0];\n",
       "                  var fill = root.getElementsByClassName('pb-fill')[0];\n",
       "\n",
       "                  text.innerHTML = 'Build finished in 0:00:08.';\n",
       "                  \n",
       "            fill.style.width = '100%';\n",
       "            fill.style.animation = 'pb-fill-anim 2s linear infinite';\n",
       "            fill.style.backgroundSize = '100px 100%';\n",
       "            fill.style.backgroundImage = 'repeating-linear-gradient(' +\n",
       "                '90deg, #bdd2e6, #edf2f8 40%, #bdd2e6 80%, #bdd2e6)';\n",
       "        \n",
       "                  \n",
       "                fill.style.animation = 'none';\n",
       "                fill.style.backgroundImage = 'none';\n",
       "            \n",
       "              })();\n",
       "        "
      ],
      "text/plain": [
       "<IPython.core.display.Javascript object>"
      ]
     },
     "metadata": {},
     "output_type": "display_data"
    },
    {
     "data": {
      "text/html": [
       "\n",
       "                <div id=\"43f82667-691f-44ab-9f47-e882961e7cb2\" style=\"\n",
       "                    width: 100%;\n",
       "                    border: 1px solid #cfcfcf;\n",
       "                    border-radius: 4px;\n",
       "                    text-align: center;\n",
       "                    position: relative;\">\n",
       "                  <div class=\"pb-text\" style=\"\n",
       "                      position: absolute;\n",
       "                      width: 100%;\">\n",
       "                    0%\n",
       "                  </div>\n",
       "                  <div class=\"pb-fill\" style=\"\n",
       "                      background-color: #bdd2e6;\n",
       "                      width: 0%;\">\n",
       "                    <style type=\"text/css\" scoped=\"scoped\">\n",
       "                        @keyframes pb-fill-anim {\n",
       "                            0% { background-position: 0 0; }\n",
       "                            100% { background-position: 100px 0; }\n",
       "                        }\n",
       "                    </style>\n",
       "                    &nbsp;\n",
       "                  </div>\n",
       "                </div>"
      ],
      "text/plain": [
       "HtmlProgressBar cannot be displayed. Please use the TerminalProgressBar. It can be enabled with `nengo.rc.set('progress', 'progress_bar', 'nengo.utils.progress.TerminalProgressBar')`."
      ]
     },
     "metadata": {},
     "output_type": "display_data"
    },
    {
     "data": {
      "application/javascript": [
       "\n",
       "              (function () {\n",
       "                  var root = document.getElementById('43f82667-691f-44ab-9f47-e882961e7cb2');\n",
       "                  var text = root.getElementsByClassName('pb-text')[0];\n",
       "                  var fill = root.getElementsByClassName('pb-fill')[0];\n",
       "\n",
       "                  text.innerHTML = 'Simulation finished in 0:00:22.';\n",
       "                  \n",
       "            if (100.0 > 0.) {\n",
       "                fill.style.transition = 'width 0.1s linear';\n",
       "            } else {\n",
       "                fill.style.transition = 'none';\n",
       "            }\n",
       "\n",
       "            fill.style.width = '100.0%';\n",
       "            fill.style.animation = 'none';\n",
       "            fill.style.backgroundImage = 'none'\n",
       "        \n",
       "                  \n",
       "                fill.style.animation = 'none';\n",
       "                fill.style.backgroundImage = 'none';\n",
       "            \n",
       "              })();\n",
       "        "
      ],
      "text/plain": [
       "<IPython.core.display.Javascript object>"
      ]
     },
     "metadata": {},
     "output_type": "display_data"
    },
    {
     "data": {
      "image/png": "[encoded data removed]",
      "text/plain": [
       "<matplotlib.figure.Figure at 0x120841048>"
      ]
     },
     "metadata": {
      "needs_background": "light"
     },
     "output_type": "display_data"
    }
   ],
   "source": [
    "\n",
    "with nengo.Simulator(model) as sim:\n",
    "    sim.run(3.)\n",
    "    \n",
    "plt.figure(figsize=(10, 10))\n",
    "\n",
    "plt.subplot(5, 1, 1)\n",
    "plt.plot(sim.trange(), spa.similarity(sim.data[p_colour_in], vocab))\n",
    "plt.legend(vocab.keys(), fontsize='x-small')\n",
    "plt.ylabel(\"color\")\n",
    "\n",
    "plt.subplot(5, 1, 2)\n",
    "plt.plot(sim.trange(), spa.similarity(sim.data[p_shape_in], vocab))\n",
    "plt.legend(vocab.keys(), fontsize='x-small')\n",
    "plt.ylabel(\"shape\")\n",
    "\n",
    "plt.subplot(5, 1, 3)\n",
    "plt.plot(sim.trange(), spa.similarity(sim.data[p_cue], vocab))\n",
    "plt.legend(vocab.keys(), fontsize='x-small')\n",
    "plt.ylabel(\"cue\")\n",
    "\n",
    "plt.subplot(5, 1, 4)\n",
    "for pointer in ['RED * CIRCLE', 'BLUE * SQUARE']:\n",
    "    plt.plot(sim.trange(), vocab.parse(pointer).dot(sim.data[p_conv].T), label=pointer)\n",
    "plt.legend(fontsize='x-small')\n",
    "plt.ylabel(\"convolved\")\n",
    "\n",
    "plt.subplot(5, 1, 5)\n",
    "plt.plot(sim.trange(), spa.similarity(sim.data[p_out], vocab))\n",
    "plt.legend(vocab.keys(), fontsize='x-small')\n",
    "plt.ylabel(\"Output\")\n",
    "plt.xlabel(\"time [s]\");"
   ]
  },
  {
   "cell_type": "code",
   "execution_count": null,
   "metadata": {
    "collapsed": true
   },
   "outputs": [],
   "source": []
  }
 ],
 "metadata": {
  "celltoolbar": "Slideshow",
  "kernelspec": {
   "display_name": "Python 3",
   "language": "python",
   "name": "python3"
  },
  "language_info": {
   "codemirror_mode": {
    "name": "ipython",
    "version": 3
   },
   "file_extension": ".py",
   "mimetype": "text/x-python",
   "name": "python",
   "nbconvert_exporter": "python",
   "pygments_lexer": "ipython3",
   "version": "3.6.6"
  },
  "livereveal": {
   "scroll": true,
   "start_slideshow_at": "selected"
  }
 },
 "nbformat": 4,
 "nbformat_minor": 1
}
