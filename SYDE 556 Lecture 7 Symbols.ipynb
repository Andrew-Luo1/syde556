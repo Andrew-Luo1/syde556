{
 "cells": [
  {
   "cell_type": "markdown",
   "metadata": {
    "slideshow": {
     "slide_type": "slide"
    }
   },
   "source": [
    "# SYDE 556/750: Simulating Neurobiological Systems\n",
    "\n",
    "### Symbols and symbolic-like representations"
   ]
  },
  {
   "cell_type": "markdown",
   "metadata": {
    "slideshow": {
     "slide_type": "subslide"
    }
   },
   "source": [
    "## Symbols and Symbol-like representation in neurons\n",
    "\n",
    "- We've seen how to represent vectors in neurons\n",
    "    - And how to compute functions on those vectors\n",
    "    - And dynamical systems\n",
    "- But how can we do anything like human language?\n",
    "    - How could we represent the fact that \"the number after 8 is 9\"\n",
    "    - Or \"dogs chase cats\"\n",
    "    - Or \"Anne knows that Bill thinks that Charlie likes Dave\"\n",
    "- Does the NEF help us at all with this?\n",
    "    - Or is this just too hard a problem yet?"
   ]
  },
  {
   "cell_type": "markdown",
   "metadata": {
    "slideshow": {
     "slide_type": "subslide"
    }
   },
   "source": [
    "### Traditional Cognitive Science\n",
    "\n",
    "- Lots of theories that work with structured information like this\n",
    "- Pretty much all of them use some representation framework like this:\n",
    "    - `after(eight, nine)`\n",
    "    - `chase(dogs, cats)`\n",
    "    - `knows(Anne, thinks(Bill, likes(Charlie, Dave)))`\n",
    "\n",
    "- Cognitive models manipulate these sorts of representations\n",
    "    - mental arithmetic\n",
    "    - driving a car\n",
    "    - using a GUI\n",
    "    - parsing language\n",
    "    - etc etc\n",
    "- Seems to match well to behavioural data, so something like this should be right\n",
    "- So how can we do this in neurons?\n",
    "    "
   ]
  },
  {
   "cell_type": "markdown",
   "metadata": {
    "slideshow": {
     "slide_type": "subslide"
    }
   },
   "source": [
    "- This is a hard problem\n",
    "- Jackendoff (2002) posed this as a major problem, identifying four linguistic challenges for cognitive neuroscience\n",
    "    - The Binding Problem\n",
    "    - The Problem of 2\n",
    "    - The Problem of Variables\n",
    "    - Working Memory vs Long-term memory"
   ]
  },
  {
   "cell_type": "markdown",
   "metadata": {
    "slideshow": {
     "slide_type": "subslide"
    }
   },
   "source": [
    "- The Binding Problem\n",
    "    - Suppose you see a red square and a blue circle\n",
    "    - How do you keep these ideas separate?  How does \"red\" get bound with \"square\", and how is it kept separate from \"blue\" and \"circle\"?\n",
    "- The Problem of 2\n",
    "    - \"The little star's beside the big star\"\n",
    "    - How do we keep those two uses of \"star\" separate?\n",
    "- The Problem of Variables\n",
    "    - Words seem to have types (nouns, verbs, adjectives, etc, etc)\n",
    "    - How do you make use of that?  \n",
    "    - E.g. \"blue *NOUN*\" is fine, but \"blue *VERB*\" is not (or is very different)\n",
    "- Working memory vs Long-term memory\n",
    "    - We can both use sentences (working memory) and store them indefinitely (long-term memory)\n",
    "    - How do these transfer back and forth?\n",
    "    - What are they in the brain?  This seems to require moving from storing something in neural activity to storing it in connection weights\n",
    "    "
   ]
  },
  {
   "cell_type": "markdown",
   "metadata": {
    "slideshow": {
     "slide_type": "slide"
    }
   },
   "source": [
    "### Possible solutions\n",
    "\n",
    "1. Oscillations\n",
    "    - \"red square and blue circle\"\n",
    "    - Different patterns of activity for RED, SQUARE, BLUE, and CIRCLE\n",
    "    - Have the patterns for RED and SQUARE happen, then BLUE and CIRCLE, then back to RED and SQUARE\n",
    "    - More complex structures possible too:\n",
    "    - E.g. the LISA architecture\n",
    "    \n",
    "<img src=\"files/lecture_symbols/lisa.png\">\n",
    "\n",
    "- Problems\n",
    "    - What controls this oscillation?\n",
    "    - How is it parsed? (i.e., mapped to sets of oscillators, noise)\n",
    "    - How do we deal with the exponentional explosion of nodes needed?\n",
    "    - How to deal with A*B B*C  (but not C*A)\n"
   ]
  },
  {
   "cell_type": "markdown",
   "metadata": {
    "slideshow": {
     "slide_type": "subslide"
    }
   },
   "source": [
    "'2. Implementing Symbol Systems in Neurons\n",
    "   - Build a general-purpose symbol-binding system\n",
    "   - Lots of temporary pools of neurons\n",
    "   - Ways to temporarily associate them with particular concepts\n",
    "   - Ways to temporarily associate pools together\n",
    "   - Neural Blackboard Architecture\n",
    "    \n",
    "<img src=\"files/lecture_symbols/nba.png\">\n",
    "\n",
    "- Problems\n",
    "    - Very particular structure (doesn't seem to match biology)\n",
    "    - Uses a very large number of neurons (~500 million) to be flexible enough for simple sentences\n",
    "    - And that's just to represent the sentence, never mind controlling and manipulating it\n",
    "    \n"
   ]
  },
  {
   "cell_type": "markdown",
   "metadata": {
    "slideshow": {
     "slide_type": "subslide"
    }
   },
   "source": [
    "'3. Vector operators\n",
    "   - Paul Smolensky [1990](http://verbs.colorado.edu/~llbecker/papers/Smolensky-TensorProductVariableBinding.pdf) suggests using a mathematical operator called a 'tensor product' to bind vectors together.\n",
    "   - The idea is that this operator can 'bind' and its inverse 'unbind' these vectors together.\n",
    "   - It provides an algebraic way of specifying symbolic structures in a vector space.\n",
    "   - If you can represent vector spaces and operators in neurons (e.g. NEF), then it provides a way of working with symbolic structures in neurons.\n",
    "\n",
    "<img src=\"files/lecture_symbols/tensor.png\">\n",
    "\n",
    "- Problems\n",
    "    - Every time you bind vectors, the result has $D^2$ as many dimensions.\n",
    "    - It scales extremely poorly: the dimensionality of a structure representation is the base space to the power of depth, i.e. $D_S = D^{depth+1}$\n",
    "\n"
   ]
  },
  {
   "cell_type": "markdown",
   "metadata": {
    "slideshow": {
     "slide_type": "subslide"
    }
   },
   "source": [
    "### A deeper issue\n",
    "   - If we're just implementing something like the original symbol system in neurons, then we're reducing the neural aspects to *mere implementational details*.\n",
    "   - That is, if we had a perfectly good way to implement symbol structures in neurons, then we could take existing cognitive theories based on symbol structures and implement them in neurons.\n",
    "   - But so what?  That would be conceding the point that the neurons don't matter -- you don't *need* neurons to understand cognition.  \n",
    "        - Sure, they're useful for testing some aspects, like what firing patterns should be.\n",
    "        - But it's more for completeness sake than for a better understanding.\n",
    "        - (Same as wondering how a neuron gets implemented in terms of atoms or quarks. Not that important for function.)\n",
    "   - This is why the majority of cognitive scientists don't worry about neurons."
   ]
  },
  {
   "cell_type": "markdown",
   "metadata": {
    "slideshow": {
     "slide_type": "slide"
    }
   },
   "source": [
    "### Semantic pointers\n",
    "\n",
    "- Tensor products are on the right track, if we can solve the scaling problem.\n",
    "- 'How to build a brain' exploits a compression operator introduced by Tony Plate for cognitive modeling called 'circular convolution' $\\circledast$ (this operator has been used in signal processing for a long time).\n",
    "- In the book, I suggest that neurally realized compressed vector representations are prevalent in the brain, and call such representations 'semantic pointers'.\n",
    "- Pointers: because they can be used like computer science pointers to be efficient references to complex representations.\n",
    "- Semantic: because (unlike CS pointers), their content is derived (through compression) from semantically related representations.\n",
    "\n"
   ]
  },
  {
   "cell_type": "markdown",
   "metadata": {
    "slideshow": {
     "slide_type": "subslide"
    }
   },
   "source": [
    "- This provides something that's similar to the symbolic approach, but much more tied to biology.\n",
    "    - Most of the same capabilities as the classic symbol systems.\n",
    "    - But not all.\n",
    "- Based on vectors and functions on those vectors.\n",
    "    - There is a vector for each concept (and maybe 'sub concepts').\n",
    "    - Build up structures by doing math on those vectors.\n",
    "    \n"
   ]
  },
  {
   "cell_type": "markdown",
   "metadata": {
    "slideshow": {
     "slide_type": "subslide"
    }
   },
   "source": [
    "- Example\n",
    "    - \"blue square and red circle\"\n",
    "    - Can't just do BLUE+SQUARE+RED+CIRCLE.\n",
    "        - Why?\n",
    "    - Need some other operation as well.\n",
    "- Requirements:\n",
    "     - Input 2 vectors, get a new vector as output.\n",
    "     - Reversible (given the output and one of the input vectors, generate the other input vector).\n",
    "     - Output vector is highly dissimilar to either input vector.\n",
    "         - Unlike addition, where the output is highly similar.\n",
    "    "
   ]
  },
  {
   "cell_type": "markdown",
   "metadata": {
    "slideshow": {
     "slide_type": "subslide"
    }
   },
   "source": [
    "- Circular convoluation can act as such a function.\n",
    "    - (There are many other such functions: XOR, Multiply, etc... collectively this kind of vector space binding to represent structures are sometimes called 'Vector Symbolic Architectures' (Gayler, 2003).)\n",
    "<img src=\"lecture_symbols/operators_compare.png\">"
   ]
  },
  {
   "cell_type": "markdown",
   "metadata": {
    "slideshow": {
     "slide_type": "subslide"
    }
   },
   "source": [
    "- Why circular convolution?\n",
    "    - Extensively studied (Plate, 1997: Holographic Reduced Representations).\n",
    "    - Easy to approximately invert (circular correlation).\n",
    "    \n",
    "- Examples:\n",
    "    - `BLUE` $\\circledast$ `SQUARE + RED` $\\circledast$ `CIRCLE`\n",
    "    - `DOG` $\\circledast$ `AGENT + CAT` $\\circledast$ `THEME + VERB` $\\circledast$ `CHASE`\n",
    "\n",
    "<img src=\"files/lecture_symbols/bind.png\">"
   ]
  },
  {
   "cell_type": "markdown",
   "metadata": {
    "slideshow": {
     "slide_type": "subslide"
    }
   },
   "source": [
    "- Unbinding:\n",
    "\n",
    "<img src=\"files/lecture_symbols/unbind.png\">\n",
    "\n",
    "\n",
    "\n"
   ]
  },
  {
   "cell_type": "markdown",
   "metadata": {
    "slideshow": {
     "slide_type": "subslide"
    }
   },
   "source": [
    "- Can also think of this operator as a compressed outer product\n",
    "\n",
    "<img src=\"files/lecture_symbols/circonv.png\">"
   ]
  },
  {
   "cell_type": "markdown",
   "metadata": {
    "slideshow": {
     "slide_type": "subslide"
    }
   },
   "source": [
    "- Lots of nice properties:\n",
    "    - Can store complex structures:\n",
    "         - `after(eight, nine)`\n",
    "         - `NUMBER` $\\circledast$ `EIGHT + NEXT` $\\circledast$ `NINE`\n",
    "         - `knows(Anne, thinks(Bill, likes(Charlie, Dave)))`\n",
    "         - `SUBJ` $\\circledast$ `ANNE + ACT` $\\circledast$ `KNOWS + OBJ` $\\circledast$ `(SUBJ` $\\circledast$ `BILL + ACT` $\\circledast$ `THINKS + OBJ` $\\circledast$ `(SUBJ` $\\circledast$ `CHARLIE + ACT` $\\circledast$ `LIKES + OBJ` $\\circledast$ `DAVE))`\n",
    "    - But gracefully degrades!\n",
    "        - As representation gets more complex, the accuracy of breaking it apart decreases.\n",
    "    - Keeps similarity information.\n",
    "        - If `RED` is similar to `PINK` then `RED` $\\circledast$ `CIRCLE` is similar to `PINK` $\\circledast$ `CIRCLE`.\n",
    "        \n",
    "- But rather complicated:\n",
    "    - Seems like a weird operation for neurons to do."
   ]
  },
  {
   "cell_type": "markdown",
   "metadata": {
    "slideshow": {
     "slide_type": "slide"
    }
   },
   "source": [
    "### Circular convolution in the NEF\n",
    "\n",
    "- Or is it?\n",
    "- Circular convolution is a whole bunch ($D^2$) of multiplies.\n",
    "- Like any convolution, it can also be written as a Fourier transform, an elementwise multiply, and another Fourier transform:\n",
    "    - i.e.  $A \\circledast B = IDFT(DFT(A).DFT(B)))$\n",
    "- The discrete fourier transform is just a linear operation, hence a matrix.\n",
    "- So that's just $D$ pairwise multiplies.\n",
    "- In fact, circular convolution turns out to be *exactly* what the NEF shows neurons are good at (i.e., low order polynomials)."
   ]
  },
  {
   "cell_type": "markdown",
   "metadata": {
    "slideshow": {
     "slide_type": "subslide"
    }
   },
   "source": [
    "### Jackendoff's Challenges\n",
    "\n",
    "- As pointed out in [Vector Symbolic Architectures Answer Jackendoff's Challenges for Cognitive Neuroscience].(http://arxiv.org/ftp/cs/papers/0412/0412059.pdf)\n",
    "- The Binding Problem:\n",
    "    - There is a lot of \"binding\" (structurally combining items) in linguistics (more than vision) .\n",
    "    - `RED` $\\circledast$ `CIRCLE + BLUE` $\\circledast$ `TRIANGLE`\n",
    "    - After it is bound, we can ask \"what color is the circle by doing $\\circledast$ `CIRCLE'`.\n",
    "        - where `'` is \"inverse\".\n",
    "        - (`RED` $\\circledast$ `CIRCLE + BLUE` $\\circledast$ `TRIANGLE`) $\\circledast$ `CIRCLE'`\n",
    "        - = `RED` $\\circledast$ `CIRCLE` $\\circledast$ `CIRCLE' + BLUE` $\\circledast$ `TRIANGLE` $\\circledast$ `CIRCLE'`\n",
    "        - = `RED + BLUE` $\\circledast$ `TRIANGLE` $\\circledast$ `CIRCLE'`\n",
    "        - = `RED + noise`\n",
    "        - $\\approx$ `RED`\n",
    "        \n",
    "- The Problem of 2:\n",
    "    - How can we distinguish two uses of the same concept in a sentence?\n",
    "    - \"The little star's beside the big star.\"\n",
    "    - `OBJ1` $\\circledast$ `(TYPE` $\\circledast$ `STAR + SIZE` $\\circledast$ `LITTLE) + OBJ2` $\\circledast$ `(TYPE` $\\circledast$ `STAR + SIZE` $\\circledast$ `BIG) + BESIDE` $\\circledast$ `OBJ1` $\\circledast$ `OBJ2`\n",
    "        - Notice that `BESIDE` $\\circledast$ `OBJ1` $\\circledast$ `OBJ2` = `BESIDE` $\\circledast$ `OBJ2` $\\circledast$ `OBJ1`\n",
    "        - And that we can distinguish the two uses of star.\n",
    "- The Problem of Variables:\n",
    "    - How can we manipulate abstract place holders?\n",
    "    - `S` = `RED` $\\circledast$ `NOUN`\n",
    "    - `VAR` = `BALL` $\\circledast$ `NOUN'`\n",
    "    - `S` $\\circledast$ `VAR` = `RED` $\\circledast$ `BALL`\n",
    "- Binding in Working Memory vs Long-term memory:\n",
    "    - How can we use and manipulate the same structures in both WM and LTM?\n",
    "    - Vectors are what we work with (activity of neurons).\n",
    "    - Functions are long-term memory (connection weights).\n",
    "    - Functions return (and modify) vectors."
   ]
  },
  {
   "cell_type": "markdown",
   "metadata": {
    "slideshow": {
     "slide_type": "subslide"
    }
   },
   "source": [
    "### Symbol-like manipulation\n",
    "\n",
    "- Can do a lot of standard symbol operations.\n",
    "- Sometimes you have to explicitly bind and unbind to manipulate the data.\n",
    "- Less accuracy for more complex structures.\n",
    "- *But we can also do more with these representations*\n",
    "    - Sometimes you don't have to explicitly bind/unbind to manipulate.\n",
    "    - Can define other vector operations not available for symbols...\n",
    "\n",
    "\n",
    "   "
   ]
  },
  {
   "cell_type": "markdown",
   "metadata": {
    "slideshow": {
     "slide_type": "slide"
    }
   },
   "source": [
    "### Raven's Progressive Matrices\n",
    "\n",
    "- An IQ test that's generally considered to be the best at measuring general-purpose \"fluid\" intelligence:\n",
    "    - Nonverbal (so it's not measuring language skills, and fairly unbiased across cultures, hopefully).\n",
    "    - Fill in the blank: given eight possible answers, pick one.\n",
    "    \n",
    "<img src=\"files/lecture_symbols/ravens.png\" width=\"300\">\n",
    "\n",
    "- This is not an actual question on the test:\n",
    "    - The test is copyrighted.\n",
    "    - They don't want the test to leak out, since it's been the same set of 60 questions since 1936.\n",
    "    - But they do look like that.\n"
   ]
  },
  {
   "cell_type": "markdown",
   "metadata": {
    "slideshow": {
     "slide_type": "subslide"
    }
   },
   "source": [
    "- How can we model people doing this task?\n",
    "- A fair number of different attempts:\n",
    "    - None neural.\n",
    "    - Generally use the approach of building in a large set of different types of patterns to look for, and then trying them all in turn.\n",
    "    - Which seems wrong for a test that's supposed to be about *flexible, fluid* intelligence.\n",
    "    \n",
    "- Does this vector approach offer an alternative?\n",
    "\n"
   ]
  },
  {
   "cell_type": "markdown",
   "metadata": {
    "slideshow": {
     "slide_type": "subslide"
    }
   },
   "source": [
    "- First we need to represent the different patterns as a vector.\n",
    "    - This is a hard image interpretation problem.\n",
    "    - Still ongoing work here.\n",
    "    - So we'll skip it and start with things in vector form.\n",
    "    \n",
    "<img src=\"files/lecture_symbols/ravens2.png\">    \n",
    "    \n",
    "- How do we represent a picture?\n",
    "    - `SHAPE` $\\circledast$ `ARROW + NUMBER` $\\circledast$ `ONE + DIRECTION` $\\circledast$ `UP`\n",
    "    - Can do variations like this for all the pictures.\n",
    "    - Fairly standard with most assumptions about how people represent complex scenes.\n",
    "    - But that part is not being modelled (yet!).\n",
    "    \n",
    "- We have shown that it's possible to build these sorts of representations up directly from visual stimuli.\n",
    "    - With a very simple vision system that can only recognize a few different shapes.\n",
    "    - And where items have to be shown sequentially as it has no way of moving its eyes."
   ]
  },
  {
   "cell_type": "markdown",
   "metadata": {
    "slideshow": {
     "slide_type": "slide"
    }
   },
   "source": [
    "## Examples in Spaun\n",
    "\n",
    "- Let's look at a simpler but related example: \n",
    "    - Binding used for building a list to remember"
   ]
  },
  {
   "cell_type": "code",
   "execution_count": 14,
   "metadata": {
    "slideshow": {
     "slide_type": "fragment"
    }
   },
   "outputs": [
    {
     "data": {
      "image/jpeg": "[encoded data removed]",
      "text/html": [
       "\n",
       "        <iframe\n",
       "            width=\"720\"\n",
       "            height=\"400\"\n",
       "            src=\"https://www.youtube.com/embed/U_Q6Xjz9QHg?playlist=U_Q6Xjz9QHg&loop=1&autoplay=0\"\n",
       "            frameborder=\"0\"\n",
       "            allowfullscreen\n",
       "        ></iframe>\n",
       "        "
      ],
      "text/plain": [
       "<IPython.lib.display.YouTubeVideo at 0x10f42d690>"
      ]
     },
     "execution_count": 14,
     "metadata": {},
     "output_type": "execute_result"
    }
   ],
   "source": [
    "from IPython.display import YouTubeVideo\n",
    "YouTubeVideo('U_Q6Xjz9QHg', width=720, height=400, loop=1, autoplay=0, playlist='U_Q6Xjz9QHg')"
   ]
  },
  {
   "cell_type": "markdown",
   "metadata": {
    "slideshow": {
     "slide_type": "subslide"
    }
   },
   "source": [
    "- The memory of the list is built up by using a basal ganglia action selection system to control feeding values into an integrator\n",
    "    - The thought bubble shows how close the decoded values are to the ideal\n",
    "    - Notice the forgetting!  \n",
    "    \n",
    "\n"
   ]
  },
  {
   "cell_type": "markdown",
   "metadata": {
    "slideshow": {
     "slide_type": "subslide"
    }
   },
   "source": [
    "- The same system can be used to do a version of the Raven's Matrices task"
   ]
  },
  {
   "cell_type": "code",
   "execution_count": 15,
   "metadata": {
    "slideshow": {
     "slide_type": "fragment"
    }
   },
   "outputs": [
    {
     "data": {
      "image/jpeg": "[encoded data removed]",
      "text/html": [
       "\n",
       "        <iframe\n",
       "            width=\"720\"\n",
       "            height=\"400\"\n",
       "            src=\"https://www.youtube.com/embed/Q_LRvnwnYp8?playlist=Q_LRvnwnYp8&loop=1&autoplay=0\"\n",
       "            frameborder=\"0\"\n",
       "            allowfullscreen\n",
       "        ></iframe>\n",
       "        "
      ],
      "text/plain": [
       "<IPython.lib.display.YouTubeVideo at 0x10f42d810>"
      ]
     },
     "execution_count": 15,
     "metadata": {},
     "output_type": "execute_result"
    }
   ],
   "source": [
    "from IPython.display import YouTubeVideo\n",
    "YouTubeVideo('Q_LRvnwnYp8', width=720, height=400, loop=1, autoplay=0, playlist='Q_LRvnwnYp8')"
   ]
  },
  {
   "cell_type": "markdown",
   "metadata": {
    "slideshow": {
     "slide_type": "subslide"
    }
   },
   "source": [
    "- `S1 = ONE` $\\circledast$ `P1`\n",
    "- `S2 = ONE` $\\circledast$ `P1 + ONE` $\\circledast$ `P2`\n",
    "- `S3 = ONE` $\\circledast$ `P1 + ONE` $\\circledast$ `P2 + ONE` $\\circledast$ `P3`\n",
    "- `S4 = FOUR` $\\circledast$ `P1`\n",
    "- `S5 = FOUR` $\\circledast$ `P1 + FOUR` $\\circledast$ `P2`\n",
    "- `S6 = FOUR` $\\circledast$ `P1 + FOUR` $\\circledast$ `P2 + FOUR` $\\circledast$ `P3`\n",
    "- `S7 = FIVE` $\\circledast$ `P1`\n",
    "- `S8 = FIVE` $\\circledast$ `P1 + FIVE` $\\circledast$ `P2`\n",
    "\n",
    "- what is `S9`?"
   ]
  },
  {
   "cell_type": "markdown",
   "metadata": {
    "slideshow": {
     "slide_type": "subslide"
    }
   },
   "source": [
    "How does Spaun make a guess at the end?\n"
   ]
  },
  {
   "cell_type": "markdown",
   "metadata": {
    "slideshow": {
     "slide_type": "fragment"
    }
   },
   "source": [
    "- Let's figure out what the transformation is\n",
    "- `T1 = S2` $\\circledast$ `S1'`\n",
    "- `T2 = S3` $\\circledast$ `S2'`\n",
    "- `T3 = S5` $\\circledast$ `S4'`\n",
    "- `T4 = S6` $\\circledast$ `S5'`\n",
    "- `T5 = S8` $\\circledast$ `S7'`\n",
    "\n",
    "- `T = (T1 + T2 + T3 + T4 + T5)/5`\n",
    "- `S9 = S8` $\\circledast$ `T`\n",
    "\n",
    "- `S9 = FIVE` $\\circledast$ `P1 + FIVE` $\\circledast$ `P2 + FIVE` $\\circledast$ `P3`\n",
    "\n",
    "- This becomes a novel way of manipulating structured information\n",
    "    - Exploiting the fact that it is a vector underneath\n",
    "    - [A spiking neural model applied to the study of human performance and cognitive decline on Raven's Advanced Progressive Matrices](http://www.sciencedirect.com/science/article/pii/S0160289613001542)"
   ]
  },
  {
   "cell_type": "markdown",
   "metadata": {
    "slideshow": {
     "slide_type": "slide"
    }
   },
   "source": [
    "### Using Nengo\n",
    "- How can we use Nengo to perform these kinds of operations?\n",
    "- There's a 'SPA' module you can import, and it lets you do all kinds of symbol-like manipulations (and other cognitive processing).\n",
    "- Let's try answering simple questions about the bindings in a representation.\n",
    "- I just stole this from the 'Question answering' example in Nengo."
   ]
  },
  {
   "cell_type": "code",
   "execution_count": 38,
   "metadata": {
    "slideshow": {
     "slide_type": "fragment"
    }
   },
   "outputs": [],
   "source": [
    "%pylab inline\n",
    "\n",
    "import nengo\n",
    "import nengo_spa as spa"
   ]
  },
  {
   "cell_type": "code",
   "execution_count": 41,
   "metadata": {
    "slideshow": {
     "slide_type": "subslide"
    }
   },
   "outputs": [],
   "source": [
    "# Number of dimensions for the Semantic Pointers\n",
    "dimensions = 32\n",
    "\n",
    "model = spa.Network(label=\"Simple question answering\")\n",
    "\n",
    "with model:\n",
    "    colour_in = spa.Transcode(colour_input, output_vocab=dimensions)\n",
    "    shape_in = spa.Transcode(shape_input, output_vocab=dimensions)\n",
    "    cue = spa.Transcode(cue_input, output_vocab=dimensions)    \n",
    "    \n",
    "    conv = spa.State(dimensions)\n",
    "    out = spa.State(dimensions)\n",
    "\n",
    "    # Connect the buffers\n",
    "    colour_in * shape_in >> conv\n",
    "    conv * ~cue >> out "
   ]
  },
  {
   "cell_type": "markdown",
   "metadata": {
    "slideshow": {
     "slide_type": "subslide"
    }
   },
   "source": [
    "The input will switch every 0.5 seconds between `RED` and `BLUE`. In the same way the shape input switches between `CIRCLE` and `SQUARE`. Thus, the network will bind alternatingly `RED * CIRCLE` and `BLUE * SQUARE` for 0.5 seconds each.\n",
    "\n",
    "The cue for deconvolving bound semantic pointers cycles through `CIRCLE`, `RED`, `SQUARE`, and `BLUE` within one second. \n"
   ]
  },
  {
   "cell_type": "code",
   "execution_count": 42,
   "metadata": {
    "slideshow": {
     "slide_type": "subslide"
    }
   },
   "outputs": [],
   "source": [
    "def colour_input(t):\n",
    "    if (t // 0.5) % 2 == 0:\n",
    "        return 'RED'\n",
    "    else:\n",
    "        return 'BLUE'\n",
    "\n",
    "def shape_input(t):\n",
    "    if (t // 0.5) % 2 == 0:\n",
    "        return 'CIRCLE'\n",
    "    else:\n",
    "        return 'SQUARE'\n",
    "\n",
    "def cue_input(t):\n",
    "    sequence = ['0', 'CIRCLE', 'RED', '0', 'SQUARE', 'BLUE'] \n",
    "    idx = int((t // (1. / len(sequence))) % len(sequence))\n",
    "    return sequence[idx]\n"
   ]
  },
  {
   "cell_type": "code",
   "execution_count": 43,
   "metadata": {
    "slideshow": {
     "slide_type": "subslide"
    }
   },
   "outputs": [],
   "source": [
    "with model:\n",
    "    model.config[nengo.Probe].synapse = nengo.Lowpass(0.03)\n",
    "    p_colour_in = nengo.Probe(colour_in.output)\n",
    "    p_shape_in = nengo.Probe(shape_in.output)\n",
    "    p_cue = nengo.Probe(cue.output)\n",
    "    p_conv = nengo.Probe(conv.output)\n",
    "    p_out = nengo.Probe(out.output)\n"
   ]
  },
  {
   "cell_type": "code",
   "execution_count": 44,
   "metadata": {
    "slideshow": {
     "slide_type": "slide"
    }
   },
   "outputs": [
    {
     "name": "stderr",
     "output_type": "stream",
     "text": [
      "/Users/celiasmi/Documents/nengo/nengo_gui/nengo_gui/jupyter.py:69: ConfigReuseWarning: Reusing config. Only the most recent visualization will update the config.\n",
      "  \"Reusing config. Only the most recent visualization will \"\n"
     ]
    },
    {
     "data": {
      "text/html": [
       "\n",
       "            <script type=\"text/javascript\" id=\"eccbf9e9-1cea-4005-9562-035035186815\">\n",
       "            {\n",
       "                let req = new XMLHttpRequest();\n",
       "                req.addEventListener(\"load\", function() {\n",
       "                    if (this.status != 200 && this.response != 'OK') {\n",
       "                        let p = document.getElementById('eccbf9e9-1cea-4005-9562-035035186815').parentNode;\n",
       "                        p.innerHTML +=\n",
       "                            'The nengo_gui.jupyter notebook server ' +\n",
       "                            'extension was not loaded. Please activate it ' +\n",
       "                            'with the following command:' +\n",
       "                            '<pre>jupyter serverextension enable ' +\n",
       "                            'nengo_gui.jupyter</pre>';\n",
       "                        p.classList.add('output_stderr');\n",
       "                    }\n",
       "                });\n",
       "                req.open('GET', './nengo/check', true);\n",
       "                req.send();\n",
       "            }\n",
       "            </script>\n",
       "        "
      ],
      "text/plain": [
       "<IPython.core.display.HTML object>"
      ]
     },
     "metadata": {},
     "output_type": "display_data"
    },
    {
     "data": {
      "application/vdom.v1+json": {
       "attributes": {
        "id": "0a930841-0fbe-4d94-807e-5c3ec79725d3"
       },
       "children": [
        {
         "attributes": {
          "allowfullscreen": "allowfullscreen",
          "class": "cell",
          "frameborder": "0",
          "height": "600",
          "src": "./nengo/57018/?token=6e1acb17dd66b34efb36cea4328c9daa1ee517b7875e7d1c",
          "style": {
           "border": "1px solid #eee",
           "boxSizing": "border-box"
          },
          "width": "100%"
         },
         "tagName": "iframe"
        }
       ],
       "tagName": "div"
      },
      "text/html": [
       "\n",
       "                <div id=\"785823ec-4b17-4d9a-aa30-1b740e8832c6\">\n",
       "                    <iframe\n",
       "                        src=\"./nengo/57018/?token=6e1acb17dd66b34efb36cea4328c9daa1ee517b7875e7d1c\"\n",
       "                        width=\"100%\"\n",
       "                        height=\"600\"\n",
       "                        frameborder=\"0\"\n",
       "                        class=\"cell\"\n",
       "                        style=\"border: 1px solid #eee; box-sizing: border-box;\"\n",
       "                        allowfullscreen></iframe>\n",
       "                </div>\n",
       "            "
      ]
     },
     "metadata": {},
     "output_type": "display_data"
    }
   ],
   "source": [
    "from nengo_gui.ipython import IPythonViz\n",
    "IPythonViz(model, \"configs/blue_red_spa.py.cfg\")"
   ]
  },
  {
   "cell_type": "code",
   "execution_count": null,
   "metadata": {
    "slideshow": {
     "slide_type": "subslide"
    }
   },
   "outputs": [
    {
     "data": {
      "text/html": [
       "\n",
       "                <div id=\"7710456c-7205-4914-9dc6-e8c6b57bd66b\" style=\"\n",
       "                    width: 100%;\n",
       "                    border: 1px solid #cfcfcf;\n",
       "                    border-radius: 4px;\n",
       "                    text-align: center;\n",
       "                    position: relative;\">\n",
       "                  <div class=\"pb-text\" style=\"\n",
       "                      position: absolute;\n",
       "                      width: 100%;\">\n",
       "                    0%\n",
       "                  </div>\n",
       "                  <div class=\"pb-fill\" style=\"\n",
       "                      background-color: #bdd2e6;\n",
       "                      width: 0%;\">\n",
       "                    <style type=\"text/css\" scoped=\"scoped\">\n",
       "                        @keyframes pb-fill-anim {\n",
       "                            0% { background-position: 0 0; }\n",
       "                            100% { background-position: 100px 0; }\n",
       "                        }\n",
       "                    </style>\n",
       "                    &nbsp;\n",
       "                  </div>\n",
       "                </div>"
      ],
      "text/plain": [
       "HtmlProgressBar cannot be displayed. Please use the TerminalProgressBar. It can be enabled with `nengo.rc.set('progress', 'progress_bar', 'nengo.utils.progress.TerminalProgressBar')`."
      ]
     },
     "metadata": {},
     "output_type": "display_data"
    },
    {
     "data": {
      "application/javascript": [
       "\n",
       "              (function () {\n",
       "                  var root = document.getElementById('7710456c-7205-4914-9dc6-e8c6b57bd66b');\n",
       "                  var text = root.getElementsByClassName('pb-text')[0];\n",
       "                  var fill = root.getElementsByClassName('pb-fill')[0];\n",
       "\n",
       "                  text.innerHTML = 'Build finished in 0:00:08.';\n",
       "                  \n",
       "            fill.style.width = '100%';\n",
       "            fill.style.animation = 'pb-fill-anim 2s linear infinite';\n",
       "            fill.style.backgroundSize = '100px 100%';\n",
       "            fill.style.backgroundImage = 'repeating-linear-gradient(' +\n",
       "                '90deg, #bdd2e6, #edf2f8 40%, #bdd2e6 80%, #bdd2e6)';\n",
       "        \n",
       "                  \n",
       "                fill.style.animation = 'none';\n",
       "                fill.style.backgroundImage = 'none';\n",
       "            \n",
       "              })();\n",
       "        "
      ],
      "text/plain": [
       "<IPython.core.display.Javascript object>"
      ]
     },
     "metadata": {},
     "output_type": "display_data"
    },
    {
     "data": {
      "text/html": [
       "\n",
       "                <div id=\"5a94e012-28f6-462d-9406-e32cdf174869\" style=\"\n",
       "                    width: 100%;\n",
       "                    border: 1px solid #cfcfcf;\n",
       "                    border-radius: 4px;\n",
       "                    text-align: center;\n",
       "                    position: relative;\">\n",
       "                  <div class=\"pb-text\" style=\"\n",
       "                      position: absolute;\n",
       "                      width: 100%;\">\n",
       "                    0%\n",
       "                  </div>\n",
       "                  <div class=\"pb-fill\" style=\"\n",
       "                      background-color: #bdd2e6;\n",
       "                      width: 0%;\">\n",
       "                    <style type=\"text/css\" scoped=\"scoped\">\n",
       "                        @keyframes pb-fill-anim {\n",
       "                            0% { background-position: 0 0; }\n",
       "                            100% { background-position: 100px 0; }\n",
       "                        }\n",
       "                    </style>\n",
       "                    &nbsp;\n",
       "                  </div>\n",
       "                </div>"
      ],
      "text/plain": [
       "HtmlProgressBar cannot be displayed. Please use the TerminalProgressBar. It can be enabled with `nengo.rc.set('progress', 'progress_bar', 'nengo.utils.progress.TerminalProgressBar')`."
      ]
     },
     "metadata": {},
     "output_type": "display_data"
    },
    {
     "data": {
      "application/javascript": [
       "\n",
       "              (function () {\n",
       "                  var root = document.getElementById('5a94e012-28f6-462d-9406-e32cdf174869');\n",
       "                  var text = root.getElementsByClassName('pb-text')[0];\n",
       "                  var fill = root.getElementsByClassName('pb-fill')[0];\n",
       "\n",
       "                  text.innerHTML = 'Simulating&hellip; 22%, ETA: 0:00:19';\n",
       "                  \n",
       "            if (21.833333333333332 > 0.) {\n",
       "                fill.style.transition = 'width 0.1s linear';\n",
       "            } else {\n",
       "                fill.style.transition = 'none';\n",
       "            }\n",
       "\n",
       "            fill.style.width = '21.833333333333332%';\n",
       "            fill.style.animation = 'none';\n",
       "            fill.style.backgroundImage = 'none'\n",
       "        \n",
       "                  \n",
       "              })();\n",
       "        "
      ],
      "text/plain": [
       "<IPython.core.display.Javascript object>"
      ]
     },
     "metadata": {},
     "output_type": "display_data"
    }
   ],
   "source": [
    "sim = nengo.Simulator(model)\n",
    "sim.run(3.)"
   ]
  },
  {
   "cell_type": "code",
   "execution_count": null,
   "metadata": {
    "slideshow": {
     "slide_type": "subslide"
    }
   },
   "outputs": [],
   "source": [
    "plt.figure(figsize=(10, 10))\n",
    "vocab = model.vocabs[dimensions]\n",
    "\n",
    "plt.subplot(5, 1, 1)\n",
    "plt.plot(sim.trange(), spa.similarity(sim.data[p_colour_in], vocab))\n",
    "plt.legend(vocab.keys(), fontsize='x-small')\n",
    "plt.ylabel(\"colour\")\n",
    "\n",
    "plt.subplot(5, 1, 2)\n",
    "plt.plot(sim.trange(), spa.similarity(sim.data[p_shape_in], vocab))\n",
    "plt.legend(vocab.keys(), fontsize='x-small')\n",
    "plt.ylabel(\"shape\")\n",
    "\n",
    "plt.subplot(5, 1, 3)\n",
    "plt.plot(sim.trange(), spa.similarity(sim.data[p_cue], vocab))\n",
    "plt.legend(vocab.keys(), fontsize='x-small')\n",
    "plt.ylabel(\"cue\")\n",
    "\n",
    "plt.subplot(5, 1, 4)\n",
    "for pointer in ['RED * CIRCLE', 'BLUE * SQUARE']:\n",
    "    plt.plot(sim.trange(), vocab.parse(pointer).dot(sim.data[p_conv].T), label=pointer)\n",
    "plt.legend(fontsize='x-small')\n",
    "plt.ylabel(\"convolved\")\n",
    "\n",
    "plt.subplot(5, 1, 5)\n",
    "plt.plot(sim.trange(), spa.similarity(sim.data[p_out], vocab))\n",
    "plt.legend(vocab.keys(), fontsize='x-small')\n",
    "plt.ylabel(\"output\")\n",
    "plt.xlabel(\"time [s]\");"
   ]
  },
  {
   "cell_type": "code",
   "execution_count": 37,
   "metadata": {
    "slideshow": {
     "slide_type": "subslide"
    }
   },
   "outputs": [
    {
     "name": "stderr",
     "output_type": "stream",
     "text": [
      "//anaconda/envs/python3/lib/python3.6/site-packages/ipykernel_launcher.py:1: DeprecationWarning: Calling np.sum(generator) is deprecated, and in the future will give a different result. Use np.sum(np.from_iter(generator)) or the python sum builtin instead.\n",
      "  \"\"\"Entry point for launching an IPython kernel.\n"
     ]
    },
    {
     "data": {
      "text/plain": [
       "30400"
      ]
     },
     "execution_count": 37,
     "metadata": {},
     "output_type": "execute_result"
    }
   ],
   "source": [
    "sum(ens.n_neurons for ens in model.all_ensembles) #Total number of neurons"
   ]
  },
  {
   "cell_type": "code",
   "execution_count": null,
   "metadata": {
    "collapsed": true
   },
   "outputs": [],
   "source": []
  }
 ],
 "metadata": {
  "celltoolbar": "Slideshow",
  "kernelspec": {
   "display_name": "Python 3",
   "language": "python",
   "name": "python3"
  },
  "livereveal": {
   "scroll": true,
   "start_slideshow_at": "selected"
  }
 },
 "nbformat": 4,
 "nbformat_minor": 1
}
