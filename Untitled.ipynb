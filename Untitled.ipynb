{
 "cells": [
  {
   "cell_type": "code",
   "execution_count": null,
   "metadata": {
    "collapsed": true
   },
   "outputs": [],
   "source": [
    "%pylab inline\n",
    "import nengo\n",
    "from nengo.utils.ensemble import tuning_curves\n",
    "\n",
    "model = nengo.Network()\n",
    "\n",
    "with model:\n",
    "    a = nengo.Ensemble(100, dimensions=1, radius=3)\n",
    "    conn = nengo.Connection(a,a)\n",
    "    \n",
    "sim = nengo.Simulator(model)\n",
    "\n",
    "x, A = tuning_curves(a, sim)\n",
    "\n",
    "plot(x,A);\n",
    "\n",
    "d = sim.data[conn].decoders.T\n",
    "\n",
    "xhat = numpy.dot(A, d)\n",
    "\n",
    "figure()\n",
    "plot(xhat)"
   ]
  }
 ],
 "metadata": {
  "language_info": {
   "codemirror_mode": {
    "name": "ipython",
    "version": 2
   },
   "file_extension": ".py",
   "mimetype": "text/x-python",
   "name": "python",
   "nbconvert_exporter": "python",
   "pygments_lexer": "ipython2",
   "version": "2.7.5"
  }
 },
 "nbformat": 4,
 "nbformat_minor": 0
}
