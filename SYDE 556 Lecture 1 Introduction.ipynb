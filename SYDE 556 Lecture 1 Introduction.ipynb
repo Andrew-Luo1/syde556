{
 "cells": [
  {
   "cell_type": "markdown",
   "metadata": {
    "slideshow": {
     "slide_type": "slide"
    }
   },
   "source": [
    "## SYDE 556/750: Simulating Neurobiological Systems\n",
    "\n",
    "Accompanying Readings: Chapter 1"
   ]
  },
  {
   "cell_type": "code",
   "execution_count": 1,
   "metadata": {
    "collapsed": false
   },
   "outputs": [
    {
     "data": {
      "text/html": [
       "\n",
       "        <iframe\n",
       "            width=\"720\"\n",
       "            height=\"400\"\n",
       "            src=\"https://www.youtube.com/embed/U_Q6Xjz9QHg?playlist=U_Q6Xjz9QHg&loop=1&autoplay=0\"\n",
       "            frameborder=\"0\"\n",
       "            allowfullscreen\n",
       "        ></iframe>\n",
       "        "
      ],
      "text/plain": [
       "<IPython.lib.display.YouTubeVideo at 0x109d258d0>"
      ]
     },
     "execution_count": 1,
     "metadata": {},
     "output_type": "execute_result"
    }
   ],
   "source": [
    "from IPython.display import YouTubeVideo\n",
    "YouTubeVideo('U_Q6Xjz9QHg', width=720, height=400, loop=1, autoplay=0, playlist='U_Q6Xjz9QHg')"
   ]
  },
  {
   "cell_type": "markdown",
   "metadata": {
    "slideshow": {
     "slide_type": "slide"
    }
   },
   "source": [
    "# Overall Goal\n",
    "<img src=\"files/lecture1/book_cover.png\" width=200 style=\"float:right\"> \n",
    "\n",
    "- Building brains!\n",
    "- Why?\n",
    "    - To figure out how brains work (health applications)\n",
    "    - To apply this knowledge to building systems (AI applications)"
   ]
  },
  {
   "cell_type": "markdown",
   "metadata": {
    "slideshow": {
     "slide_type": "slide"
    }
   },
   "source": [
    "# Administration\n",
    "\n",
    "- Course website: [http://compneuro.uwaterloo.ca/research/syde-750.html](http://compneuro.uwaterloo.ca/research/syde-750.html)\n",
    "- Contact information\n",
    "  - Chris Eliasmith: <a href=\"mailto:celiasmith@uwaterloo.ca\">celiasmith@uwaterloo.ca</a>\n",
    "  - Course times: Mon & Thurs. 12:30p-1:50p (2:00p-2:50p Thurs for 750)\n",
    "  - Location: E5 6127 \n",
    "  - Office hours: hour after each lecture"
   ]
  },
  {
   "cell_type": "markdown",
   "metadata": {
    "slideshow": {
     "slide_type": "subslide"
    }
   },
   "source": [
    "## Coursework\n",
    "\n",
    " - Four assignments (60%)\n",
    "     - 20%, 20%, 10%, 10%\n",
    "     - About two weeks for each assignment\n",
    "     - Everyone writes their own code, generates their own graphs, writes their own answers\n",
    "  \n",
    " - Final project\n",
    "     - Make a novel model of some neural system\n",
    "     - For 556 students, this can be an extension of something seen in class\n",
    "     - For 750 students, this must be more of a research project\n",
    "     - [ideas](http://compneuro.uwaterloo.ca/research/syde-750/syde-556-possible-projects.html)\n",
    "     - Get your idea approved via email before Reading Week"
   ]
  },
  {
   "cell_type": "markdown",
   "metadata": {
    "slideshow": {
     "slide_type": "subslide"
    }
   },
   "source": [
    "## Schedule\n",
    "\n",
    "<table style=\"border: 1px solid black;\" cellspacing=\"10\">\n",
    "<tr><th>Week</th><th>Reading</th><th>Monday</th><th>Wednesday</th><th>Assignments</th></tr>\n",
    "<tr><td style=\"padding:0 15px 0 15px;\">Jan 4, 7</td><td style=\"padding:0 15px 0 15px;\">Chpt 1</td><td style=\"padding:0 15px 0 15px;\">Introduction</td><td style=\"padding:0 15px 0 15px;\">Neurons</td><td style=\"padding:0 15px 0 15px;\"></td></tr>\n",
    "<tr><td style=\"padding:0 15px 0 15px;\">Jan 11, 14</td><td style=\"padding:0 15px 0 15px;\">Chpt 2,4</td><td colspan=2>Population Representation</td><td style=\"padding:0 15px 0 15px;\">#1 posted</td></tr>\n",
    "<tr><td style=\"padding:0 15px 0 15px;\">Jan 18, 21</td><td style=\"padding:0 15px 0 15px;\">Chpt 4</td><td colspan=2>Temporal Representation</td><td style=\"padding:0 15px 0 15px;\"></td></tr>\n",
    "<tr><td style=\"padding:0 15px 0 15px;\">Jan 25, 28, Feb 1</td><td style=\"padding:0 15px 0 15px;\">Chpt 5,6</td><td colspan=2>Feedforward Transformations</td><td style=\"padding:0 15px 0 15px;\">#1 due (25th at midnight); #2 posted</td></tr>\n",
    "<tr><td style=\"padding:0 15px 0 15px;\">Feb 4, 8, 11</td><td style=\"padding:0 15px 0 15px;\">Chpt 6,8</td><td colspan=2>Dynamics</td><td style=\"padding:0 15px 0 15px;\"></td></tr>\n",
    "\n",
    "<tr><td style=\"padding:0 15px 0 15px;\">Feb 15, 18</td><td style=\"padding:0 15px 0 15px;\"></td><td colspan=2>*Reading Week*</td><td style=\"padding:0 15px 0 15px;\"></td></tr>\n",
    "\n",
    "<tr><td style=\"padding:0 15px 0 15px;\">Feb 22</td><td style=\"padding:0 15px 0 15px;\">Chpt 7</td><td colspan=2>Analysis of Representations</td><td style=\"padding:0 15px 0 15px;\">#2 due (22nd at midnight); #3 posted</td></tr>\n",
    "\n",
    "<tr><td style=\"padding:0 15px 0 15px;\">Feb 25, 29</td><td style=\"padding:0 15px 0 15px;\">Provided</td><td colspan=2>Symbols</td><td style=\"padding:0 15px 0 15px;\"></td></tr>\n",
    "\n",
    "<tr><td style=\"padding:0 15px 0 15px;\">Mar 3, 7</td><td style=\"padding:0 15px 0 15px;\">Chpt 8</td><td colspan=2>Memory</td><td style=\"padding:0 15px 0 15px;\">#3 due (3rd at midnight)</td></tr>\n",
    "\n",
    "<tr><td style=\"padding:0 15px 0 15px;\">Mar 10, 14</td><td style=\"padding:0 15px 0 15px;\">Provided</td><td colspan=2>Action Selection</td><td style=\"padding:0 15px 0 15px;\">#4 due (14th at midnight)</td></tr>\n",
    "\n",
    "<tr><td style=\"padding:0 15px 0 15px;\">Mar 17, 21</td><td style=\"padding:0 15px 0 15px;\">Chpt 9</td><td colspan=2>Learning</td><td style=\"padding:0 15px 0 15px;\"></td></tr>\n",
    "\n",
    "<tr><td style=\"padding:0 15px 0 15px;\">Mar 24, 31</td><td style=\"padding:0 15px 0 15px;\"></td><td colspan=2>Project Presentations</td><td style=\"padding:0 15px 0 15px;\"></td></tr>\n",
    "\n",
    "</table>\n"
   ]
  },
  {
   "cell_type": "markdown",
   "metadata": {},
   "source": [
    "## To Do:\n",
    "- Get textbook, start reading.\n",
    "- Be able to run ipython notebooks\n",
    "    - [Anaconda](http://continuum.io/downloads) is probably simplest\n",
    "- Decide what language you'll do your assignments in (Matlab or Python; see webpage)\n",
    "- Start thinking about a project... already!"
   ]
  },
  {
   "cell_type": "markdown",
   "metadata": {
    "slideshow": {
     "slide_type": "subslide"
    }
   },
   "source": [
    "# Focus of the Course\n",
    "## Theoretical Neuroscience\n",
    "<img src=\"files/lecture1/neuro_levels.png\" width=400 style=\"float:right\"> \n",
    "- How does the mind work?\n",
    "- Most complex and most interesting system humanity has ever studied\n",
    "    - Why study anything else?\n",
    "- How should we go about studying it?\n",
    "    - What techniques/tools?\n",
    "    - How do we know if we're making progress?\n",
    "    - How do we deal with the complexity?"
   ]
  },
  {
   "cell_type": "markdown",
   "metadata": {
    "slideshow": {
     "slide_type": "subslide"
    }
   },
   "source": [
    "## A Useful Analogy\n",
    "<img src=\"files/lecture1/physics_analogy.png\" width=400 style=\"float:right\"> \n",
    "- What is Theoretical Neuroscience?\n",
    "- A useful analogy is to theoretical physics\n",
    "    - Similarities    \n",
    "        - Methods are similar\n",
    "        - Goals are similar (quantification)\n",
    "    - Differences\n",
    "        - Central question \"What exists? vs Who are we?\"\n",
    "        - More simulation (because of nonlinearities) in biology    "
   ]
  },
  {
   "cell_type": "markdown",
   "metadata": {
    "slideshow": {
     "slide_type": "slide"
    }
   },
   "source": [
    "# Neural Modelling\n",
    "\n",
    "- Let's build it <img src=\"files/lecture1/understand.gif\" style=\"float:right\">\n",
    "    - Specify theory in enough detail that this is possible\n",
    "    - Tends to get complex, so need computer simulation\n",
    "- Bring together levels and modeling methods\n",
    "    - Single neuron models (levels of detail; e.g. spikes, spatial structure, various ion channels, etc.)\n",
    "    - Small network models (levels of detail; e.g. spiking neurons, rate neurons, mean fields, etc.)\n",
    "    - Large network/cognitive models (levels of detail; e.g. biophysics, pure computation, anatomy, etc.)\n",
    "    - Ideally allow all levels of detail below any higher level to be included as desired.\n",
    "    - 'Correct' level depends on questions being asked."
   ]
  },
  {
   "cell_type": "markdown",
   "metadata": {
    "slideshow": {
     "slide_type": "subslide"
    }
   },
   "source": [
    "## Problems with current approaches\n",
    "\n",
    "### Large-scale neural models (e.g. [Human Brain Project](https://www.humanbrainproject.eu/), [Synapse Project](http://www.research.ibm.com/cognitive-computing/neurosynaptic-chips.shtml#fbid=qMgN8YTZy5Y), etc.)\n",
    "- Lack of function or behaviour\n",
    "    - Can't compare to psychological data\n",
    "- Assumes canonical algorithm repeats\n",
    "    - Different parts of the brain are very different (connectivity, cell types, inputs/outputs)\n",
    "    - Measurements from one small part (hippocampus) are valid everywhere\n",
    "- Expects intelligence to 'emerge'\n",
    "    - Unclear what 'emergence' means, how it will work, or what it explains\n",
    "    - Wishful thinking?\n",
    "    \n",
    "### Cognitve models (e.g. [ACT-R](http://act-r.psy.cmu.edu/), [Soar](http://soar.eecs.umich.edu/), etc.)\n",
    "- Disconnected from neuroscience, can't compare to neural data\n",
    "    - Trying to map components of the model to brain areas\n",
    "    - When a component is active, maybe neurons in that area are more active?\n",
    "- No \"bridging laws\"\n",
    "    - Like having rules of chemistry that never mention that it's all built out of atoms and electrons\n",
    "- No constraints on the equations\n",
    "    - Just anything that can be written down\n",
    "    - Many possibilities; hard to figure out what matches human data best\n",
    "- Maybe that's okay\n",
    "    - Do we understand the brain enough to make this connection and constrain theories?\n",
    "    - When understanding a word processor, do we worry about transistors?"
   ]
  },
  {
   "cell_type": "markdown",
   "metadata": {
    "slideshow": {
     "slide_type": "slide"
    }
   },
   "source": [
    "# The Brain\n",
    "\n",
    "- 2 kg (2% of body weight)\n",
    "- 20 Watts (25% of power consumption)\n",
    "- Area: 4 sheets of paper\n",
    "- Neurons: 100 billion (150,000 per $mm^2$)"
   ]
  },
  {
   "cell_type": "code",
   "execution_count": 2,
   "metadata": {
    "collapsed": false
   },
   "outputs": [
    {
     "data": {
      "text/html": [
       "\n",
       "        <iframe\n",
       "            width=\"500\"\n",
       "            height=400\"\n",
       "            src=\"https://www.youtube.com/embed/jHxyP-nUhUY?start=60&autoplay=0\"\n",
       "            frameborder=\"0\"\n",
       "            allowfullscreen\n",
       "        ></iframe>\n",
       "        "
      ],
      "text/plain": [
       "<IPython.lib.display.YouTubeVideo at 0x10c50d310>"
      ]
     },
     "execution_count": 2,
     "metadata": {},
     "output_type": "execute_result"
    }
   ],
   "source": [
    "from IPython.display import YouTubeVideo\n",
    "YouTubeVideo('jHxyP-nUhUY', width=500, height=400, autoplay=0, start=60)"
   ]
  },
  {
   "cell_type": "markdown",
   "metadata": {
    "slideshow": {
     "slide_type": "subslide"
    }
   },
   "source": [
    "## Brain structures\n",
    "- Lots of visually obvious structure\n",
    "- Lots of greek and latin names to remember\n",
    "    - frontal cortex, thalamus, amygdala, hypothalamus, substantia nigra, etc etc\n",
    "\n",
    "<img src=\"files/lecture1/brain1.jpg\" width=300px style=\"float:left\">\n",
    "\n",
    "<img src=\"files/lecture1/brain2.png\" width=300px float:right>"
   ]
  },
  {
   "cell_type": "code",
   "execution_count": 2,
   "metadata": {
    "collapsed": false
   },
   "outputs": [
    {
     "data": {
      "text/html": [
       "<H2>A Neuron</H2><p><iframe src=\"https://rawgit.com/celiasmith/syde556/master/lecture1/neuron.html\" width=825 height=475></iframe>"
      ],
      "text/plain": [
       "<IPython.core.display.HTML object>"
      ]
     },
     "execution_count": 2,
     "metadata": {},
     "output_type": "execute_result"
    }
   ],
   "source": [
    "from IPython.display import HTML\n",
    "HTML('<H2>A Neuron</H2><p><iframe src=\"https://rawgit.com/celiasmith/syde556/master/lecture1/neuron.html\" width=825 height=475></iframe>')"
   ]
  },
  {
   "cell_type": "markdown",
   "metadata": {
    "slideshow": {
     "slide_type": "subslide"
    }
   },
   "source": [
    "# Neurons in the brain\n",
    "\n",
    "- 100 billion\n",
    "- 100's or 1000's of distinct types (distinguished via anatomy and/or physiology)\n",
    "- Axon length: from $10^{-4}$ to $5$ m\n",
    "- Each neuron: 500-200,000 inputs and outputs\n",
    "    - 72km of axons\n",
    "- Communication: 100's of different neurotransmitters"
   ]
  },
  {
   "cell_type": "markdown",
   "metadata": {
    "slideshow": {
     "slide_type": "subslide"
    }
   },
   "source": [
    "## Neuron communication: Synapses\n",
    "\n",
    "<img src=files/lecture1/NeuronStructure.jpg>"
   ]
  },
  {
   "cell_type": "markdown",
   "metadata": {
    "slideshow": {
     "slide_type": "subslide"
    }
   },
   "source": [
    "## What it really looks like\n",
    "\n",
    "<img src=files/lecture1/brainbow2.jpg>"
   ]
  },
  {
   "cell_type": "markdown",
   "metadata": {
    "slideshow": {
     "slide_type": "subslide"
    }
   },
   "source": [
    "## What it really really looks like"
   ]
  },
  {
   "cell_type": "code",
   "execution_count": 6,
   "metadata": {
    "collapsed": false
   },
   "outputs": [
    {
     "data": {
      "text/html": [
       "\n",
       "        <iframe\n",
       "            width=\"720\"\n",
       "            height=\"500\"\n",
       "            src=\"https://www.youtube.com/embed/F37kuXObIBU?start=515\"\n",
       "            frameborder=\"0\"\n",
       "            allowfullscreen\n",
       "        ></iframe>\n",
       "        "
      ],
      "text/plain": [
       "<IPython.lib.display.YouTubeVideo at 0x109d648d0>"
      ]
     },
     "execution_count": 6,
     "metadata": {},
     "output_type": "execute_result"
    }
   ],
   "source": [
    "from IPython.display import YouTubeVideo\n",
    "YouTubeVideo('F37kuXObIBU', width=720, height=500, start=8*60+35)"
   ]
  },
  {
   "cell_type": "markdown",
   "metadata": {
    "slideshow": {
     "slide_type": "slide"
    }
   },
   "source": [
    "# Kinds of data from the brain\n",
    "\n",
    "## Lesion studies\n",
    "- What are the effects of damaging different parts of the brain?\n",
    "    - Occipital cortex: blindness (really blindsight)\n",
    "    - Inferior frontal gyrus: can't speak (Broca's area)\n",
    "    - Posterior superior temporal gyrus: can't understand speech (Wernicke's area)\n",
    "    - Fusiform gyrus: can't recognize faces (and other visually complex objects)\n",
    "    - Ventral medial prefrontal cortex: moral judgement??? (Phineas Gage)\n",
    "    - etc, etc, etc"
   ]
  },
  {
   "cell_type": "markdown",
   "metadata": {
    "slideshow": {
     "slide_type": "subslide"
    }
   },
   "source": [
    "## fMRI\n",
    "\n",
    "- Functional Magnetic Resonance Imaging <img src=files/lecture1/fMRI.jpg style=\"float:right\">\n",
    "- Measure blood oxygenation levels in the brain\n",
    "     - show the difference between two tasks\n",
    "     - averaged over many trials and patients\n",
    "- Measured while performing tasks\n",
    "     - ~4 second between scans\n",
    "     - some attempts at going faster, but blood vessels don't change much faster than this\n",
    "- Shows where energy is being used in the brain\n",
    "     - equivalent to figuring out how a CPU works by measuring temperature\n",
    "     - a bit more fine-grained than lesion studies\n",
    "- Good spatial resolution, low temporal resolution\n",
    "- [Neurosynth](http://neurosynth.org/)"
   ]
  },
  {
   "cell_type": "markdown",
   "metadata": {
    "slideshow": {
     "slide_type": "subslide"
    }
   },
   "source": [
    "## EEG\n",
    "\n",
    "- Electrical activity at the scalp\n",
    "- Large-scale communication between areas\n",
    "- High time resolution, low spatial resolution\n",
    "\n",
    "<img src=\"files/lecture1/eeg-person.jpg\" width=200px style=\"float:left\"> \n",
    "<img src=\"files/lecture1/eeg-data.jpg\" width=200px style=\"float:left\"> \n",
    "<img src=\"files/lecture1/p300.jpg\" width=200px style=\"float:left\">"
   ]
  },
  {
   "cell_type": "markdown",
   "metadata": {},
   "source": [
    "## Single cell recording\n",
    "- Place electrodes (one or many) into the brain, record from it\n",
    "    - not necessarily right at a neuron\n",
    "- Pick up local electrical potentials\n",
    "    - You can hear neural 'spikes'\n",
    "- High temporal resolution only one (or a few) cells"
   ]
  },
  {
   "cell_type": "code",
   "execution_count": 5,
   "metadata": {
    "collapsed": false
   },
   "outputs": [
    {
     "data": {
      "text/html": [
       "\n",
       "        <iframe\n",
       "            width=\"640\"\n",
       "            height=\"390\"\n",
       "            src=\"https://www.youtube.com/embed/KE952yueVLA\"\n",
       "            frameborder=\"0\"\n",
       "            allowfullscreen\n",
       "        ></iframe>\n",
       "        "
      ],
      "text/plain": [
       "<IPython.lib.display.YouTubeVideo at 0x109d551d0>"
      ]
     },
     "execution_count": 5,
     "metadata": {},
     "output_type": "execute_result"
    }
   ],
   "source": [
    "from IPython.display import YouTubeVideo\n",
    "YouTubeVideo('KE952yueVLA', width=640, height=390)"
   ]
  },
  {
   "cell_type": "markdown",
   "metadata": {},
   "source": [
    "<img src=\"files/lecture1/catgratings.gif\" width=400px style=\"float:left\">"
   ]
  },
  {
   "cell_type": "markdown",
   "metadata": {},
   "source": [
    "## Multielectrode recordings\n",
    "<img src=\"files/lecture1/multielectrode.jpg\" width=300px style=\"float:right\">\n",
    "- Put 'tetrodes' or multi-electrode arrays into the brain\n",
    "- Post-processing: \n",
    "    - \"Spike sorting\" \n",
    "    - Local field potentials (LFPs)\n",
    "- High temporal resolution, max ~100 cells\n",
    "\n",
    "<img src=\"files/lecture1/lfps.png\" width=400px style=\"float:left\">"
   ]
  },
  {
   "cell_type": "code",
   "execution_count": 4,
   "metadata": {
    "collapsed": false
   },
   "outputs": [
    {
     "data": {
      "text/html": [
       "\n",
       "        <iframe\n",
       "            width=\"640\"\n",
       "            height=\"390\"\n",
       "            src=\"https://www.youtube.com/embed/lfNVv0A8QvI\"\n",
       "            frameborder=\"0\"\n",
       "            allowfullscreen\n",
       "        ></iframe>\n",
       "        "
      ],
      "text/plain": [
       "<IPython.lib.display.YouTubeVideo at 0x109d25f90>"
      ]
     },
     "execution_count": 4,
     "metadata": {},
     "output_type": "execute_result"
    }
   ],
   "source": [
    "from IPython.display import YouTubeVideo\n",
    "YouTubeVideo('lfNVv0A8QvI', width=640, height=390)"
   ]
  },
  {
   "cell_type": "markdown",
   "metadata": {
    "slideshow": {
     "slide_type": "subslide"
    }
   },
   "source": [
    "## Calcium Imaging\n",
    "- Use calcium to glow when Ca2+ ions bond\n",
    "    - Happens a lot during neural activity and spike generation\n",
    "- Good spatial and good temporal resolution\n",
    "\n",
    "- E.g. In a fish embryo"
   ]
  },
  {
   "cell_type": "code",
   "execution_count": 3,
   "metadata": {
    "collapsed": false
   },
   "outputs": [
    {
     "data": {
      "text/html": [
       "\n",
       "        <iframe\n",
       "            width=\"640\"\n",
       "            height=\"360\"\n",
       "            src=\"https://www.youtube.com/embed/DGBy-BGiZIM\"\n",
       "            frameborder=\"0\"\n",
       "            allowfullscreen\n",
       "        ></iframe>\n",
       "        "
      ],
      "text/plain": [
       "<IPython.lib.display.YouTubeVideo at 0x109d55090>"
      ]
     },
     "execution_count": 3,
     "metadata": {},
     "output_type": "execute_result"
    }
   ],
   "source": [
    "from IPython.display import YouTubeVideo\n",
    "YouTubeVideo('DGBy-BGiZIM', width=640, height=360)"
   ]
  },
  {
   "cell_type": "markdown",
   "metadata": {
    "slideshow": {
     "slide_type": "subslide"
    }
   },
   "source": [
    "- In a stalking fish"
   ]
  },
  {
   "cell_type": "code",
   "execution_count": 7,
   "metadata": {
    "collapsed": false
   },
   "outputs": [
    {
     "data": {
      "text/html": [
       "\n",
       "        <iframe\n",
       "            width=\"640\"\n",
       "            height=\"360\"\n",
       "            src=\"https://www.youtube.com/embed/CpejbZ-XEyM\"\n",
       "            frameborder=\"0\"\n",
       "            allowfullscreen\n",
       "        ></iframe>\n",
       "        "
      ],
      "text/plain": [
       "<IPython.lib.display.YouTubeVideo at 0x109d25e50>"
      ]
     },
     "execution_count": 7,
     "metadata": {},
     "output_type": "execute_result"
    }
   ],
   "source": [
    "from IPython.display import YouTubeVideo\n",
    "YouTubeVideo('CpejbZ-XEyM', width=640, height=360)"
   ]
  },
  {
   "cell_type": "markdown",
   "metadata": {
    "slideshow": {
     "slide_type": "subslide"
    }
   },
   "source": [
    "## Optogenetics\n",
    "- Allows stimulation and recording from select parts of the brain\n",
    "    - Just those parts expressing a light sensitive proteins that are stimulated\n",
    "- High spatial and temporal resolution (but local)"
   ]
  },
  {
   "cell_type": "code",
   "execution_count": 8,
   "metadata": {
    "collapsed": false
   },
   "outputs": [
    {
     "data": {
      "text/html": [
       "\n",
       "        <iframe\n",
       "            width=\"640\"\n",
       "            height=\"390\"\n",
       "            src=\"https://www.youtube.com/embed/v7uRFVR9BPU\"\n",
       "            frameborder=\"0\"\n",
       "            allowfullscreen\n",
       "        ></iframe>\n",
       "        "
      ],
      "text/plain": [
       "<IPython.lib.display.YouTubeVideo at 0x109d55d10>"
      ]
     },
     "execution_count": 8,
     "metadata": {},
     "output_type": "execute_result"
    }
   ],
   "source": [
    "from IPython.display import YouTubeVideo\n",
    "YouTubeVideo('v7uRFVR9BPU', width=640, height=390)"
   ]
  },
  {
   "cell_type": "markdown",
   "metadata": {
    "slideshow": {
     "slide_type": "slide"
    }
   },
   "source": [
    "# What do we know so far?\n",
    "\n",
    "- Lots of details\n",
    "    - Data: \"The proportion of type A neurons in area X is Y\" \n",
    "    - Conclusion: \"Therefore, the proportion of type A neurons in area X is Y\".\n",
    "- Hard to get a big picture\n",
    "    - No good methods for generalizing from data \n",
    "  \n",
    "- \"Data-rich and theory-poor\" (Churchland & Sejnowski, 1994; still true)\n",
    "    - Need some way to connect these details\n",
    "    - Need unifying theory"
   ]
  },
  {
   "cell_type": "markdown",
   "metadata": {
    "slideshow": {
     "slide_type": "slide"
    }
   },
   "source": [
    "# Recall: Neural Modeling\n",
    "\n",
    "- What I cannot create, I do not understand   <img src=\"files/lecture1/understand.gif\" style=\"float:right\">\n",
    "- Build a computer simulation\n",
    "    - Do to neuroscience what Newton did to physics\n",
    "    - Too complex to be analytically tractable, so use computer simulation\n",
    "- Can we use this to connect the levels?"
   ]
  },
  {
   "cell_type": "markdown",
   "metadata": {
    "slideshow": {
     "slide_type": "subslide"
    }
   },
   "source": [
    "## Single neuron simulation\n",
    "\n",
    "- Hodgkin & Huxley, 1952\n",
    "\n",
    "<img src=\"files/lecture1/hh-neuron1.png\" width=600px>"
   ]
  },
  {
   "cell_type": "markdown",
   "metadata": {
    "slideshow": {
     "slide_type": "subslide"
    }
   },
   "source": [
    "## Single neuron simulation\n",
    "\n",
    "- Hodgkin & Huxley, 1952\n",
    "\n",
    "<img src=\"files/lecture1/hh-neuron2.png\" width=600px>"
   ]
  },
  {
   "cell_type": "markdown",
   "metadata": {
    "slideshow": {
     "slide_type": "subslide"
    }
   },
   "source": [
    "## Single neuron simulation\n",
    "\n",
    "<img src=\"files/lecture1/hh-circuit.png\" width=200px style=\"float:left\">\n",
    "<img src=\"files/lecture1/hh-circuit2.jpg\" width=200px style=\"float:left\">\n",
    "<img src=\"files/lecture1/hh-circuit3.gif\" width=200px style=\"float:left\">"
   ]
  },
  {
   "cell_type": "markdown",
   "metadata": {
    "slideshow": {
     "slide_type": "subslide"
    }
   },
   "source": [
    "## Millions of neurons"
   ]
  },
  {
   "cell_type": "code",
   "execution_count": 9,
   "metadata": {
    "collapsed": false
   },
   "outputs": [
    {
     "data": {
      "text/html": [
       "\n",
       "        <iframe\n",
       "            width=\"600\"\n",
       "            height=\"400\"\n",
       "            src=\"https://www.youtube.com/embed/_UFOSHZ22q4?start=60\"\n",
       "            frameborder=\"0\"\n",
       "            allowfullscreen\n",
       "        ></iframe>\n",
       "        "
      ],
      "text/plain": [
       "<IPython.lib.display.YouTubeVideo at 0x109d64810>"
      ]
     },
     "execution_count": 9,
     "metadata": {},
     "output_type": "execute_result"
    }
   ],
   "source": [
    "from IPython.display import YouTubeVideo\n",
    "YouTubeVideo('_UFOSHZ22q4', width=600, height=400, start=60)"
   ]
  },
  {
   "cell_type": "markdown",
   "metadata": {
    "slideshow": {
     "slide_type": "subslide"
    }
   },
   "source": [
    "## Billions of neurons\n",
    "\n",
    "- Simplify the neuron model and you can run more of them"
   ]
  },
  {
   "cell_type": "code",
   "execution_count": 10,
   "metadata": {
    "collapsed": false
   },
   "outputs": [
    {
     "data": {
      "text/html": [
       "\n",
       "        <iframe\n",
       "            width=\"600\"\n",
       "            height=\"400\"\n",
       "            src=\"https://www.youtube.com/embed/WmChhExovzY\"\n",
       "            frameborder=\"0\"\n",
       "            allowfullscreen\n",
       "        ></iframe>\n",
       "        "
      ],
      "text/plain": [
       "<IPython.lib.display.YouTubeVideo at 0x109d55050>"
      ]
     },
     "execution_count": 10,
     "metadata": {},
     "output_type": "execute_result"
    }
   ],
   "source": [
    "from IPython.display import YouTubeVideo\n",
    "YouTubeVideo('WmChhExovzY', width=600, height=400)"
   ]
  },
  {
   "cell_type": "markdown",
   "metadata": {
    "slideshow": {
     "slide_type": "subslide"
    }
   },
   "source": [
    "# The controversy\n",
    "\n",
    "- What level of detail for the neurons?  How should they be connected?\n",
    "- IBM SyNAPSE project (Dharmendra Modha)\n",
    "    - Billions of neurons, but very simple models\n",
    "    - Randomly connected\n",
    "    - 2009: \"Cat\"-scale brain (1 billion neurons)\n",
    "        - 2012: \"Human\"-scale brain (500 billion neurons; 5x human!)\n",
    "    - Called a [\"hoax and PR stunt\"](http://spectrum.ieee.org/tech-talk/semiconductors/devices/blue-brain-project-leader-angry-about-cat-brain) by:    \n",
    "- Blue Brain (Henry Markram)\n",
    "    - Much more detailed neurons\n",
    "    - Statistically connected (i.e. similar to hippocampus)\n",
    "- How much detail is enough?\n",
    "    - How could we know?"
   ]
  },
  {
   "cell_type": "markdown",
   "metadata": {
    "slideshow": {
     "slide_type": "fragment"
    }
   },
   "source": [
    "## What actually matters...\n",
    "- Connecting brain models to *behaviour*\n",
    "    - How can we build models that actually do something?\n",
    "    - How should we connect realistic neurons so they work together?"
   ]
  },
  {
   "cell_type": "markdown",
   "metadata": {
    "slideshow": {
     "slide_type": "slide"
    }
   },
   "source": [
    "# The Neural Engineering Framework\n",
    "<img src=\"files/lecture1/nef_book.png\" width=200 style=\"border:1px solid black; float:right\">\n",
    "- Our attempt\n",
    "    - Probably wrong, but got to start somewhere\n",
    "- Three principles\n",
    "    - Representation\n",
    "    - Transformation\n",
    "    - Dynamics\n",
    "- Building behaviour out of detailed low-level components"
   ]
  },
  {
   "cell_type": "markdown",
   "metadata": {
    "slideshow": {
     "slide_type": "subslide"
    }
   },
   "source": [
    "## Representation\n",
    "\n",
    "- How do neurons represent information? (What is the neural code?)\n",
    "- What is the mapping between a value to be stored and the activity of a group of neurons?\n",
    "- Examples:\n",
    "    - Edge detection in retina\n",
    "    - Place cells\n",
    "- Every group of neurons can be thought of as representing something\n",
    "    - Each neuron has some preferred value(s)\n",
    "    - Neurons fire more strongly the closer the value is to that preferred value\n",
    "    - Values are *vectors*\n",
    "    "
   ]
  },
  {
   "cell_type": "markdown",
   "metadata": {
    "slideshow": {
     "slide_type": "subslide"
    }
   },
   "source": [
    "## Transformation\n",
    "\n",
    "- Connections compute functions on those vectors\n",
    "- Activity of one group of neurons causes another group to fire\n",
    "    - One group may represent $x$, connected to annother group representing $y$\n",
    "    - Whatever firing pattern we get in $y$ due to $x$ is a function $y = f(x)$\n",
    "- Can find what class of functions are well approximated this way\n",
    "- Puts limits on the algorithms we can implement with neurons"
   ]
  },
  {
   "cell_type": "markdown",
   "metadata": {
    "slideshow": {
     "slide_type": "subslide"
    }
   },
   "source": [
    "## Dynamics\n",
    "\n",
    "- Recurrent connections (feedback)\n",
    "- Turns out to allow us to compute functions of this form:\n",
    "    - ${dx \\over dt} = f(x, u)$\n",
    "    - $x$ is what the neurons represent, $u$ is the input neurons and $f()$ is the transformation\n",
    "- Great for implementing all of control theory (i.e., dynamical systems)\n",
    "    - Example:\n",
    "        - memory: (${dx \\over dt} = u$)"
   ]
  },
  {
   "cell_type": "markdown",
   "metadata": {
    "slideshow": {
     "slide_type": "slide"
    }
   },
   "source": [
    "# Examples\n",
    "\n",
    "- This approach gives us a neural compiler\n",
    "- Given a quantitative description of a behaviour (e.g. an algorithm), you can solve for the connections between neurons that will approximate that behaviour\n",
    "    - Works for a wide variety of neuron models\n",
    "    - Number of neurons affects accuracy\n",
    "    - Neuron properties influence timing and computation\n",
    "    - Can make predictions (e.g. rats head direction and path integration)"
   ]
  },
  {
   "cell_type": "markdown",
   "metadata": {
    "slideshow": {
     "slide_type": "subslide"
    }
   },
   "source": [
    "## Vision: character recognition\n"
   ]
  },
  {
   "cell_type": "code",
   "execution_count": 11,
   "metadata": {
    "collapsed": false
   },
   "outputs": [
    {
     "data": {
      "text/html": [
       "\n",
       "        <iframe\n",
       "            width=\"640\"\n",
       "            height=\"390\"\n",
       "            src=\"https://www.youtube.com/embed/2j9rRHChtXk\"\n",
       "            frameborder=\"0\"\n",
       "            allowfullscreen\n",
       "        ></iframe>\n",
       "        "
      ],
      "text/plain": [
       "<IPython.lib.display.YouTubeVideo at 0x109d641d0>"
      ]
     },
     "execution_count": 11,
     "metadata": {},
     "output_type": "execute_result"
    }
   ],
   "source": [
    "from IPython.display import YouTubeVideo\n",
    "YouTubeVideo('2j9rRHChtXk', width=640, height=390)"
   ]
  },
  {
   "cell_type": "markdown",
   "metadata": {
    "slideshow": {
     "slide_type": "subslide"
    }
   },
   "source": [
    "## Problem solving: Tower of Hanoi"
   ]
  },
  {
   "cell_type": "code",
   "execution_count": 13,
   "metadata": {
    "collapsed": false
   },
   "outputs": [
    {
     "data": {
      "text/html": [
       "\n",
       "        <iframe\n",
       "            width=\"640\"\n",
       "            height=360\"\n",
       "            src=\"https://www.youtube.com/embed/sUvHCs5y0o8\"\n",
       "            frameborder=\"0\"\n",
       "            allowfullscreen\n",
       "        ></iframe>\n",
       "        "
      ],
      "text/plain": [
       "<IPython.lib.display.YouTubeVideo at 0x10c50d450>"
      ]
     },
     "execution_count": 13,
     "metadata": {},
     "output_type": "execute_result"
    }
   ],
   "source": [
    "from IPython.display import YouTubeVideo\n",
    "YouTubeVideo('sUvHCs5y0o8', width=640, height=360)"
   ]
  },
  {
   "cell_type": "markdown",
   "metadata": {
    "slideshow": {
     "slide_type": "subslide"
    }
   },
   "source": [
    "## Spaun: digit recognition"
   ]
  },
  {
   "cell_type": "code",
   "execution_count": 14,
   "metadata": {
    "collapsed": false
   },
   "outputs": [
    {
     "data": {
      "text/html": [
       "\n",
       "        <iframe\n",
       "            width=\"640\"\n",
       "            height=360\"\n",
       "            src=\"https://www.youtube.com/embed/f6Ul5TYK5-o\"\n",
       "            frameborder=\"0\"\n",
       "            allowfullscreen\n",
       "        ></iframe>\n",
       "        "
      ],
      "text/plain": [
       "<IPython.lib.display.YouTubeVideo at 0x10c50d550>"
      ]
     },
     "execution_count": 14,
     "metadata": {},
     "output_type": "execute_result"
    }
   ],
   "source": [
    "from IPython.display import YouTubeVideo\n",
    "YouTubeVideo('f6Ul5TYK5-o', width=640, height=360)"
   ]
  },
  {
   "cell_type": "markdown",
   "metadata": {
    "slideshow": {
     "slide_type": "subslide"
    }
   },
   "source": [
    "## Spaun: copy drawing"
   ]
  },
  {
   "cell_type": "code",
   "execution_count": 15,
   "metadata": {
    "collapsed": false
   },
   "outputs": [
    {
     "data": {
      "text/html": [
       "\n",
       "        <iframe\n",
       "            width=\"640\"\n",
       "            height=390\"\n",
       "            src=\"https://www.youtube.com/embed/WNnMhF7rnYo\"\n",
       "            frameborder=\"0\"\n",
       "            allowfullscreen\n",
       "        ></iframe>\n",
       "        "
      ],
      "text/plain": [
       "<IPython.lib.display.YouTubeVideo at 0x10c50d5d0>"
      ]
     },
     "execution_count": 15,
     "metadata": {},
     "output_type": "execute_result"
    }
   ],
   "source": [
    "from IPython.display import YouTubeVideo\n",
    "YouTubeVideo('WNnMhF7rnYo', width=640, height=390)"
   ]
  },
  {
   "cell_type": "markdown",
   "metadata": {
    "slideshow": {
     "slide_type": "subslide"
    }
   },
   "source": [
    "## Spaun: addition by counting"
   ]
  },
  {
   "cell_type": "code",
   "execution_count": 16,
   "metadata": {
    "collapsed": false
   },
   "outputs": [
    {
     "data": {
      "text/html": [
       "\n",
       "        <iframe\n",
       "            width=\"640\"\n",
       "            height=390\"\n",
       "            src=\"https://www.youtube.com/embed/mP7DX6x9PX8\"\n",
       "            frameborder=\"0\"\n",
       "            allowfullscreen\n",
       "        ></iframe>\n",
       "        "
      ],
      "text/plain": [
       "<IPython.lib.display.YouTubeVideo at 0x10c50d410>"
      ]
     },
     "execution_count": 16,
     "metadata": {},
     "output_type": "execute_result"
    }
   ],
   "source": [
    "from IPython.display import YouTubeVideo\n",
    "YouTubeVideo('mP7DX6x9PX8', width=640, height=390)"
   ]
  },
  {
   "cell_type": "markdown",
   "metadata": {
    "slideshow": {
     "slide_type": "subslide"
    }
   },
   "source": [
    "## Spaun: pattern completion"
   ]
  },
  {
   "cell_type": "code",
   "execution_count": 17,
   "metadata": {
    "collapsed": false
   },
   "outputs": [
    {
     "data": {
      "text/html": [
       "\n",
       "        <iframe\n",
       "            width=\"640\"\n",
       "            height=390\"\n",
       "            src=\"https://www.youtube.com/embed/Q_LRvnwnYp8\"\n",
       "            frameborder=\"0\"\n",
       "            allowfullscreen\n",
       "        ></iframe>\n",
       "        "
      ],
      "text/plain": [
       "<IPython.lib.display.YouTubeVideo at 0x10c50d350>"
      ]
     },
     "execution_count": 17,
     "metadata": {},
     "output_type": "execute_result"
    }
   ],
   "source": [
    "from IPython.display import YouTubeVideo\n",
    "YouTubeVideo('Q_LRvnwnYp8', width=640, height=390)"
   ]
  },
  {
   "cell_type": "markdown",
   "metadata": {
    "slideshow": {
     "slide_type": "slide"
    }
   },
   "source": [
    "# Benefits\n",
    "\n",
    "- No one else can do this\n",
    "- New ways to test theories (neurological constraints)\n",
    "- Suggests different types of algorithms\n",
    "- Potential medical applications\n",
    "- New ways of understanding the mind and who we are\n",
    "\n",
    "<img src=\"files/lecture1/compare.png\">"
   ]
  },
  {
   "cell_type": "code",
   "execution_count": 17,
   "metadata": {
    "collapsed": false
   },
   "outputs": [],
   "source": []
  }
 ],
 "metadata": {
  "kernelspec": {
   "display_name": "Python 2",
   "language": "python",
   "name": "python2"
  },
  "language_info": {
   "codemirror_mode": {
    "name": "ipython",
    "version": 2
   },
   "file_extension": ".py",
   "mimetype": "text/x-python",
   "name": "python",
   "nbconvert_exporter": "python",
   "pygments_lexer": "ipython2",
   "version": "2.7.10"
  }
 },
 "nbformat": 4,
 "nbformat_minor": 0
}
