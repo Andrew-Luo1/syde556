{
 "metadata": {
  "name": "",
  "signature": "sha256:2b699db5679cee558cf097cf02c5b104936ae6d9b67d350925559750f0444355"
 },
 "nbformat": 3,
 "nbformat_minor": 0,
 "worksheets": [
  {
   "cells": [
    {
     "cell_type": "markdown",
     "metadata": {},
     "source": [
      "# SYDE 556/750: Simulating Neurobiological Systems\n",
      "\n",
      "Accompanying Readings: Chapter 8\n",
      "\n",
      "## Dynamics\n",
      "\n",
      "- Everything we've looked at so far has been feedforward\n",
      "    - There's some pattern of activity in one group of neurons representing $x$\n",
      "    - We want that to cause some pattern of activity in another group of neurons to represent $y=f(x)$\n",
      "    - These can be chained together to make more complex systems $z=h(f(x)+g(y))$\n",
      "- What about recurrent networks?\n",
      "    - What happens when we connect a neural group back to itself?\n",
      "    \n",
      "<img src=\"files/lecture5/recnet1.gif\">\n",
      "\n"
     ]
    },
    {
     "cell_type": "markdown",
     "metadata": {},
     "source": [
      "### Recurrent functions\n",
      "\n",
      "- What if we do exactly what we've done so far in the past, but instead of connecting one group of neurons to another, we just connect it back to itself\n",
      "    - Instead of $y=f(x)$\n",
      "    - We get $x=f(x)$ (???)\n",
      "- As written, this is clearly non-sensical\n",
      "    - For example, if we do $f(x)=x+1$ then we'd have $x=x+1$, or $x-x=1$, or $0=1$\n",
      "\n",
      "- But don't forget about time\n",
      "    - What if it was $x_{t+1} = f(x_t)$\n",
      "    - Which makes more sense because we're talking about a real physical system\n",
      "    - This is a lot like a differential equation\n",
      "    - What would happen if we built this?"
     ]
    },
    {
     "cell_type": "markdown",
     "metadata": {},
     "source": [
      "### Try it out\n",
      "\n",
      "- Let's try implementing this kind of circuit\n",
      "- Start with $x=x+1$    "
     ]
    },
    {
     "cell_type": "code",
     "collapsed": false,
     "input": [
      "%pylab inline"
     ],
     "language": "python",
     "metadata": {},
     "outputs": [
      {
       "output_type": "stream",
       "stream": "stdout",
       "text": [
        "Populating the interactive namespace from numpy and matplotlib\n"
       ]
      }
     ],
     "prompt_number": 1
    },
    {
     "cell_type": "code",
     "collapsed": false,
     "input": [
      "import nengo\n",
      "\n",
      "model = nengo.Network()\n",
      "\n",
      "with model:\n",
      "    ensA = nengo.Ensemble(100, dimensions=1)\n",
      "    \n",
      "    def feedback(x):\n",
      "        return x+1\n",
      "    \n",
      "    conn = nengo.Connection(ensA, ensA, function=feedback)\n",
      "\n",
      "    ensA_p = nengo.Probe(ensA, synapse=.01)\n",
      "    \n",
      "sim = nengo.Simulator(model)\n",
      "sim.run(.5)\n",
      "\n",
      "plot(sim.trange(), sim.data[ensA_p])\n",
      "ylim(-1.5,1.5);"
     ],
     "language": "python",
     "metadata": {},
     "outputs": [
      {
       "metadata": {},
       "output_type": "display_data",
       "png": "[encoded data removed]",
       "text": [
        "<matplotlib.figure.Figure at 0x10fba2d50>"
       ]
      }
     ],
     "prompt_number": 18
    },
    {
     "cell_type": "markdown",
     "metadata": {},
     "source": [
      "- That sort of makes sense\n",
      "    - $x$ increases quickly, then hits an upper bound\n",
      "- How quickly?\n",
      "    - What parameters of the system affect this?\n",
      "- What are the precise dynamics?\n",
      "\n",
      "- What about $f(x)=-x$?"
     ]
    },
    {
     "cell_type": "code",
     "collapsed": false,
     "input": [
      "with model:\n",
      "    def feedback(x):\n",
      "        return -x\n",
      "    \n",
      "    conn.function = feedback\n",
      "\n",
      "sim = nengo.Simulator(model)\n",
      "sim.run(.5)\n",
      "\n",
      "plot(sim.trange(), sim.data[ensA_p])\n",
      "ylim(-1.5,1.5);"
     ],
     "language": "python",
     "metadata": {},
     "outputs": [
      {
       "metadata": {},
       "output_type": "display_data",
       "png": "[encoded data removed]",
       "text": [
        "<matplotlib.figure.Figure at 0x113861050>"
       ]
      }
     ],
     "prompt_number": 19
    },
    {
     "cell_type": "markdown",
     "metadata": {},
     "source": [
      "- That also makes sense.  What if we nudge it away from zero?"
     ]
    },
    {
     "cell_type": "code",
     "collapsed": false,
     "input": [
      "from nengo.utils.functions import piecewise\n",
      "\n",
      "with model:\n",
      "    stim = nengo.Node(piecewise({0:1, .2:-1, .4:0}))\n",
      "    nengo.Connection(stim, ensA)\n",
      "    \n",
      "sim = nengo.Simulator(model)\n",
      "sim.run(.6)\n",
      "\n",
      "plot(sim.trange(), sim.data[ensA_p])\n",
      "ylim(-1.5,1.5);"
     ],
     "language": "python",
     "metadata": {},
     "outputs": [
      {
       "metadata": {},
       "output_type": "display_data",
       "png": "[encoded data removed]",
       "text": [
        "<matplotlib.figure.Figure at 0x112ff2690>"
       ]
      }
     ],
     "prompt_number": 20
    },
    {
     "cell_type": "markdown",
     "metadata": {},
     "source": [
      "- With an input of 1, $x=0.5$\n",
      "- With an input of -1, $x=-0.5$\n",
      "- With an input of 0, it goes back to $x=0$\n",
      "- Does this make sense?\n",
      "    - Why / why not?\n",
      "    - And why that particular timing/curvature?\n",
      "    \n",
      "- What about $f(x)=x^2$?    "
     ]
    },
    {
     "cell_type": "code",
     "collapsed": false,
     "input": [
      "with model:\n",
      "    stim.output = piecewise({.1:.2, .2:.4, .4:0})\n",
      "    def feedback(x):\n",
      "        return x*x\n",
      "    \n",
      "    conn.function = feedback\n",
      "\n",
      "sim = nengo.Simulator(model)\n",
      "sim.run(.5)\n",
      "\n",
      "plot(sim.trange(), sim.data[ensA_p])\n",
      "ylim(-1.5,1.5);    "
     ],
     "language": "python",
     "metadata": {},
     "outputs": [
      {
       "metadata": {},
       "output_type": "display_data",
       "png": "[encoded data removed]",
       "text": [
        "<matplotlib.figure.Figure at 0x11304cd90>"
       ]
      }
     ],
     "prompt_number": 31
    },
    {
     "cell_type": "markdown",
     "metadata": {},
     "source": [
      "- Well that's weird\n",
      "    - Stable at $x=0$ with no input \n",
      "    - Stable at .2 \n",
      "    - Unstable at .4, shoots up high\n",
      "    - Something very strange happens around $x=1$ when the input is turned off\n",
      "- Why is this happening?\n"
     ]
    },
    {
     "cell_type": "markdown",
     "metadata": {},
     "source": [
      "### Making sense of dynamics\n",
      "\n",
      "- Let's go back to something simple\n",
      "- Just a single feed-forward neural population\n",
      "    - encode $x$ into current, compute spikes, decode filtered spikes into $\\hat{x}$\n",
      "- Instead of a constant input, let's change the input\n",
      "    - Change it suddenly from zero to one to get a sense of what's happening with changes"
     ]
    },
    {
     "cell_type": "code",
     "collapsed": false,
     "input": [
      "import nengo\n",
      "from nengo.utils.functions import piecewise\n",
      "\n",
      "model = nengo.Network()\n",
      "\n",
      "with model:\n",
      "    stim = nengo.Node(piecewise({.3:1}))\n",
      "    ensA = nengo.Ensemble(100, dimensions=1)\n",
      "    \n",
      "    def feedback(x):\n",
      "        return x\n",
      "    \n",
      "    nengo.Connection(stim, ensA)\n",
      "    #conn = nengo.Connection(ensA, ensA, function=feedback)\n",
      "\n",
      "    stim_p = nengo.Probe(stim)\n",
      "    ensA_p = nengo.Probe(ensA, synapse=.1)\n",
      "    \n",
      "sim = nengo.Simulator(model)\n",
      "sim.run(1)\n",
      "\n",
      "plot(sim.trange(), sim.data[ensA_p], label=\"$\\hat{x}$\")\n",
      "plot(sim.trange(), sim.data[stim_p], label=\"$x$\")\n",
      "legend()\n",
      "ylim(-.2,1.5);"
     ],
     "language": "python",
     "metadata": {},
     "outputs": [
      {
       "metadata": {},
       "output_type": "display_data",
       "png": "[encoded data removed]",
       "text": [
        "<matplotlib.figure.Figure at 0x113108f10>"
       ]
      }
     ],
     "prompt_number": 41
    },
    {
     "cell_type": "markdown",
     "metadata": {},
     "source": [
      "- This was supposed to compute $f(x)=x$\n",
      "- For a constant input, that works\n",
      "    - But we get something else when there's a change in the input\n",
      "- What is this difference?\n",
      "    - What affects it?"
     ]
    },
    {
     "cell_type": "code",
     "collapsed": false,
     "input": [
      "with model:\n",
      "    ensA_p = nengo.Probe(ensA, synapse=.03)\n",
      "\n",
      "sim = nengo.Simulator(model)\n",
      "sim.run(1)\n",
      "\n",
      "plot(sim.trange(), sim.data[ensA_p], label=\"$\\hat{x}$\")\n",
      "plot(sim.trange(), sim.data[stim_p], label=\"$x$\")\n",
      "legend()\n",
      "ylim(-.2,1.5);"
     ],
     "language": "python",
     "metadata": {},
     "outputs": [
      {
       "metadata": {},
       "output_type": "display_data",
       "png": "[encoded data removed]",
       "text": [
        "<matplotlib.figure.Figure at 0x113877c50>"
       ]
      }
     ],
     "prompt_number": 42
    },
    {
     "cell_type": "markdown",
     "metadata": {},
     "source": [
      "- The time constant of the post-synaptic filter\n",
      "- We're not getting $f(x)=x$\n",
      "- Instead we're getting $f(x(t))=x(t)*h(t)$\n"
     ]
    },
    {
     "cell_type": "code",
     "collapsed": false,
     "input": [
      "tau = 0.03\n",
      "with model:\n",
      "    ensA_p = nengo.Probe(ensA, synapse=tau)\n",
      "\n",
      "sim = nengo.Simulator(model)\n",
      "sim.run(1)\n",
      "\n",
      "stim_filt = nengo.synapses.filt(sim.data[stim_p], synapse=tau, dt=sim.dt)\n",
      "\n",
      "plot(sim.trange(), sim.data[ensA_p], label=\"$\\hat{x}$\")\n",
      "plot(sim.trange(), sim.data[stim_p], label=\"$x$\")\n",
      "plot(sim.trange(), stim_filt, label=\"$h(t)*x(t)$\")\n",
      "legend()\n",
      "ylim(-.2,1.5);"
     ],
     "language": "python",
     "metadata": {},
     "outputs": [
      {
       "metadata": {},
       "output_type": "display_data",
       "png": "[encoded data removed]",
       "text": [
        "<matplotlib.figure.Figure at 0x113876750>"
       ]
      }
     ],
     "prompt_number": 47
    },
    {
     "cell_type": "markdown",
     "metadata": {},
     "source": [
      "- So there are dynamics and filtering going on, since there is always a synaptic filter on a connection\n",
      "- Recurrent connections are dynamic as well (i.e. passing past information to future state of the population)\n",
      "- Let's take a look more carefully"
     ]
    },
    {
     "cell_type": "markdown",
     "metadata": {},
     "source": [
      "### Recurrent connections\n",
      "\n",
      "- So a connection actually approximates $f(x(t))*h(t)$\n",
      "- So what does a recurrent connection do?\n",
      "\n",
      "$x(t) = f(x(t))*h(t)$\n",
      "\n",
      "- where $$\n",
      "h(t) = \\begin{cases}\n",
      "    e^{-t/\\tau} &\\mbox{if } t > 0 \\\\ \n",
      "    0 &\\mbox{otherwise} \n",
      "    \\end{cases}\n",
      "$$\n",
      "\n",
      "- How can we work with this?\n",
      "\n",
      "- General rule of thumb: convolutions are annoying, so let's get rid of them\n",
      "- We could do a Fourier transform\n",
      "   - $X(\\omega)=F(\\omega)H(\\omega)$\n",
      "   - but $h(t)$ is this really nice exponential and is zero for values of t<0, so there's another transform that might be a bit easier\n",
      "- Laplace transform\n",
      "   - $X(s)=F(s)H(s)$\n",
      "   - $H(s)={1 \\over {1+s\\tau}}$\n",
      "- rearranging:\n",
      "\n",
      "$X=F {1 \\over {1+s\\tau}}$\n",
      "\n",
      "$X(1+s\\tau) = F$\n",
      "\n",
      "$X + Xs\\tau = F$\n",
      "\n",
      "$sX = {1 \\over \\tau} (F-X)$\n",
      "\n",
      "- convert back into the time domain:\n",
      "\n",
      "${dx \\over dt} = {1 \\over \\tau} (f(x)-x)$\n",
      "\n",
      "\n",
      "\n"
     ]
    },
    {
     "cell_type": "markdown",
     "metadata": {},
     "source": [
      "### Dynamics\n",
      "\n",
      "- This says that if we do a recurrent connection, we actually end up implementing a differential equation\n",
      "\n",
      "- So what happened with $f(x)=x+1$?\n",
      "    - ${dx \\over dt} = {1 \\over \\tau} (x+1-x)$\n",
      "    - ${dx \\over dt} = {1 \\over \\tau}$\n",
      "- what about $f(x)=-x$?\n",
      "    - ${dx \\over dt} = {1 \\over \\tau} (-x-x)$\n",
      "    - ${dx \\over dt} = {-2x \\over \\tau}$\n",
      "- and $f(x)=x^2$?    \n",
      "    - ${dx \\over dt} = {1 \\over \\tau} (x^2-x)$\n",
      "\n",
      "- What if there's some differential equation we really want to implement?\n",
      "    - we want ${dx \\over dt} = f(x)$\n",
      "    - so we do a recurrent connection of $f'(x)=\\tau f(x)+x$\n",
      "    - the resulting model will end up implementing ${dx \\over dt} = {1 \\over \\tau} (\\tau f(x)+x-x)=f(x)$\n",
      "        "
     ]
    },
    {
     "cell_type": "markdown",
     "metadata": {},
     "source": [
      "### Inputs\n",
      "\n",
      "- What happens if there's an input as well?\n",
      "    - We'll call the input $u$ from another population, and it is also computing some function $g(u)$\n",
      "    - $x(t) = f(x(t))*h(t)+g(u(t))*h(t)$\n",
      "- Follow the same derivation steps\n",
      "\n",
      "${dx \\over dt} = {1 \\over \\tau} (f(x)-x + g(u))$\n",
      "\n",
      "- So if you have some input that you want added to ${dx \\over dt}$, you need to scale it by $\\tau$\n",
      "\n",
      "- This lets us do any differential equation of the form ${dx \\over dt}=f(x)+g(u)$\n",
      "    "
     ]
    },
    {
     "cell_type": "markdown",
     "metadata": {},
     "source": [
      "## Applications\n",
      "\n",
      "### Eye control\n",
      "\n",
      "- Part of the brainstem called the nuclei prepositus hypoglossi\n",
      "- Input is eye velocity $v$\n",
      "- Output is eye position $p$\n",
      "- ${dp \\over dt}=v$\n",
      "    - This is an integrator ($p$ is the integral of $v$)\n",
      "\n",
      "- So, to get it in the standard form ${dx \\over dt}=f(x)+g(u)$ we have:\n",
      "    - $f(p)=0$\n",
      "    - $g(v)=v$\n",
      "- So that means we need a recurrent function of $f'(p)=\\tau(0)+p = p$ and $g'(v)=\\tau v$\n"
     ]
    },
    {
     "cell_type": "code",
     "collapsed": false,
     "input": [
      "import nef\n",
      "\n",
      "tau=0.1\n",
      "\n",
      "net = nef.Network('Neural Integrator')\n",
      "net.make('velocity', neurons=100, dimensions=1)\n",
      "net.make('position', neurons=100, dimensions=1)\n",
      "def recurrent(x):\n",
      "    return x[0]\n",
      "net.connect('position', 'position', func=recurrent, pstc=tau)\n",
      "net.connect('velocity', 'position', transform=[[tau]])\n",
      "\n",
      "net.make_input('input', [0])\n",
      "net.connect('input', 'velocity')\n",
      "\n",
      "net.add_to_nengo()\n",
      "net.view()"
     ],
     "language": "python",
     "metadata": {},
     "outputs": []
    },
    {
     "cell_type": "markdown",
     "metadata": {},
     "source": [
      "<img src=\"files/lecture5/integrator.png\">\n",
      "\n",
      "- But, in order to be a perfect integrator, we'd need exactly $f'(p)=p$\n",
      "    - We won't get exactly that\n",
      "    - Neural implementations are always approximations\n",
      "- Two forms of error:\n",
      "    - $E_{distortion}$, the decoding error\n",
      "    - $E_{noise}$, the random noise error\n",
      "- What will they do?\n",
      "\n",
      "<img src=\"files/lecture5/integrator_error.png\">\n",
      "\n",
      "- What affects this?\n",
      "    \n"
     ]
    },
    {
     "cell_type": "code",
     "collapsed": false,
     "input": [
      "import syde556\n",
      "reload(syde556)\n",
      "\n",
      "x = numpy.linspace(-1, 1, 100)\n",
      "\n",
      "A = syde556.Ensemble(neurons=200, dimensions=1, seed=1, tau_rc=0.02)\n",
      "decoder = A.compute_decoder(x, x, noise=0.1)\n",
      "activity, xhat = A.simulate_rate(x, decoder)\n",
      "\n",
      "import pylab\n",
      "pylab.axhline(0, color='k')\n",
      "pylab.plot(x, x-xhat, label='$x-\\hat{x}$')\n",
      "pylab.legend(loc='best')\n",
      "pylab.xlabel('$x$')\n",
      "pylab.show()\n"
     ],
     "language": "python",
     "metadata": {},
     "outputs": [
      {
       "metadata": {},
       "output_type": "display_data",
       "png": "[encoded data removed]",
       "text": [
        "<matplotlib.figure.Figure at 0x7d36518>"
       ]
      }
     ],
     "prompt_number": 6
    },
    {
     "cell_type": "markdown",
     "metadata": {},
     "source": [
      "- So we can think of the distortion error as introducing a bunch of local attractors into the representation\n",
      "    - There will be a tendency to drift towards one of these even if the input is zero\n",
      "- What will random noise do?\n",
      "    - Push the representation back and forth\n",
      "    - What if it is small?\n",
      "    - What if it is large?\n",
      "- So what will changing the post-synaptic time constant $\\tau$ do?\n",
      "    - How does that interact with noise?"
     ]
    },
    {
     "cell_type": "markdown",
     "metadata": {},
     "source": [
      "- But real eyes aren't perfect integrators\n",
      "    - If you get someone to look at someting, then turn off the lights but tell them to keep looking in the same direction, their eye will drift back to centre\n",
      "    - How do we implement that?\n",
      "    \n",
      "${dp \\over dt}=v - {p \\over \\tau_c}$\n",
      "\n",
      "- $\\tau_c$ is the time constant of that return to centre\n",
      "    \n",
      "- $f'(p)=\\tau ({-p \\over \\tau_c})+p$"
     ]
    },
    {
     "cell_type": "code",
     "collapsed": false,
     "input": [
      "import nef\n",
      "\n",
      "tau=0.1\n",
      "tau_centre=1.0\n",
      "net = nef.Network('Neural Integrator')\n",
      "net.make('velocity', neurons=100, dimensions=1)\n",
      "net.make('position', neurons=100, dimensions=1)\n",
      "def recurrent(x):\n",
      "    return (1-tau/tau_centre)*x[0]\n",
      "net.connect('position', 'position', func=recurrent, pstc=tau)\n",
      "net.connect('velocity', 'position', transform=[[tau]])\n",
      "\n",
      "net.make_input('input', [0])\n",
      "net.connect('input', 'velocity')\n",
      "\n",
      "net.add_to_nengo()\n",
      "net.view()"
     ],
     "language": "python",
     "metadata": {},
     "outputs": []
    },
    {
     "cell_type": "markdown",
     "metadata": {},
     "source": [
      "- Humans (a) and Goldfish (b)\n",
      "- Humans have more neurons doing this than goldfish (~70 vs ~20)\n",
      "- They also have slower decay.\n",
      "- Why do these fit together?\n",
      "\n",
      "<img src=\"files/lecture5/integrator_decay.png\">\n",
      "\n",
      "- With fewer neurons, the stable points on the integrator are more attractive, and so a gradual decay is more likely to get stuck\n"
     ]
    },
    {
     "cell_type": "markdown",
     "metadata": {},
     "source": [
      "### Controlled Integrator\n",
      "\n",
      "- What if we want an integrator where we can adjust the decay?\n",
      "- Separate input telling us what the decay constant $d$ should be\n",
      "\n",
      "${dp \\over dt}= v - p d$\n",
      "\n",
      "- So there are two inputs: $v$ and $d$\n",
      "\n",
      "- Can we write this as ${dx \\over dt}=f(x)+g(u)$?\n",
      "- We need to compute a nonlinear function of an input ($d$) and the state variable ($p$)\n",
      "- How can we do this?\n",
      "    - change of variables\n",
      "    - let's have the state variable be $[p, d]$"
     ]
    },
    {
     "cell_type": "code",
     "collapsed": false,
     "input": [
      "import nef\n",
      "\n",
      "tau=0.1\n",
      "tau_centre=1.0\n",
      "net = nef.Network('Controlled Neural Integrator')\n",
      "net.make('decay', neurons=100, dimensions=1)\n",
      "net.make('velocity', neurons=100, dimensions=1)\n",
      "net.make('position', neurons=200, dimensions=2)\n",
      "def recurrent(x):\n",
      "    return x[0]-x[1]*x[0], 0\n",
      "net.connect('position', 'position', func=recurrent, pstc=tau)\n",
      "net.connect('velocity', 'position', transform=[tau, 0])\n",
      "net.connect('decay', 'position', transform=[0, 1])\n",
      "\n",
      "net.make_input('input', [0])\n",
      "net.connect('input', 'velocity')\n",
      "\n",
      "net.make_input('input_decay', [0])\n",
      "net.connect('input_decay', 'decay')\n",
      "\n",
      "net.add_to_nengo()\n",
      "net.view()"
     ],
     "language": "python",
     "metadata": {},
     "outputs": []
    },
    {
     "cell_type": "markdown",
     "metadata": {},
     "source": [
      "<img src=\"files/lecture5/controlled_integrator.png\">"
     ]
    },
    {
     "cell_type": "markdown",
     "metadata": {},
     "source": [
      "### Other fun functions\n",
      "\n",
      "- Oscillator\n",
      "    - ${dx \\over dt}=[x_1, -x_0]$\n",
      "    \n",
      "\n"
     ]
    },
    {
     "cell_type": "code",
     "collapsed": false,
     "input": [
      "import nef\n",
      "net = nef.Network('Linear Oscillator')\n",
      "net.make('A', neurons=100, dimensions=2)\n",
      "def feedback(x):\n",
      "    return x[0]+x[1], -x[0]+x[1]\n",
      "net.connect('A', 'A', func=feedback, pstc=0.01)\n",
      "\n",
      "net.make_input('input', [0])\n",
      "net.connect('input', 'A')\n",
      "\n",
      "net.add_to_nengo()\n",
      "net.view()"
     ],
     "language": "python",
     "metadata": {},
     "outputs": []
    },
    {
     "cell_type": "markdown",
     "metadata": {},
     "source": [
      "<img src=\"files/lecture5/oscillator.png\">\n",
      "\n",
      "- Lorenz Attractor\n",
      "\n",
      "    - ${dx \\over dt}=[10x_1-10x_0, -x_0 x_2-x_1, x_0 x_1 - {8 \\over 3}(x_2+28)-28]$\n"
     ]
    },
    {
     "cell_type": "code",
     "collapsed": false,
     "input": [
      "tau = 0.1\n",
      "sigma = 10\n",
      "beta = 8.0/3\n",
      "rho = 28\n",
      "\n",
      "import nef\n",
      "net = nef.Network('Lorenz attractor', seed=6)\n",
      "net.make('A', 2000, 3, radius=60)\n",
      "\n",
      "def feedback(x):\n",
      "    dx0 = -sigma * x[0] + sigma * x[1]\n",
      "    dx1 = -x[0] * x[2] - x[1]\n",
      "    dx2 = x[0] * x[1] - beta * (x[2] + rho) - rho\n",
      "    return [dx0 * tau + x[0], \n",
      "            dx1 * tau + x[1], \n",
      "            dx2 * tau + x[2]]\n",
      "net.connect('A', 'A', func=feedback, pstc=tau)\n",
      "\n",
      "net.view()"
     ],
     "language": "python",
     "metadata": {},
     "outputs": []
    },
    {
     "cell_type": "markdown",
     "metadata": {},
     "source": [
      "<img src=\"files/lecture5/lorenz.png\">\n",
      "\n",
      "- Note: This is not the original Lorenz attractor.  \n",
      "    - The original is ${dx \\over dt}=[10x_1-10x_0, x_0 (28-x_2)-x_1, x_0 x_1 - {8 \\over 3}(x_2)]$\n",
      "    - Why change it to ${dx \\over dt}=[10x_1-10x_0, -x_0 x_2-x_1, x_0 x_1 - {8 \\over 3}(x_2+28)-28]$?\n",
      "    - What's being changed here?"
     ]
    },
    {
     "cell_type": "markdown",
     "metadata": {},
     "source": [
      "### Oscillators with different paths\n",
      "\n",
      "- Since we can implement any function, we're not limited to linear oscillators\n",
      "- What about a \"square\" oscillator?\n",
      "    - Instead of the value going in a circle, it traces out a square\n",
      "\n",
      "$$\n",
      "{{dx} \\over {dt}} = \\begin{cases}\n",
      "    [r, 0] &\\mbox{if } |x_1|>|x_0| \\wedge x_1>0 \\\\ \n",
      "    [-r, 0] &\\mbox{if } |x_1|>|x_0| \\wedge x_1<0 \\\\ \n",
      "    [0, -r] &\\mbox{if } |x_1|<|x_0| \\wedge x_0>0 \\\\ \n",
      "    [0, r] &\\mbox{if } |x_1|<|x_0| \\wedge x_0<0 \\\\ \n",
      "    \\end{cases}\n",
      "$$    "
     ]
    },
    {
     "cell_type": "code",
     "collapsed": false,
     "input": [
      "import nef\n",
      "net = nef.Network('Square Oscillator')\n",
      "net.make('A', neurons=1000, dimensions=2)\n",
      "\n",
      "tau = 0.02\n",
      "r=4\n",
      "def feedback(x):    \n",
      "    if abs(x[1])>abs(x[0]):\n",
      "        if x[1]>0: dx=[r, 0]\n",
      "        else: dx=[-r, 0]\n",
      "    else:\n",
      "        if x[0]>0: dx=[0, -r]\n",
      "        else: dx=[0, r]\n",
      "    return [tau*dx[0]+x[0], tau*dx[1]+x[1]]        \n",
      "net.connect('A', 'A', func=feedback, pstc=tau)\n",
      "\n",
      "net.make_input('input', [0,0])\n",
      "net.connect('input', 'A')\n",
      "\n",
      "net.add_to_nengo()\n",
      "net.view()"
     ],
     "language": "python",
     "metadata": {},
     "outputs": []
    },
    {
     "cell_type": "markdown",
     "metadata": {},
     "source": [
      "<img src=\"files/lecture5/osc_square.png\">\n",
      "\n",
      "- Does this do what you expect?\n",
      "- How is it affected by:\n",
      "    - Number of neurons?\n",
      "    - Post-synaptic time constant?\n",
      "    - Decoding filter time constant?\n",
      "    - Speed of oscillation (``r``)?"
     ]
    },
    {
     "cell_type": "markdown",
     "metadata": {},
     "source": [
      "- What about this shape?\n",
      "\n"
     ]
    },
    {
     "cell_type": "code",
     "collapsed": false,
     "input": [
      "import nef\n",
      "net = nef.Network('Heart Oscillator')\n",
      "net.make('A', neurons=1000, dimensions=2)\n",
      "\n",
      "tau = 0.02\n",
      "r=4\n",
      "def feedback(x):    \n",
      "    return [-tau*r*x[1]+x[0], tau*r*x[0]+x[1]]\n",
      "net.connect('A', 'A', func=feedback, pstc=tau)\n",
      "\n",
      "from math import atan2, sin, cos, sqrt\n",
      "def heart(x):\n",
      "    theta = atan2(x[1], x[0])\n",
      "    r = 2 - 2 * sin(theta) + sin(theta)*sqrt(abs(cos(theta)))/(sin(theta)+1.4)\n",
      "    return [-r*cos(theta), r*sin(theta)]\n",
      "\n",
      "net.make('B', neurons=10, dimensions=2)\n",
      "net.connect('A', 'B', func=heart, pstc=tau)\n",
      "net.make_input('input', [0,0])\n",
      "net.connect('input', 'A')\n",
      "\n",
      "net.add_to_nengo()\n",
      "net.view()"
     ],
     "language": "python",
     "metadata": {},
     "outputs": []
    },
    {
     "cell_type": "markdown",
     "metadata": {},
     "source": [
      "<img src=\"files/lecture5/osc_heart.png\">\n",
      "\n",
      "- We are doing things differently here\n",
      "- The actual $x$ value is a normal circle oscillator\n",
      "- The heart shape is a function of $x$\n",
      "    - But that's just a different decoder\n",
      "- Would it be possible to do an oscillator where $x$ followed this shape?\n",
      "    - How could we tell them apart in terms of neural behaviour?\n"
     ]
    },
    {
     "cell_type": "markdown",
     "metadata": {},
     "source": [
      "### Controlled Oscillator\n",
      "\n",
      "- ${dx \\over dt}=[x_1 x_2, -x_0 x_2]$"
     ]
    },
    {
     "cell_type": "code",
     "collapsed": false,
     "input": [
      "import nef\n",
      "net = nef.Network('Controlled Oscillator')\n",
      "net.make('A', neurons=500, dimensions=3, radius=1.7)\n",
      "\n",
      "tau = 0.1\n",
      "scale = 10\n",
      "def feedback(x):\n",
      "    return x[1]*x[2]*scale*tau+1.1*x[0], -x[0]*x[2]*scale*tau+1.1*x[1], 0\n",
      "net.connect('A', 'A', func=feedback, pstc=tau)\n",
      "\n",
      "net.make_input('input', [0,0,0])\n",
      "net.connect('input', 'A')\n",
      "\n",
      "net.add_to_nengo()\n",
      "net.view()"
     ],
     "language": "python",
     "metadata": {},
     "outputs": []
    },
    {
     "cell_type": "markdown",
     "metadata": {},
     "source": []
    }
   ],
   "metadata": {}
  }
 ]
}