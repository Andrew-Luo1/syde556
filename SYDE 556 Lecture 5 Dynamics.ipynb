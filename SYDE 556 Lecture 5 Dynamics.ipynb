{
 "cells": [
  {
   "cell_type": "markdown",
   "metadata": {
    "slideshow": {
     "slide_type": "slide"
    }
   },
   "source": [
    "# SYDE 556/750: Simulating Neurobiological Systems\n",
    "\n",
    "Accompanying Readings: Chapter 8\n",
    "\n",
    "ADMIN STUFF: Next assignment, project proposal due dates"
   ]
  },
  {
   "cell_type": "markdown",
   "metadata": {
    "slideshow": {
     "slide_type": "slide"
    }
   },
   "source": [
    "\n",
    "## Dynamics\n",
    "\n",
    "- Everything we've looked at so far has been feedforward\n",
    "    - There's some pattern of activity in one group of neurons representing $x$\n",
    "    - We want that to cause some pattern of activity in another group of neurons to represent $y=f(x)$\n",
    "    - These can be chained together to make more complex systems $z=h(f(x)+g(y))$\n",
    "- What about recurrent networks?\n",
    "    - What happens when we connect a neural group back to itself?\n",
    "    \n",
    "<img src=\"files/lecture5/recnet1.png\">\n",
    "\n"
   ]
  },
  {
   "cell_type": "markdown",
   "metadata": {
    "slideshow": {
     "slide_type": "subslide"
    }
   },
   "source": [
    "### Recurrent functions\n",
    "\n",
    "- What if we do exactly what we've done so far in the past, but instead of connecting one group of neurons to another, we just connect it back to itself\n",
    "    - Instead of $y=f(x)$\n",
    "    - We get $x=f(x)$ (???)\n",
    "- As written, this is clearly non-sensical\n",
    "    - For example, if we do $f(x)=x+1$ then we'd have $x=x+1$, or $x-x=1$, or $0=1$\n",
    "\n"
   ]
  },
  {
   "cell_type": "markdown",
   "metadata": {
    "slideshow": {
     "slide_type": "subslide"
    }
   },
   "source": [
    "- But don't forget about time\n",
    "    - What if it was $x_{t+1} = f(x_t)$\n",
    "    - Which makes more sense because we're talking about a real physical system\n",
    "    - This is a lot like a differential equation\n",
    "    - What would happen if we built this?"
   ]
  },
  {
   "cell_type": "markdown",
   "metadata": {
    "slideshow": {
     "slide_type": "slide"
    }
   },
   "source": [
    "### Try it out\n",
    "\n",
    "- Let's try implementing this kind of circuit\n",
    "- Start with $x_{t+1}=x_t+1$    "
   ]
  },
  {
   "cell_type": "code",
   "execution_count": 35,
   "metadata": {
    "slideshow": {
     "slide_type": "fragment"
    }
   },
   "outputs": [
    {
     "name": "stdout",
     "output_type": "stream",
     "text": [
      "Populating the interactive namespace from numpy and matplotlib\n"
     ]
    },
    {
     "name": "stderr",
     "output_type": "stream",
     "text": [
      "//anaconda/envs/python3/lib/python3.6/site-packages/IPython/core/magics/pylab.py:160: UserWarning: pylab import has clobbered these variables: ['piecewise']\n",
      "`%matplotlib` prevents importing * from pylab and numpy\n",
      "  \"\\n`%matplotlib` prevents importing * from pylab and numpy\"\n"
     ]
    }
   ],
   "source": [
    "%pylab inline"
   ]
  },
  {
   "cell_type": "code",
   "execution_count": 36,
   "metadata": {
    "slideshow": {
     "slide_type": "subslide"
    }
   },
   "outputs": [
    {
     "data": {
      "text/html": [
       "\n",
       "                <div id=\"d99c4f51-4f9f-4e8f-984d-0d062037cf19\" style=\"\n",
       "                    width: 100%;\n",
       "                    border: 1px solid #cfcfcf;\n",
       "                    border-radius: 4px;\n",
       "                    text-align: center;\n",
       "                    position: relative;\">\n",
       "                  <div class=\"pb-text\" style=\"\n",
       "                      position: absolute;\n",
       "                      width: 100%;\">\n",
       "                    0%\n",
       "                  </div>\n",
       "                  <div class=\"pb-fill\" style=\"\n",
       "                      background-color: #bdd2e6;\n",
       "                      width: 0%;\">\n",
       "                    <style type=\"text/css\" scoped=\"scoped\">\n",
       "                        @keyframes pb-fill-anim {\n",
       "                            0% { background-position: 0 0; }\n",
       "                            100% { background-position: 100px 0; }\n",
       "                        }\n",
       "                    </style>\n",
       "                    &nbsp;\n",
       "                  </div>\n",
       "                </div>"
      ],
      "text/plain": [
       "HtmlProgressBar cannot be displayed. Please use the TerminalProgressBar. It can be enabled with `nengo.rc.set('progress', 'progress_bar', 'nengo.utils.progress.TerminalProgressBar')`."
      ]
     },
     "metadata": {},
     "output_type": "display_data"
    },
    {
     "data": {
      "application/javascript": [
       "\n",
       "              (function () {\n",
       "                  var root = document.getElementById('d99c4f51-4f9f-4e8f-984d-0d062037cf19');\n",
       "                  var text = root.getElementsByClassName('pb-text')[0];\n",
       "                  var fill = root.getElementsByClassName('pb-fill')[0];\n",
       "\n",
       "                  text.innerHTML = 'Build finished in 0:00:01.';\n",
       "                  \n",
       "            fill.style.width = '100%';\n",
       "            fill.style.animation = 'pb-fill-anim 2s linear infinite';\n",
       "            fill.style.backgroundSize = '100px 100%';\n",
       "            fill.style.backgroundImage = 'repeating-linear-gradient(' +\n",
       "                '90deg, #bdd2e6, #edf2f8 40%, #bdd2e6 80%, #bdd2e6)';\n",
       "        \n",
       "                  \n",
       "                fill.style.animation = 'none';\n",
       "                fill.style.backgroundImage = 'none';\n",
       "            \n",
       "              })();\n",
       "        "
      ],
      "text/plain": [
       "<IPython.core.display.Javascript object>"
      ]
     },
     "metadata": {},
     "output_type": "display_data"
    },
    {
     "data": {
      "text/html": [
       "\n",
       "                <div id=\"35019189-ee65-41d2-9be9-fa185c541386\" style=\"\n",
       "                    width: 100%;\n",
       "                    border: 1px solid #cfcfcf;\n",
       "                    border-radius: 4px;\n",
       "                    text-align: center;\n",
       "                    position: relative;\">\n",
       "                  <div class=\"pb-text\" style=\"\n",
       "                      position: absolute;\n",
       "                      width: 100%;\">\n",
       "                    0%\n",
       "                  </div>\n",
       "                  <div class=\"pb-fill\" style=\"\n",
       "                      background-color: #bdd2e6;\n",
       "                      width: 0%;\">\n",
       "                    <style type=\"text/css\" scoped=\"scoped\">\n",
       "                        @keyframes pb-fill-anim {\n",
       "                            0% { background-position: 0 0; }\n",
       "                            100% { background-position: 100px 0; }\n",
       "                        }\n",
       "                    </style>\n",
       "                    &nbsp;\n",
       "                  </div>\n",
       "                </div>"
      ],
      "text/plain": [
       "HtmlProgressBar cannot be displayed. Please use the TerminalProgressBar. It can be enabled with `nengo.rc.set('progress', 'progress_bar', 'nengo.utils.progress.TerminalProgressBar')`."
      ]
     },
     "metadata": {},
     "output_type": "display_data"
    },
    {
     "data": {
      "application/javascript": [
       "\n",
       "              (function () {\n",
       "                  var root = document.getElementById('35019189-ee65-41d2-9be9-fa185c541386');\n",
       "                  var text = root.getElementsByClassName('pb-text')[0];\n",
       "                  var fill = root.getElementsByClassName('pb-fill')[0];\n",
       "\n",
       "                  text.innerHTML = 'Simulation finished in 0:00:01.';\n",
       "                  \n",
       "            if (100.0 > 0.) {\n",
       "                fill.style.transition = 'width 0.1s linear';\n",
       "            } else {\n",
       "                fill.style.transition = 'none';\n",
       "            }\n",
       "\n",
       "            fill.style.width = '100.0%';\n",
       "            fill.style.animation = 'none';\n",
       "            fill.style.backgroundImage = 'none'\n",
       "        \n",
       "                  \n",
       "                fill.style.animation = 'none';\n",
       "                fill.style.backgroundImage = 'none';\n",
       "            \n",
       "              })();\n",
       "        "
      ],
      "text/plain": [
       "<IPython.core.display.Javascript object>"
      ]
     },
     "metadata": {},
     "output_type": "display_data"
    },
    {
     "data": {
      "image/png": "[encoded data removed]",
      "text/plain": [
       "<matplotlib.figure.Figure at 0x11ca90198>"
      ]
     },
     "metadata": {
      "needs_background": "light"
     },
     "output_type": "display_data"
    }
   ],
   "source": [
    "import nengo\n",
    "\n",
    "model = nengo.Network()\n",
    "\n",
    "with model:\n",
    "    ensA = nengo.Ensemble(100, dimensions=1)\n",
    "    \n",
    "    def feedback(x):\n",
    "        return x+1\n",
    "    \n",
    "    conn = nengo.Connection(ensA, ensA, function=feedback, synapse = 0.1)\n",
    "\n",
    "    ensA_p = nengo.Probe(ensA, synapse=.01)\n",
    "    \n",
    "sim = nengo.Simulator(model)\n",
    "sim.run(.5)\n",
    "\n",
    "plot(sim.trange(), sim.data[ensA_p])\n",
    "ylim(-1.5,1.5);"
   ]
  },
  {
   "cell_type": "markdown",
   "metadata": {
    "slideshow": {
     "slide_type": "subslide"
    }
   },
   "source": [
    "- That sort of makes sense\n",
    "    - $x$ increases quickly, then hits an upper bound\n",
    "- How quickly?\n",
    "    - What parameters of the system affect this?\n",
    "- What are the precise dynamics?\n",
    "\n",
    "- What about $f(x)=-x$?"
   ]
  },
  {
   "cell_type": "code",
   "execution_count": 37,
   "metadata": {
    "slideshow": {
     "slide_type": "subslide"
    }
   },
   "outputs": [
    {
     "data": {
      "text/html": [
       "\n",
       "                <div id=\"c84e176d-ecf4-4084-966d-e6224c6b49ac\" style=\"\n",
       "                    width: 100%;\n",
       "                    border: 1px solid #cfcfcf;\n",
       "                    border-radius: 4px;\n",
       "                    text-align: center;\n",
       "                    position: relative;\">\n",
       "                  <div class=\"pb-text\" style=\"\n",
       "                      position: absolute;\n",
       "                      width: 100%;\">\n",
       "                    0%\n",
       "                  </div>\n",
       "                  <div class=\"pb-fill\" style=\"\n",
       "                      background-color: #bdd2e6;\n",
       "                      width: 0%;\">\n",
       "                    <style type=\"text/css\" scoped=\"scoped\">\n",
       "                        @keyframes pb-fill-anim {\n",
       "                            0% { background-position: 0 0; }\n",
       "                            100% { background-position: 100px 0; }\n",
       "                        }\n",
       "                    </style>\n",
       "                    &nbsp;\n",
       "                  </div>\n",
       "                </div>"
      ],
      "text/plain": [
       "HtmlProgressBar cannot be displayed. Please use the TerminalProgressBar. It can be enabled with `nengo.rc.set('progress', 'progress_bar', 'nengo.utils.progress.TerminalProgressBar')`."
      ]
     },
     "metadata": {},
     "output_type": "display_data"
    },
    {
     "data": {
      "application/javascript": [
       "\n",
       "              (function () {\n",
       "                  var root = document.getElementById('c84e176d-ecf4-4084-966d-e6224c6b49ac');\n",
       "                  var text = root.getElementsByClassName('pb-text')[0];\n",
       "                  var fill = root.getElementsByClassName('pb-fill')[0];\n",
       "\n",
       "                  text.innerHTML = 'Build finished in 0:00:01.';\n",
       "                  \n",
       "            fill.style.width = '100%';\n",
       "            fill.style.animation = 'pb-fill-anim 2s linear infinite';\n",
       "            fill.style.backgroundSize = '100px 100%';\n",
       "            fill.style.backgroundImage = 'repeating-linear-gradient(' +\n",
       "                '90deg, #bdd2e6, #edf2f8 40%, #bdd2e6 80%, #bdd2e6)';\n",
       "        \n",
       "                  \n",
       "                fill.style.animation = 'none';\n",
       "                fill.style.backgroundImage = 'none';\n",
       "            \n",
       "              })();\n",
       "        "
      ],
      "text/plain": [
       "<IPython.core.display.Javascript object>"
      ]
     },
     "metadata": {},
     "output_type": "display_data"
    },
    {
     "data": {
      "text/html": [
       "\n",
       "                <div id=\"98c026aa-f37c-49a3-9ade-11b3dc8cbedc\" style=\"\n",
       "                    width: 100%;\n",
       "                    border: 1px solid #cfcfcf;\n",
       "                    border-radius: 4px;\n",
       "                    text-align: center;\n",
       "                    position: relative;\">\n",
       "                  <div class=\"pb-text\" style=\"\n",
       "                      position: absolute;\n",
       "                      width: 100%;\">\n",
       "                    0%\n",
       "                  </div>\n",
       "                  <div class=\"pb-fill\" style=\"\n",
       "                      background-color: #bdd2e6;\n",
       "                      width: 0%;\">\n",
       "                    <style type=\"text/css\" scoped=\"scoped\">\n",
       "                        @keyframes pb-fill-anim {\n",
       "                            0% { background-position: 0 0; }\n",
       "                            100% { background-position: 100px 0; }\n",
       "                        }\n",
       "                    </style>\n",
       "                    &nbsp;\n",
       "                  </div>\n",
       "                </div>"
      ],
      "text/plain": [
       "HtmlProgressBar cannot be displayed. Please use the TerminalProgressBar. It can be enabled with `nengo.rc.set('progress', 'progress_bar', 'nengo.utils.progress.TerminalProgressBar')`."
      ]
     },
     "metadata": {},
     "output_type": "display_data"
    },
    {
     "data": {
      "application/javascript": [
       "\n",
       "              (function () {\n",
       "                  var root = document.getElementById('98c026aa-f37c-49a3-9ade-11b3dc8cbedc');\n",
       "                  var text = root.getElementsByClassName('pb-text')[0];\n",
       "                  var fill = root.getElementsByClassName('pb-fill')[0];\n",
       "\n",
       "                  text.innerHTML = 'Simulation finished in 0:00:01.';\n",
       "                  \n",
       "            if (100.0 > 0.) {\n",
       "                fill.style.transition = 'width 0.1s linear';\n",
       "            } else {\n",
       "                fill.style.transition = 'none';\n",
       "            }\n",
       "\n",
       "            fill.style.width = '100.0%';\n",
       "            fill.style.animation = 'none';\n",
       "            fill.style.backgroundImage = 'none'\n",
       "        \n",
       "                  \n",
       "                fill.style.animation = 'none';\n",
       "                fill.style.backgroundImage = 'none';\n",
       "            \n",
       "              })();\n",
       "        "
      ],
      "text/plain": [
       "<IPython.core.display.Javascript object>"
      ]
     },
     "metadata": {},
     "output_type": "display_data"
    },
    {
     "data": {
      "image/png": "[encoded data removed]",
      "text/plain": [
       "<matplotlib.figure.Figure at 0x120f117b8>"
      ]
     },
     "metadata": {
      "needs_background": "light"
     },
     "output_type": "display_data"
    }
   ],
   "source": [
    "with model:\n",
    "    def feedback(x):\n",
    "        return -x\n",
    "    \n",
    "    conn.function = feedback\n",
    "\n",
    "sim = nengo.Simulator(model)\n",
    "sim.run(.5)\n",
    "\n",
    "plot(sim.trange(), sim.data[ensA_p])\n",
    "ylim(-1.5,1.5);"
   ]
  },
  {
   "cell_type": "markdown",
   "metadata": {
    "slideshow": {
     "slide_type": "subslide"
    }
   },
   "source": [
    "- That also makes sense.  What if we nudge it away from zero?"
   ]
  },
  {
   "cell_type": "code",
   "execution_count": 38,
   "metadata": {
    "slideshow": {
     "slide_type": "subslide"
    }
   },
   "outputs": [
    {
     "data": {
      "text/html": [
       "\n",
       "                <div id=\"5b79ee1e-94a4-4d02-9a52-077fd2f500b1\" style=\"\n",
       "                    width: 100%;\n",
       "                    border: 1px solid #cfcfcf;\n",
       "                    border-radius: 4px;\n",
       "                    text-align: center;\n",
       "                    position: relative;\">\n",
       "                  <div class=\"pb-text\" style=\"\n",
       "                      position: absolute;\n",
       "                      width: 100%;\">\n",
       "                    0%\n",
       "                  </div>\n",
       "                  <div class=\"pb-fill\" style=\"\n",
       "                      background-color: #bdd2e6;\n",
       "                      width: 0%;\">\n",
       "                    <style type=\"text/css\" scoped=\"scoped\">\n",
       "                        @keyframes pb-fill-anim {\n",
       "                            0% { background-position: 0 0; }\n",
       "                            100% { background-position: 100px 0; }\n",
       "                        }\n",
       "                    </style>\n",
       "                    &nbsp;\n",
       "                  </div>\n",
       "                </div>"
      ],
      "text/plain": [
       "HtmlProgressBar cannot be displayed. Please use the TerminalProgressBar. It can be enabled with `nengo.rc.set('progress', 'progress_bar', 'nengo.utils.progress.TerminalProgressBar')`."
      ]
     },
     "metadata": {},
     "output_type": "display_data"
    },
    {
     "data": {
      "application/javascript": [
       "\n",
       "              (function () {\n",
       "                  var root = document.getElementById('5b79ee1e-94a4-4d02-9a52-077fd2f500b1');\n",
       "                  var text = root.getElementsByClassName('pb-text')[0];\n",
       "                  var fill = root.getElementsByClassName('pb-fill')[0];\n",
       "\n",
       "                  text.innerHTML = 'Build finished in 0:00:01.';\n",
       "                  \n",
       "            fill.style.width = '100%';\n",
       "            fill.style.animation = 'pb-fill-anim 2s linear infinite';\n",
       "            fill.style.backgroundSize = '100px 100%';\n",
       "            fill.style.backgroundImage = 'repeating-linear-gradient(' +\n",
       "                '90deg, #bdd2e6, #edf2f8 40%, #bdd2e6 80%, #bdd2e6)';\n",
       "        \n",
       "                  \n",
       "                fill.style.animation = 'none';\n",
       "                fill.style.backgroundImage = 'none';\n",
       "            \n",
       "              })();\n",
       "        "
      ],
      "text/plain": [
       "<IPython.core.display.Javascript object>"
      ]
     },
     "metadata": {},
     "output_type": "display_data"
    },
    {
     "data": {
      "text/html": [
       "\n",
       "                <div id=\"4e0987f7-ab9f-47f6-8a78-518ea2042652\" style=\"\n",
       "                    width: 100%;\n",
       "                    border: 1px solid #cfcfcf;\n",
       "                    border-radius: 4px;\n",
       "                    text-align: center;\n",
       "                    position: relative;\">\n",
       "                  <div class=\"pb-text\" style=\"\n",
       "                      position: absolute;\n",
       "                      width: 100%;\">\n",
       "                    0%\n",
       "                  </div>\n",
       "                  <div class=\"pb-fill\" style=\"\n",
       "                      background-color: #bdd2e6;\n",
       "                      width: 0%;\">\n",
       "                    <style type=\"text/css\" scoped=\"scoped\">\n",
       "                        @keyframes pb-fill-anim {\n",
       "                            0% { background-position: 0 0; }\n",
       "                            100% { background-position: 100px 0; }\n",
       "                        }\n",
       "                    </style>\n",
       "                    &nbsp;\n",
       "                  </div>\n",
       "                </div>"
      ],
      "text/plain": [
       "HtmlProgressBar cannot be displayed. Please use the TerminalProgressBar. It can be enabled with `nengo.rc.set('progress', 'progress_bar', 'nengo.utils.progress.TerminalProgressBar')`."
      ]
     },
     "metadata": {},
     "output_type": "display_data"
    },
    {
     "data": {
      "application/javascript": [
       "\n",
       "              (function () {\n",
       "                  var root = document.getElementById('4e0987f7-ab9f-47f6-8a78-518ea2042652');\n",
       "                  var text = root.getElementsByClassName('pb-text')[0];\n",
       "                  var fill = root.getElementsByClassName('pb-fill')[0];\n",
       "\n",
       "                  text.innerHTML = 'Simulation finished in 0:00:01.';\n",
       "                  \n",
       "            if (100.0 > 0.) {\n",
       "                fill.style.transition = 'width 0.1s linear';\n",
       "            } else {\n",
       "                fill.style.transition = 'none';\n",
       "            }\n",
       "\n",
       "            fill.style.width = '100.0%';\n",
       "            fill.style.animation = 'none';\n",
       "            fill.style.backgroundImage = 'none'\n",
       "        \n",
       "                  \n",
       "                fill.style.animation = 'none';\n",
       "                fill.style.backgroundImage = 'none';\n",
       "            \n",
       "              })();\n",
       "        "
      ],
      "text/plain": [
       "<IPython.core.display.Javascript object>"
      ]
     },
     "metadata": {},
     "output_type": "display_data"
    },
    {
     "data": {
      "image/png": "[encoded data removed]",
      "text/plain": [
       "<matplotlib.figure.Figure at 0x121e0bd30>"
      ]
     },
     "metadata": {
      "needs_background": "light"
     },
     "output_type": "display_data"
    }
   ],
   "source": [
    "from nengo.utils.functions import piecewise\n",
    "\n",
    "with model:\n",
    "    stim = nengo.Node(piecewise({0:1, .2:-1, .4:0}))\n",
    "    nengo.Connection(stim, ensA)\n",
    "    \n",
    "sim = nengo.Simulator(model)\n",
    "sim.run(.6)\n",
    "\n",
    "plot(sim.trange(), sim.data[ensA_p])\n",
    "ylim(-1.5,1.5);"
   ]
  },
  {
   "cell_type": "markdown",
   "metadata": {
    "slideshow": {
     "slide_type": "subslide"
    }
   },
   "source": [
    "- With an input of 1, $x=0.5$\n",
    "- With an input of -1, $x=-0.5$\n",
    "- With an input of 0, it goes back to $x=0$\n",
    "- Does this make sense?\n",
    "    - Why / why not?\n",
    "    - And why that particular timing/curvature?\n",
    "    \n",
    "- What about $f(x)=x^2$?    "
   ]
  },
  {
   "cell_type": "code",
   "execution_count": 39,
   "metadata": {
    "slideshow": {
     "slide_type": "subslide"
    }
   },
   "outputs": [
    {
     "data": {
      "text/html": [
       "\n",
       "                <div id=\"2fe94aa7-7663-4da0-ac79-6923a3212b2f\" style=\"\n",
       "                    width: 100%;\n",
       "                    border: 1px solid #cfcfcf;\n",
       "                    border-radius: 4px;\n",
       "                    text-align: center;\n",
       "                    position: relative;\">\n",
       "                  <div class=\"pb-text\" style=\"\n",
       "                      position: absolute;\n",
       "                      width: 100%;\">\n",
       "                    0%\n",
       "                  </div>\n",
       "                  <div class=\"pb-fill\" style=\"\n",
       "                      background-color: #bdd2e6;\n",
       "                      width: 0%;\">\n",
       "                    <style type=\"text/css\" scoped=\"scoped\">\n",
       "                        @keyframes pb-fill-anim {\n",
       "                            0% { background-position: 0 0; }\n",
       "                            100% { background-position: 100px 0; }\n",
       "                        }\n",
       "                    </style>\n",
       "                    &nbsp;\n",
       "                  </div>\n",
       "                </div>"
      ],
      "text/plain": [
       "HtmlProgressBar cannot be displayed. Please use the TerminalProgressBar. It can be enabled with `nengo.rc.set('progress', 'progress_bar', 'nengo.utils.progress.TerminalProgressBar')`."
      ]
     },
     "metadata": {},
     "output_type": "display_data"
    },
    {
     "data": {
      "application/javascript": [
       "\n",
       "              (function () {\n",
       "                  var root = document.getElementById('2fe94aa7-7663-4da0-ac79-6923a3212b2f');\n",
       "                  var text = root.getElementsByClassName('pb-text')[0];\n",
       "                  var fill = root.getElementsByClassName('pb-fill')[0];\n",
       "\n",
       "                  text.innerHTML = 'Build finished in 0:00:01.';\n",
       "                  \n",
       "            fill.style.width = '100%';\n",
       "            fill.style.animation = 'pb-fill-anim 2s linear infinite';\n",
       "            fill.style.backgroundSize = '100px 100%';\n",
       "            fill.style.backgroundImage = 'repeating-linear-gradient(' +\n",
       "                '90deg, #bdd2e6, #edf2f8 40%, #bdd2e6 80%, #bdd2e6)';\n",
       "        \n",
       "                  \n",
       "                fill.style.animation = 'none';\n",
       "                fill.style.backgroundImage = 'none';\n",
       "            \n",
       "              })();\n",
       "        "
      ],
      "text/plain": [
       "<IPython.core.display.Javascript object>"
      ]
     },
     "metadata": {},
     "output_type": "display_data"
    },
    {
     "data": {
      "text/html": [
       "\n",
       "                <div id=\"40608abe-11d4-4875-8a66-e61a8ba13170\" style=\"\n",
       "                    width: 100%;\n",
       "                    border: 1px solid #cfcfcf;\n",
       "                    border-radius: 4px;\n",
       "                    text-align: center;\n",
       "                    position: relative;\">\n",
       "                  <div class=\"pb-text\" style=\"\n",
       "                      position: absolute;\n",
       "                      width: 100%;\">\n",
       "                    0%\n",
       "                  </div>\n",
       "                  <div class=\"pb-fill\" style=\"\n",
       "                      background-color: #bdd2e6;\n",
       "                      width: 0%;\">\n",
       "                    <style type=\"text/css\" scoped=\"scoped\">\n",
       "                        @keyframes pb-fill-anim {\n",
       "                            0% { background-position: 0 0; }\n",
       "                            100% { background-position: 100px 0; }\n",
       "                        }\n",
       "                    </style>\n",
       "                    &nbsp;\n",
       "                  </div>\n",
       "                </div>"
      ],
      "text/plain": [
       "HtmlProgressBar cannot be displayed. Please use the TerminalProgressBar. It can be enabled with `nengo.rc.set('progress', 'progress_bar', 'nengo.utils.progress.TerminalProgressBar')`."
      ]
     },
     "metadata": {},
     "output_type": "display_data"
    },
    {
     "data": {
      "application/javascript": [
       "\n",
       "              (function () {\n",
       "                  var root = document.getElementById('40608abe-11d4-4875-8a66-e61a8ba13170');\n",
       "                  var text = root.getElementsByClassName('pb-text')[0];\n",
       "                  var fill = root.getElementsByClassName('pb-fill')[0];\n",
       "\n",
       "                  text.innerHTML = 'Simulation finished in 0:00:01.';\n",
       "                  \n",
       "            if (100.0 > 0.) {\n",
       "                fill.style.transition = 'width 0.1s linear';\n",
       "            } else {\n",
       "                fill.style.transition = 'none';\n",
       "            }\n",
       "\n",
       "            fill.style.width = '100.0%';\n",
       "            fill.style.animation = 'none';\n",
       "            fill.style.backgroundImage = 'none'\n",
       "        \n",
       "                  \n",
       "                fill.style.animation = 'none';\n",
       "                fill.style.backgroundImage = 'none';\n",
       "            \n",
       "              })();\n",
       "        "
      ],
      "text/plain": [
       "<IPython.core.display.Javascript object>"
      ]
     },
     "metadata": {},
     "output_type": "display_data"
    },
    {
     "data": {
      "image/png": "[encoded data removed]",
      "text/plain": [
       "<matplotlib.figure.Figure at 0x12244b940>"
      ]
     },
     "metadata": {
      "needs_background": "light"
     },
     "output_type": "display_data"
    }
   ],
   "source": [
    "with model:\n",
    "    stim.output = piecewise({.1:.2, .2:.4, .5:0})\n",
    "    def feedback(x):\n",
    "        return x*x\n",
    "    \n",
    "    conn.function = feedback\n",
    "\n",
    "sim = nengo.Simulator(model)\n",
    "sim.run(.6)\n",
    "\n",
    "plot(sim.trange(), sim.data[ensA_p])\n",
    "ylim(-1.5,1.5);    "
   ]
  },
  {
   "cell_type": "markdown",
   "metadata": {
    "slideshow": {
     "slide_type": "subslide"
    }
   },
   "source": [
    "- Well that's weird\n",
    "    - Stable at $x=0$ with no input \n",
    "    - Stable at .2 \n",
    "    - Unstable at .4, shoots up high\n",
    "    - Something very strange happens around $x=1$ when the input is turned off (why decay if $f(x) = x^2$?)\n",
    "- Why is this happening?\n"
   ]
  },
  {
   "cell_type": "markdown",
   "metadata": {
    "slideshow": {
     "slide_type": "slide"
    }
   },
   "source": [
    "### Making sense of dynamics\n",
    "\n",
    "- Let's go back to something simple\n",
    "- Just a single feed-forward neural population\n",
    "    - Encode $x$ into current, compute spikes, decode filtered spikes into $\\hat{x}$\n",
    "- Instead of a constant input, let's change the input\n",
    "    - Change it suddenly from zero to one to get a sense of what's happening with changes"
   ]
  },
  {
   "cell_type": "code",
   "execution_count": 43,
   "metadata": {
    "slideshow": {
     "slide_type": "subslide"
    }
   },
   "outputs": [
    {
     "data": {
      "text/html": [
       "\n",
       "                <div id=\"e66f3f1d-0926-4dfc-81b2-294b3eacd2cb\" style=\"\n",
       "                    width: 100%;\n",
       "                    border: 1px solid #cfcfcf;\n",
       "                    border-radius: 4px;\n",
       "                    text-align: center;\n",
       "                    position: relative;\">\n",
       "                  <div class=\"pb-text\" style=\"\n",
       "                      position: absolute;\n",
       "                      width: 100%;\">\n",
       "                    0%\n",
       "                  </div>\n",
       "                  <div class=\"pb-fill\" style=\"\n",
       "                      background-color: #bdd2e6;\n",
       "                      width: 0%;\">\n",
       "                    <style type=\"text/css\" scoped=\"scoped\">\n",
       "                        @keyframes pb-fill-anim {\n",
       "                            0% { background-position: 0 0; }\n",
       "                            100% { background-position: 100px 0; }\n",
       "                        }\n",
       "                    </style>\n",
       "                    &nbsp;\n",
       "                  </div>\n",
       "                </div>"
      ],
      "text/plain": [
       "HtmlProgressBar cannot be displayed. Please use the TerminalProgressBar. It can be enabled with `nengo.rc.set('progress', 'progress_bar', 'nengo.utils.progress.TerminalProgressBar')`."
      ]
     },
     "metadata": {},
     "output_type": "display_data"
    },
    {
     "data": {
      "application/javascript": [
       "\n",
       "              (function () {\n",
       "                  var root = document.getElementById('e66f3f1d-0926-4dfc-81b2-294b3eacd2cb');\n",
       "                  var text = root.getElementsByClassName('pb-text')[0];\n",
       "                  var fill = root.getElementsByClassName('pb-fill')[0];\n",
       "\n",
       "                  text.innerHTML = 'Build finished in 0:00:01.';\n",
       "                  \n",
       "            fill.style.width = '100%';\n",
       "            fill.style.animation = 'pb-fill-anim 2s linear infinite';\n",
       "            fill.style.backgroundSize = '100px 100%';\n",
       "            fill.style.backgroundImage = 'repeating-linear-gradient(' +\n",
       "                '90deg, #bdd2e6, #edf2f8 40%, #bdd2e6 80%, #bdd2e6)';\n",
       "        \n",
       "                  \n",
       "                fill.style.animation = 'none';\n",
       "                fill.style.backgroundImage = 'none';\n",
       "            \n",
       "              })();\n",
       "        "
      ],
      "text/plain": [
       "<IPython.core.display.Javascript object>"
      ]
     },
     "metadata": {},
     "output_type": "display_data"
    },
    {
     "data": {
      "text/html": [
       "\n",
       "                <div id=\"b290e7ae-469c-4637-a73f-4b6491682737\" style=\"\n",
       "                    width: 100%;\n",
       "                    border: 1px solid #cfcfcf;\n",
       "                    border-radius: 4px;\n",
       "                    text-align: center;\n",
       "                    position: relative;\">\n",
       "                  <div class=\"pb-text\" style=\"\n",
       "                      position: absolute;\n",
       "                      width: 100%;\">\n",
       "                    0%\n",
       "                  </div>\n",
       "                  <div class=\"pb-fill\" style=\"\n",
       "                      background-color: #bdd2e6;\n",
       "                      width: 0%;\">\n",
       "                    <style type=\"text/css\" scoped=\"scoped\">\n",
       "                        @keyframes pb-fill-anim {\n",
       "                            0% { background-position: 0 0; }\n",
       "                            100% { background-position: 100px 0; }\n",
       "                        }\n",
       "                    </style>\n",
       "                    &nbsp;\n",
       "                  </div>\n",
       "                </div>"
      ],
      "text/plain": [
       "HtmlProgressBar cannot be displayed. Please use the TerminalProgressBar. It can be enabled with `nengo.rc.set('progress', 'progress_bar', 'nengo.utils.progress.TerminalProgressBar')`."
      ]
     },
     "metadata": {},
     "output_type": "display_data"
    },
    {
     "data": {
      "application/javascript": [
       "\n",
       "              (function () {\n",
       "                  var root = document.getElementById('b290e7ae-469c-4637-a73f-4b6491682737');\n",
       "                  var text = root.getElementsByClassName('pb-text')[0];\n",
       "                  var fill = root.getElementsByClassName('pb-fill')[0];\n",
       "\n",
       "                  text.innerHTML = 'Simulation finished in 0:00:01.';\n",
       "                  \n",
       "            if (100.0 > 0.) {\n",
       "                fill.style.transition = 'width 0.1s linear';\n",
       "            } else {\n",
       "                fill.style.transition = 'none';\n",
       "            }\n",
       "\n",
       "            fill.style.width = '100.0%';\n",
       "            fill.style.animation = 'none';\n",
       "            fill.style.backgroundImage = 'none'\n",
       "        \n",
       "                  \n",
       "                fill.style.animation = 'none';\n",
       "                fill.style.backgroundImage = 'none';\n",
       "            \n",
       "              })();\n",
       "        "
      ],
      "text/plain": [
       "<IPython.core.display.Javascript object>"
      ]
     },
     "metadata": {},
     "output_type": "display_data"
    },
    {
     "data": {
      "image/png": "[encoded data removed]",
      "text/plain": [
       "<matplotlib.figure.Figure at 0x123f4f978>"
      ]
     },
     "metadata": {
      "needs_background": "light"
     },
     "output_type": "display_data"
    }
   ],
   "source": [
    "import nengo\n",
    "from nengo.utils.functions import piecewise\n",
    "\n",
    "model = nengo.Network(seed=4)\n",
    "\n",
    "with model:\n",
    "    stim = nengo.Node(piecewise({.3:1}))\n",
    "    ensA = nengo.Ensemble(100, dimensions=1)\n",
    "    \n",
    "    def feedback(x):\n",
    "        return x\n",
    "    \n",
    "    nengo.Connection(stim, ensA)\n",
    "    #conn = nengo.Connection(ensA, ensA, function=feedback)\n",
    "\n",
    "    stim_p = nengo.Probe(stim)\n",
    "    ensA_p = nengo.Probe(ensA, synapse=0.01)\n",
    "    \n",
    "sim = nengo.Simulator(model)\n",
    "sim.run(1)\n",
    "\n",
    "plot(sim.trange(), sim.data[ensA_p], label=\"$\\hat{x}$\")\n",
    "plot(sim.trange(), sim.data[stim_p], label=\"$x$\")\n",
    "legend()\n",
    "ylim(-.2,1.5);"
   ]
  },
  {
   "cell_type": "markdown",
   "metadata": {
    "slideshow": {
     "slide_type": "subslide"
    }
   },
   "source": [
    "- This was supposed to compute $f(x)=x$\n",
    "- For a constant input, that works\n",
    "    - But we get something else when there's a change in the input\n",
    "- What is this difference?\n",
    "    - What affects it?"
   ]
  },
  {
   "cell_type": "code",
   "execution_count": 44,
   "metadata": {
    "slideshow": {
     "slide_type": "subslide"
    }
   },
   "outputs": [
    {
     "data": {
      "text/html": [
       "\n",
       "                <div id=\"698f6f8e-dcc5-44fa-86f6-3f8de028d1ed\" style=\"\n",
       "                    width: 100%;\n",
       "                    border: 1px solid #cfcfcf;\n",
       "                    border-radius: 4px;\n",
       "                    text-align: center;\n",
       "                    position: relative;\">\n",
       "                  <div class=\"pb-text\" style=\"\n",
       "                      position: absolute;\n",
       "                      width: 100%;\">\n",
       "                    0%\n",
       "                  </div>\n",
       "                  <div class=\"pb-fill\" style=\"\n",
       "                      background-color: #bdd2e6;\n",
       "                      width: 0%;\">\n",
       "                    <style type=\"text/css\" scoped=\"scoped\">\n",
       "                        @keyframes pb-fill-anim {\n",
       "                            0% { background-position: 0 0; }\n",
       "                            100% { background-position: 100px 0; }\n",
       "                        }\n",
       "                    </style>\n",
       "                    &nbsp;\n",
       "                  </div>\n",
       "                </div>"
      ],
      "text/plain": [
       "HtmlProgressBar cannot be displayed. Please use the TerminalProgressBar. It can be enabled with `nengo.rc.set('progress', 'progress_bar', 'nengo.utils.progress.TerminalProgressBar')`."
      ]
     },
     "metadata": {},
     "output_type": "display_data"
    },
    {
     "data": {
      "application/javascript": [
       "\n",
       "              (function () {\n",
       "                  var root = document.getElementById('698f6f8e-dcc5-44fa-86f6-3f8de028d1ed');\n",
       "                  var text = root.getElementsByClassName('pb-text')[0];\n",
       "                  var fill = root.getElementsByClassName('pb-fill')[0];\n",
       "\n",
       "                  text.innerHTML = 'Build finished in 0:00:01.';\n",
       "                  \n",
       "            fill.style.width = '100%';\n",
       "            fill.style.animation = 'pb-fill-anim 2s linear infinite';\n",
       "            fill.style.backgroundSize = '100px 100%';\n",
       "            fill.style.backgroundImage = 'repeating-linear-gradient(' +\n",
       "                '90deg, #bdd2e6, #edf2f8 40%, #bdd2e6 80%, #bdd2e6)';\n",
       "        \n",
       "                  \n",
       "                fill.style.animation = 'none';\n",
       "                fill.style.backgroundImage = 'none';\n",
       "            \n",
       "              })();\n",
       "        "
      ],
      "text/plain": [
       "<IPython.core.display.Javascript object>"
      ]
     },
     "metadata": {},
     "output_type": "display_data"
    },
    {
     "data": {
      "text/html": [
       "\n",
       "                <div id=\"d6d1b5b8-ab15-4684-952a-06a53f9dd8a0\" style=\"\n",
       "                    width: 100%;\n",
       "                    border: 1px solid #cfcfcf;\n",
       "                    border-radius: 4px;\n",
       "                    text-align: center;\n",
       "                    position: relative;\">\n",
       "                  <div class=\"pb-text\" style=\"\n",
       "                      position: absolute;\n",
       "                      width: 100%;\">\n",
       "                    0%\n",
       "                  </div>\n",
       "                  <div class=\"pb-fill\" style=\"\n",
       "                      background-color: #bdd2e6;\n",
       "                      width: 0%;\">\n",
       "                    <style type=\"text/css\" scoped=\"scoped\">\n",
       "                        @keyframes pb-fill-anim {\n",
       "                            0% { background-position: 0 0; }\n",
       "                            100% { background-position: 100px 0; }\n",
       "                        }\n",
       "                    </style>\n",
       "                    &nbsp;\n",
       "                  </div>\n",
       "                </div>"
      ],
      "text/plain": [
       "HtmlProgressBar cannot be displayed. Please use the TerminalProgressBar. It can be enabled with `nengo.rc.set('progress', 'progress_bar', 'nengo.utils.progress.TerminalProgressBar')`."
      ]
     },
     "metadata": {},
     "output_type": "display_data"
    },
    {
     "data": {
      "application/javascript": [
       "\n",
       "              (function () {\n",
       "                  var root = document.getElementById('d6d1b5b8-ab15-4684-952a-06a53f9dd8a0');\n",
       "                  var text = root.getElementsByClassName('pb-text')[0];\n",
       "                  var fill = root.getElementsByClassName('pb-fill')[0];\n",
       "\n",
       "                  text.innerHTML = 'Simulation finished in 0:00:01.';\n",
       "                  \n",
       "            if (100.0 > 0.) {\n",
       "                fill.style.transition = 'width 0.1s linear';\n",
       "            } else {\n",
       "                fill.style.transition = 'none';\n",
       "            }\n",
       "\n",
       "            fill.style.width = '100.0%';\n",
       "            fill.style.animation = 'none';\n",
       "            fill.style.backgroundImage = 'none'\n",
       "        \n",
       "                  \n",
       "                fill.style.animation = 'none';\n",
       "                fill.style.backgroundImage = 'none';\n",
       "            \n",
       "              })();\n",
       "        "
      ],
      "text/plain": [
       "<IPython.core.display.Javascript object>"
      ]
     },
     "metadata": {},
     "output_type": "display_data"
    },
    {
     "data": {
      "image/png": "[encoded data removed]",
      "text/plain": [
       "<matplotlib.figure.Figure at 0x123ecf208>"
      ]
     },
     "metadata": {
      "needs_background": "light"
     },
     "output_type": "display_data"
    }
   ],
   "source": [
    "with model:\n",
    "    ensA_p = nengo.Probe(ensA, synapse=0.03)\n",
    "    \n",
    "sim = nengo.Simulator(model)\n",
    "sim.run(1)\n",
    "\n",
    "plot(sim.trange(), sim.data[ensA_p], label=\"$\\hat{x}$\")\n",
    "plot(sim.trange(), sim.data[stim_p], label=\"$x$\")\n",
    "legend()\n",
    "ylim(-.2,1.5);"
   ]
  },
  {
   "cell_type": "markdown",
   "metadata": {
    "slideshow": {
     "slide_type": "subslide"
    }
   },
   "source": [
    "- The time constant of the post-synaptic filter\n",
    "- We're not getting $f(x)=x$\n",
    "- Instead we're getting $f(x(t))=x(t)*h(t)$\n"
   ]
  },
  {
   "cell_type": "code",
   "execution_count": 45,
   "metadata": {
    "slideshow": {
     "slide_type": "subslide"
    }
   },
   "outputs": [
    {
     "data": {
      "text/html": [
       "\n",
       "                <div id=\"221446c7-1ea3-4012-80ba-00b439ade7f0\" style=\"\n",
       "                    width: 100%;\n",
       "                    border: 1px solid #cfcfcf;\n",
       "                    border-radius: 4px;\n",
       "                    text-align: center;\n",
       "                    position: relative;\">\n",
       "                  <div class=\"pb-text\" style=\"\n",
       "                      position: absolute;\n",
       "                      width: 100%;\">\n",
       "                    0%\n",
       "                  </div>\n",
       "                  <div class=\"pb-fill\" style=\"\n",
       "                      background-color: #bdd2e6;\n",
       "                      width: 0%;\">\n",
       "                    <style type=\"text/css\" scoped=\"scoped\">\n",
       "                        @keyframes pb-fill-anim {\n",
       "                            0% { background-position: 0 0; }\n",
       "                            100% { background-position: 100px 0; }\n",
       "                        }\n",
       "                    </style>\n",
       "                    &nbsp;\n",
       "                  </div>\n",
       "                </div>"
      ],
      "text/plain": [
       "HtmlProgressBar cannot be displayed. Please use the TerminalProgressBar. It can be enabled with `nengo.rc.set('progress', 'progress_bar', 'nengo.utils.progress.TerminalProgressBar')`."
      ]
     },
     "metadata": {},
     "output_type": "display_data"
    },
    {
     "data": {
      "application/javascript": [
       "\n",
       "              (function () {\n",
       "                  var root = document.getElementById('221446c7-1ea3-4012-80ba-00b439ade7f0');\n",
       "                  var text = root.getElementsByClassName('pb-text')[0];\n",
       "                  var fill = root.getElementsByClassName('pb-fill')[0];\n",
       "\n",
       "                  text.innerHTML = 'Build finished in 0:00:01.';\n",
       "                  \n",
       "            fill.style.width = '100%';\n",
       "            fill.style.animation = 'pb-fill-anim 2s linear infinite';\n",
       "            fill.style.backgroundSize = '100px 100%';\n",
       "            fill.style.backgroundImage = 'repeating-linear-gradient(' +\n",
       "                '90deg, #bdd2e6, #edf2f8 40%, #bdd2e6 80%, #bdd2e6)';\n",
       "        \n",
       "                  \n",
       "                fill.style.animation = 'none';\n",
       "                fill.style.backgroundImage = 'none';\n",
       "            \n",
       "              })();\n",
       "        "
      ],
      "text/plain": [
       "<IPython.core.display.Javascript object>"
      ]
     },
     "metadata": {},
     "output_type": "display_data"
    },
    {
     "data": {
      "text/html": [
       "\n",
       "                <div id=\"3a8cef88-4b54-42d9-a686-29fa7d09c77d\" style=\"\n",
       "                    width: 100%;\n",
       "                    border: 1px solid #cfcfcf;\n",
       "                    border-radius: 4px;\n",
       "                    text-align: center;\n",
       "                    position: relative;\">\n",
       "                  <div class=\"pb-text\" style=\"\n",
       "                      position: absolute;\n",
       "                      width: 100%;\">\n",
       "                    0%\n",
       "                  </div>\n",
       "                  <div class=\"pb-fill\" style=\"\n",
       "                      background-color: #bdd2e6;\n",
       "                      width: 0%;\">\n",
       "                    <style type=\"text/css\" scoped=\"scoped\">\n",
       "                        @keyframes pb-fill-anim {\n",
       "                            0% { background-position: 0 0; }\n",
       "                            100% { background-position: 100px 0; }\n",
       "                        }\n",
       "                    </style>\n",
       "                    &nbsp;\n",
       "                  </div>\n",
       "                </div>"
      ],
      "text/plain": [
       "HtmlProgressBar cannot be displayed. Please use the TerminalProgressBar. It can be enabled with `nengo.rc.set('progress', 'progress_bar', 'nengo.utils.progress.TerminalProgressBar')`."
      ]
     },
     "metadata": {},
     "output_type": "display_data"
    },
    {
     "data": {
      "application/javascript": [
       "\n",
       "              (function () {\n",
       "                  var root = document.getElementById('3a8cef88-4b54-42d9-a686-29fa7d09c77d');\n",
       "                  var text = root.getElementsByClassName('pb-text')[0];\n",
       "                  var fill = root.getElementsByClassName('pb-fill')[0];\n",
       "\n",
       "                  text.innerHTML = 'Simulation finished in 0:00:01.';\n",
       "                  \n",
       "            if (100.0 > 0.) {\n",
       "                fill.style.transition = 'width 0.1s linear';\n",
       "            } else {\n",
       "                fill.style.transition = 'none';\n",
       "            }\n",
       "\n",
       "            fill.style.width = '100.0%';\n",
       "            fill.style.animation = 'none';\n",
       "            fill.style.backgroundImage = 'none'\n",
       "        \n",
       "                  \n",
       "                fill.style.animation = 'none';\n",
       "                fill.style.backgroundImage = 'none';\n",
       "            \n",
       "              })();\n",
       "        "
      ],
      "text/plain": [
       "<IPython.core.display.Javascript object>"
      ]
     },
     "metadata": {},
     "output_type": "display_data"
    },
    {
     "data": {
      "image/png": "[encoded data removed]",
      "text/plain": [
       "<matplotlib.figure.Figure at 0x123e6db70>"
      ]
     },
     "metadata": {
      "needs_background": "light"
     },
     "output_type": "display_data"
    }
   ],
   "source": [
    "tau = 0.03\n",
    "with model:\n",
    "    ensA_p = nengo.Probe(ensA, synapse=tau)\n",
    "\n",
    "sim = nengo.Simulator(model)\n",
    "sim.run(1)\n",
    "\n",
    "stim_filt = nengo.Lowpass(tau).filt(sim.data[stim_p], dt=sim.dt)\n",
    "\n",
    "plot(sim.trange(), sim.data[ensA_p], label=\"$\\hat{x}$\")\n",
    "plot(sim.trange(), sim.data[stim_p], label=\"$x$\")\n",
    "plot(sim.trange(), stim_filt, label=\"$h(t)*x(t)$\")\n",
    "legend()\n",
    "ylim(-.2,1.5);"
   ]
  },
  {
   "cell_type": "markdown",
   "metadata": {
    "slideshow": {
     "slide_type": "subslide"
    }
   },
   "source": [
    "- So there are dynamics and filtering going on, since there is always a synaptic filter on a connection\n",
    "- Why isn't it exactly the same?\n",
    "- Recurrent connections are dynamic as well (i.e. passing past information to future state of the population)\n",
    "- Let's take a look more carefully"
   ]
  },
  {
   "cell_type": "markdown",
   "metadata": {
    "slideshow": {
     "slide_type": "slide"
    }
   },
   "source": [
    "### Recurrent connections\n",
    "\n",
    "- So a connection actually approximates $f(x(t))*h(t)$\n",
    "- So what does a recurrent connection do?\n",
    "\n",
    "    - Also $x(t) = f(x(t))*h(t)$\n",
    "\n",
    "- where $$\n",
    "h(t) = \\begin{cases}\n",
    "    e^{-t/\\tau} &\\mbox{if } t > 0 \\\\ \n",
    "    0 &\\mbox{otherwise} \n",
    "    \\end{cases}\n",
    "$$\n",
    "\n",
    "- How can we work with this?\n"
   ]
  },
  {
   "cell_type": "markdown",
   "metadata": {
    "slideshow": {
     "slide_type": "subslide"
    }
   },
   "source": [
    "- General rule of thumb: convolutions are annoying, so let's get rid of them\n",
    "- We could do a Fourier transform\n",
    "   - $X(\\omega)=F(\\omega)H(\\omega)$\n",
    "   - But, since we are studying the response of a system (rather than a continuous signal), there's a more general and appropriate transform that makes life even easier:\n",
    "- Laplace transform (it is more general because $s = a + j\\omega$)\n",
    "- The Laplace transform of our equations are:\n",
    "   - $X(s)=F(s)H(s)$\n",
    "   - $H(s)={1 \\over {1+s\\tau}}$\n",
    "- Rearranging:\n",
    "\n",
    "$X(s)=F(s){1 \\over {1+s\\tau}}$\n",
    "\n",
    "$X(s)(1+s\\tau) = F(s)$\n",
    "\n",
    "$X(s) + X(s)s\\tau = F(s)$\n",
    "\n",
    "$sX(s) = {1 \\over \\tau} (F(s)-X(s))$\n",
    "\n",
    "- Convert back into the time domain (inverse Laplace):\n",
    "\n",
    "${dx \\over dt} = {1 \\over \\tau} (f(x(t))-x(t))$"
   ]
  },
  {
   "cell_type": "markdown",
   "metadata": {
    "slideshow": {
     "slide_type": "subslide"
    }
   },
   "source": [
    "### Dynamics\n",
    "\n",
    "- This says that if we introduce a recurrent connection, we end up implementing a differential equation\n",
    "\n",
    "- So what happened with $f(x)=x+1$?\n",
    "    - $\\dot{x} = {1 \\over \\tau} (x+1-x)$\n",
    "    - $\\dot{x} = {1 \\over \\tau}$\n",
    "- What about $f(x)=-x$?\n",
    "    - $\\dot{x} = {1 \\over \\tau} (-x-x)$\n",
    "    - $\\dot{x} = {-2x \\over \\tau}$\n",
    "    - Consistent with figures above, so at inputs of $\\pm 1$ get to $0 = 2x\\pm 1$, $x=\\pm .5$ \n",
    "- And $f(x)=x^2$?    \n",
    "    - $\\dot{x} = {1 \\over \\tau} (x^2-x)$\n",
    "    - Consistent with figure, at input of .2, $0=x^2-x+.2=(x-.7)(x-.2)$, for input of .4 you get imaginary solutions.\n",
    "    - For 0 input, x = 0,1 ... what if we get it over 1 before turning off input?"
   ]
  },
  {
   "cell_type": "markdown",
   "metadata": {
    "slideshow": {
     "slide_type": "subslide"
    }
   },
   "source": [
    "### Synthesis\n",
    "- What if there's some differential equation we really want to implement?\n",
    "    - We want $\\dot{x} = f(x)$\n",
    "    - So we do a recurrent connection of $f'(x)=\\tau f(x)+x$\n",
    "    - The resulting model will end up implementing $\\dot{x} = {1 \\over \\tau} (\\tau f(x)+x-x)=f(x)$\n",
    "        "
   ]
  },
  {
   "cell_type": "markdown",
   "metadata": {
    "slideshow": {
     "slide_type": "subslide"
    }
   },
   "source": [
    "### Inputs\n",
    "\n",
    "- What happens if there's an input as well?\n",
    "    - We'll call the input $u$ from another population, and it is also computing some function $g(u)$\n",
    "    - $x(t) = f(x(t))*h(t)+g(u(t))*h(t)$\n",
    "\n",
    "- Follow the same derivation steps\n",
    "    - $\\dot{x} = {1 \\over \\tau} (f(x)-x + g(u))$\n",
    "\n",
    "- So if you have some input that you want added to $\\dot{x}$, you need to scale it by $\\tau$\n",
    "\n",
    "- This lets us do any differential equation of the form $\\dot{x}=f(x)+g(u)$\n",
    "    "
   ]
  },
  {
   "cell_type": "markdown",
   "metadata": {
    "slideshow": {
     "slide_type": "slide"
    }
   },
   "source": [
    "### A derivation\n",
    "\n",
    "#### Linear systems\n",
    "- The book shows that we can implement any equation of the form\n",
    "\n",
    "$\\dot{x}(t) = A x(t) + B u(t)$\n",
    "\n",
    "- Where $A$ and $x$ are a matrix and vector -- giving a standard control theoretic structure\n",
    "<img src=\"files/lecture5/control_sys.png\" width=\"600\">\n",
    "- Our goal is to convert this to a structure which has $h(t)$ as the transfer function instead of the standard $\\int$\n",
    "<img src=\"files/lecture5/control_sysh.png\" width=\"600\">\n",
    "\n",
    "\n"
   ]
  },
  {
   "cell_type": "markdown",
   "metadata": {},
   "source": [
    "- Using Laplace on the standard form gives:\n",
    "\n",
    "$sX(s) = A X(s) + B U(s)$\n",
    "\n",
    "- Laplace on the 'neural control' form gives (as before where $F(s) = A'X(s) + B'U(s)$):\n",
    "\n",
    "$X(s) = {1 \\over {1 + s\\tau}} (A'X(s) + B'U(s))$\n",
    "\n",
    "$X(s) + \\tau sX(s) = (A'X(s) + B'U(s))$\n",
    "\n",
    "$sX(s) = {1 \\over \\tau} (A'X(s) + B'U(s) - X(s))$\n",
    "\n",
    "$sX(s) = {1 \\over \\tau} ((A' - 1) X(s) + B'U(s))$\n",
    "\n",
    "- Making the 'standard' and 'neural' equations equal to one another, we find that for any system with a given A and B, the A' and B' of the equivalent neural system are given by:\n",
    "\n",
    "$A' = \\tau A + I$ and\n",
    "\n",
    "$B' = \\tau B$\n",
    "\n",
    "- where $I$ is the identity matrix\n",
    "\n",
    "- This is nice because lots of engineers think of the systems they build in these terms (i.e. as linear control systems)."
   ]
  },
  {
   "cell_type": "markdown",
   "metadata": {
    "slideshow": {
     "slide_type": "subslide"
    }
   },
   "source": [
    "\n",
    "#### Nonlinear systems\n",
    "- In fact, these same steps can be taken to account for nonlinear control systems as well:\n",
    "\n",
    "$\\dot{x}(t) = f(x(t),u(t),t)$\n",
    "\n",
    "- For a neural system with transfer function $h(t)$:\n",
    "\n",
    "$X(s) = H(s)F'(X(s),U(s),s)$\n",
    "\n",
    "$X(s) = {1 \\over {1 + s\\tau}} F'(X(s),U(s),s)$\n",
    "\n",
    "$sX(s) = {1 \\over \\tau} (F'(X(s),U(s),s) - X(s))$\n",
    "\n",
    "- This gives the general result (slightly more general than what we saw earlier):\n",
    "\n",
    "$F'(X(s),U(s),s) = \\tau(F(X(s),U(s),s)) + X(s)$"
   ]
  },
  {
   "cell_type": "markdown",
   "metadata": {
    "slideshow": {
     "slide_type": "slide"
    }
   },
   "source": [
    "## Applications\n",
    "\n",
    "### Eye control\n",
    "\n",
    "- Part of the brainstem called the nuclei prepositus hypoglossi\n",
    "- Input is eye velocity $v$\n",
    "- Output is eye position $x$\n",
    "- $\\dot{x}=v$\n",
    "    - This is an integrator ($x$ is the integral of $v$)\n"
   ]
  },
  {
   "cell_type": "markdown",
   "metadata": {
    "slideshow": {
     "slide_type": "subslide"
    }
   },
   "source": [
    "- It's a linear system, so, to get it in the standard control form $\\dot{x}=Ax+Bu$ we have:\n",
    "    - $A=0$\n",
    "    - $B=1$\n",
    "- So that means we need $A'=\\tau 0 + I = 1$ and $B'=\\tau 1 = \\tau$\n",
    "<img src=\"files/lecture5/eye_sys.png\" width=\"400\">"
   ]
  },
  {
   "cell_type": "code",
   "execution_count": 33,
   "metadata": {
    "slideshow": {
     "slide_type": "subslide"
    }
   },
   "outputs": [
    {
     "data": {
      "text/html": [
       "\n",
       "                <div id=\"f60294b5-0fad-4b9e-96b7-ed28ba06415b\" style=\"\n",
       "                    width: 100%;\n",
       "                    border: 1px solid #cfcfcf;\n",
       "                    border-radius: 4px;\n",
       "                    text-align: center;\n",
       "                    position: relative;\">\n",
       "                  <div class=\"pb-text\" style=\"\n",
       "                      position: absolute;\n",
       "                      width: 100%;\">\n",
       "                    0%\n",
       "                  </div>\n",
       "                  <div class=\"pb-fill\" style=\"\n",
       "                      background-color: #bdd2e6;\n",
       "                      width: 0%;\">\n",
       "                    <style type=\"text/css\" scoped=\"scoped\">\n",
       "                        @keyframes pb-fill-anim {\n",
       "                            0% { background-position: 0 0; }\n",
       "                            100% { background-position: 100px 0; }\n",
       "                        }\n",
       "                    </style>\n",
       "                    &nbsp;\n",
       "                  </div>\n",
       "                </div>"
      ],
      "text/plain": [
       "HtmlProgressBar cannot be displayed. Please use the TerminalProgressBar. It can be enabled with `nengo.rc.set('progress', 'progress_bar', 'nengo.utils.progress.TerminalProgressBar')`."
      ]
     },
     "metadata": {},
     "output_type": "display_data"
    },
    {
     "data": {
      "application/javascript": [
       "\n",
       "              (function () {\n",
       "                  var root = document.getElementById('f60294b5-0fad-4b9e-96b7-ed28ba06415b');\n",
       "                  var text = root.getElementsByClassName('pb-text')[0];\n",
       "                  var fill = root.getElementsByClassName('pb-fill')[0];\n",
       "\n",
       "                  text.innerHTML = 'Build finished in 0:00:01.';\n",
       "                  \n",
       "            fill.style.width = '100%';\n",
       "            fill.style.animation = 'pb-fill-anim 2s linear infinite';\n",
       "            fill.style.backgroundSize = '100px 100%';\n",
       "            fill.style.backgroundImage = 'repeating-linear-gradient(' +\n",
       "                '90deg, #bdd2e6, #edf2f8 40%, #bdd2e6 80%, #bdd2e6)';\n",
       "        \n",
       "                  \n",
       "                fill.style.animation = 'none';\n",
       "                fill.style.backgroundImage = 'none';\n",
       "            \n",
       "              })();\n",
       "        "
      ],
      "text/plain": [
       "<IPython.core.display.Javascript object>"
      ]
     },
     "metadata": {},
     "output_type": "display_data"
    },
    {
     "data": {
      "text/html": [
       "\n",
       "                <div id=\"e15136f3-b7cc-4e06-ac56-57b9952c578b\" style=\"\n",
       "                    width: 100%;\n",
       "                    border: 1px solid #cfcfcf;\n",
       "                    border-radius: 4px;\n",
       "                    text-align: center;\n",
       "                    position: relative;\">\n",
       "                  <div class=\"pb-text\" style=\"\n",
       "                      position: absolute;\n",
       "                      width: 100%;\">\n",
       "                    0%\n",
       "                  </div>\n",
       "                  <div class=\"pb-fill\" style=\"\n",
       "                      background-color: #bdd2e6;\n",
       "                      width: 0%;\">\n",
       "                    <style type=\"text/css\" scoped=\"scoped\">\n",
       "                        @keyframes pb-fill-anim {\n",
       "                            0% { background-position: 0 0; }\n",
       "                            100% { background-position: 100px 0; }\n",
       "                        }\n",
       "                    </style>\n",
       "                    &nbsp;\n",
       "                  </div>\n",
       "                </div>"
      ],
      "text/plain": [
       "HtmlProgressBar cannot be displayed. Please use the TerminalProgressBar. It can be enabled with `nengo.rc.set('progress', 'progress_bar', 'nengo.utils.progress.TerminalProgressBar')`."
      ]
     },
     "metadata": {},
     "output_type": "display_data"
    },
    {
     "data": {
      "application/javascript": [
       "\n",
       "              (function () {\n",
       "                  var root = document.getElementById('e15136f3-b7cc-4e06-ac56-57b9952c578b');\n",
       "                  var text = root.getElementsByClassName('pb-text')[0];\n",
       "                  var fill = root.getElementsByClassName('pb-fill')[0];\n",
       "\n",
       "                  text.innerHTML = 'Simulation finished in 0:00:01.';\n",
       "                  \n",
       "            if (100.0 > 0.) {\n",
       "                fill.style.transition = 'width 0.1s linear';\n",
       "            } else {\n",
       "                fill.style.transition = 'none';\n",
       "            }\n",
       "\n",
       "            fill.style.width = '100.0%';\n",
       "            fill.style.animation = 'none';\n",
       "            fill.style.backgroundImage = 'none'\n",
       "        \n",
       "                  \n",
       "                fill.style.animation = 'none';\n",
       "                fill.style.backgroundImage = 'none';\n",
       "            \n",
       "              })();\n",
       "        "
      ],
      "text/plain": [
       "<IPython.core.display.Javascript object>"
      ]
     },
     "metadata": {},
     "output_type": "display_data"
    },
    {
     "data": {
      "image/png": "[encoded data removed]",
      "text/plain": [
       "<matplotlib.figure.Figure at 0x10f258f98>"
      ]
     },
     "metadata": {
      "needs_background": "light"
     },
     "output_type": "display_data"
    }
   ],
   "source": [
    "import nengo\n",
    "from nengo.utils.functions import piecewise\n",
    "from nengo.utils.ensemble import tuning_curves\n",
    "\n",
    "tau = 0.01\n",
    "\n",
    "model = nengo.Network('Eye control', seed=8)\n",
    "\n",
    "with model:\n",
    "    stim = nengo.Node(piecewise({.3:1, .6:0 }))\n",
    "    velocity = nengo.Ensemble(100, dimensions=1)\n",
    "    position = nengo.Ensemble(200, dimensions=1)\n",
    "    \n",
    "    def feedback(x):\n",
    "        return 1*x\n",
    "    \n",
    "    conn = nengo.Connection(stim, velocity)\n",
    "    conn = nengo.Connection(velocity, position, transform=tau, synapse=tau)\n",
    "    conn = nengo.Connection(position, position, function=feedback, synapse=tau)\n",
    "\n",
    "    stim_p = nengo.Probe(stim)\n",
    "    position_p = nengo.Probe(position, synapse=.01)\n",
    "    velocity_p = nengo.Probe(velocity, synapse=.01)\n",
    "    \n",
    "sim = nengo.Simulator(model)\n",
    "sim.run(1)\n",
    "\n",
    "x, A = tuning_curves(position, sim)\n",
    "#plot(x,A)\n",
    "\n",
    "plot(sim.trange(), sim.data[stim_p], label = \"stim\")\n",
    "plot(sim.trange(), sim.data[position_p], label = \"position\")\n",
    "plot(sim.trange(), sim.data[velocity_p], label = \"velocity\")\n",
    "legend(loc=\"best\");"
   ]
  },
  {
   "cell_type": "markdown",
   "metadata": {
    "slideshow": {
     "slide_type": "subslide"
    }
   },
   "source": [
    "- That's pretty good... the area under the input is about equal to the magnitude of the output.\n",
    "- But, in order to be a perfect integrator, we'd need exactly $x=1\\times x$\n",
    "    - We won't get exactly that\n",
    "    - Neural implementations are always approximations\n",
    "- Two forms of error:\n",
    "    - $E_{distortion}$, the decoding error\n",
    "    - $E_{noise}$, the random noise error\n",
    "- What will they do?"
   ]
  },
  {
   "cell_type": "markdown",
   "metadata": {
    "slideshow": {
     "slide_type": "slide"
    }
   },
   "source": [
    "### Distortion error\n",
    "<img src=\"files/lecture5/integrator_error.png\">\n",
    "\n",
    "- What affects this?"
   ]
  },
  {
   "cell_type": "code",
   "execution_count": 34,
   "metadata": {
    "slideshow": {
     "slide_type": "subslide"
    }
   },
   "outputs": [
    {
     "data": {
      "text/html": [
       "\n",
       "                <div id=\"b0ffd26f-42fe-44e1-95bd-7b137f9fc21b\" style=\"\n",
       "                    width: 100%;\n",
       "                    border: 1px solid #cfcfcf;\n",
       "                    border-radius: 4px;\n",
       "                    text-align: center;\n",
       "                    position: relative;\">\n",
       "                  <div class=\"pb-text\" style=\"\n",
       "                      position: absolute;\n",
       "                      width: 100%;\">\n",
       "                    0%\n",
       "                  </div>\n",
       "                  <div class=\"pb-fill\" style=\"\n",
       "                      background-color: #bdd2e6;\n",
       "                      width: 0%;\">\n",
       "                    <style type=\"text/css\" scoped=\"scoped\">\n",
       "                        @keyframes pb-fill-anim {\n",
       "                            0% { background-position: 0 0; }\n",
       "                            100% { background-position: 100px 0; }\n",
       "                        }\n",
       "                    </style>\n",
       "                    &nbsp;\n",
       "                  </div>\n",
       "                </div>"
      ],
      "text/plain": [
       "HtmlProgressBar cannot be displayed. Please use the TerminalProgressBar. It can be enabled with `nengo.rc.set('progress', 'progress_bar', 'nengo.utils.progress.TerminalProgressBar')`."
      ]
     },
     "metadata": {},
     "output_type": "display_data"
    },
    {
     "data": {
      "application/javascript": [
       "\n",
       "              (function () {\n",
       "                  var root = document.getElementById('b0ffd26f-42fe-44e1-95bd-7b137f9fc21b');\n",
       "                  var text = root.getElementsByClassName('pb-text')[0];\n",
       "                  var fill = root.getElementsByClassName('pb-fill')[0];\n",
       "\n",
       "                  text.innerHTML = 'Build finished in 0:00:01.';\n",
       "                  \n",
       "            fill.style.width = '100%';\n",
       "            fill.style.animation = 'pb-fill-anim 2s linear infinite';\n",
       "            fill.style.backgroundSize = '100px 100%';\n",
       "            fill.style.backgroundImage = 'repeating-linear-gradient(' +\n",
       "                '90deg, #bdd2e6, #edf2f8 40%, #bdd2e6 80%, #bdd2e6)';\n",
       "        \n",
       "                  \n",
       "                fill.style.animation = 'none';\n",
       "                fill.style.backgroundImage = 'none';\n",
       "            \n",
       "              })();\n",
       "        "
      ],
      "text/plain": [
       "<IPython.core.display.Javascript object>"
      ]
     },
     "metadata": {},
     "output_type": "display_data"
    },
    {
     "data": {
      "image/png": "[encoded data removed]",
      "text/plain": [
       "<matplotlib.figure.Figure at 0x120d9c048>"
      ]
     },
     "metadata": {
      "needs_background": "light"
     },
     "output_type": "display_data"
    }
   ],
   "source": [
    "import nengo\n",
    "from nengo.dists import Uniform\n",
    "from nengo.utils.ensemble import tuning_curves\n",
    "\n",
    "model = nengo.Network(label='Neurons')\n",
    "with model:\n",
    "    neurons = nengo.Ensemble(200, dimensions=1, max_rates=Uniform(100,200))\n",
    "\n",
    "    connection = nengo.Connection(neurons, neurons)\n",
    "    \n",
    "sim = nengo.Simulator(model)\n",
    "\n",
    "d = sim.data[connection].weights.T\n",
    "\n",
    "x, A = tuning_curves(neurons, sim)\n",
    "\n",
    "xhat = numpy.dot(A, d)\n",
    "\n",
    "plot(x, xhat-x)\n",
    "axhline(0, color='k')\n",
    "xlabel('$x$')\n",
    "ylabel('$\\hat{x}-x$');"
   ]
  },
  {
   "cell_type": "markdown",
   "metadata": {
    "slideshow": {
     "slide_type": "subslide"
    }
   },
   "source": [
    "- So we can think of the distortion error as introducing a bunch of local attractors into the representation\n",
    "    - Any 'downward' x-crossing will be a stable point ('upwards' is unstable).\n",
    "    - There will be a tendency to drift towards one of these even if the input is zero.\n",
    "\n"
   ]
  },
  {
   "cell_type": "markdown",
   "metadata": {
    "slideshow": {
     "slide_type": "slide"
    }
   },
   "source": [
    "### Noise error\n",
    "- What will random noise do?\n",
    "    - Push the representation back and forth\n",
    "    - What if it is small?\n",
    "    - What if it is large?\n",
    "- What will changing the post-synaptic time constant $\\tau$ do?\n",
    "    - How does that interact with noise?"
   ]
  },
  {
   "cell_type": "markdown",
   "metadata": {
    "slideshow": {
     "slide_type": "subslide"
    }
   },
   "source": [
    "- But real eyes aren't perfect integrators\n",
    "    - If you get someone to look at someting, then turn off the lights but tell them to keep looking in the same direction, their eye will drift back to centre (with about 70s time constant)\n",
    "    - How do we implement that?\n",
    "    \n",
    "$\\dot{x}=-{1 \\over \\tau_c}x + v$\n",
    "\n",
    "- $\\tau_c$ is the time constant of that return to centre\n",
    "    \n",
    "- $A'=\\tau {-1 \\over \\tau_c}+1$\n",
    "- $B' = \\tau$"
   ]
  },
  {
   "cell_type": "code",
   "execution_count": null,
   "metadata": {
    "slideshow": {
     "slide_type": "subslide"
    }
   },
   "outputs": [],
   "source": [
    "import nengo\n",
    "from nengo.utils.functions import piecewise\n",
    "\n",
    "tau = 0.1\n",
    "tau_c = 2.0\n",
    "\n",
    "model = nengo.Network('Eye control', seed=5)\n",
    "\n",
    "with model:\n",
    "    stim = nengo.Node(piecewise({.3:1, .6:0 }))\n",
    "    velocity = nengo.Ensemble(100, dimensions=1)\n",
    "    position = nengo.Ensemble(200, dimensions=1)\n",
    "    \n",
    "    def feedback(x):\n",
    "        return (-tau/tau_c + 1)*x\n",
    "    \n",
    "    conn = nengo.Connection(stim, velocity)\n",
    "    conn = nengo.Connection(velocity, position, transform=tau, synapse=tau)\n",
    "    conn = nengo.Connection(position, position, function=feedback, synapse=tau)\n",
    "\n",
    "    stim_p = nengo.Probe(stim)\n",
    "    position_p = nengo.Probe(position, synapse=.01)\n",
    "    velocity_p = nengo.Probe(velocity, synapse=.01)\n",
    "    \n",
    "sim = nengo.Simulator(model)\n",
    "sim.run(5)\n",
    "\n",
    "plot(sim.trange(), sim.data[stim_p], label = \"stim\")\n",
    "plot(sim.trange(), sim.data[position_p], label = \"position\")\n",
    "plot(sim.trange(), sim.data[velocity_p], label = \"velocity\")\n",
    "legend(loc=\"best\");"
   ]
  },
  {
   "cell_type": "markdown",
   "metadata": {
    "slideshow": {
     "slide_type": "subslide"
    }
   },
   "source": [
    "- That also looks right.  Note that as $\\tau_c \\rightarrow \\infty$ this will approach the integrator.\n",
    "- Humans (a) and Goldfish (b)\n",
    "- Humans have more neurons doing this than goldfish (~1000 vs ~40)\n",
    "- They also have slower decay (70 s vs. 10 s).\n",
    "- Why do these fit together?\n",
    "\n",
    "<img src=\"files/lecture5/integrator_decay.png\">"
   ]
  },
  {
   "cell_type": "markdown",
   "metadata": {
    "slideshow": {
     "slide_type": "slide"
    }
   },
   "source": [
    "### Controlled Integrator\n",
    "\n",
    "- What if we want an integrator where we can adjust the decay on-the-fly?\n",
    "- Separate input telling us what the decay constant $d$ should be\n",
    "\n",
    "$\\dot{x} = -d x + v$\n",
    "\n",
    "- So there are two inputs: $v$ and $d$\n",
    "\n",
    "\n",
    "- This is no longer in the standard $Ax + Bu$ form. Sort of...\n",
    "    - Let $A = -d(t)$, so it's not a matrix\n",
    "    - But it is of the more general form: ${dx \\over dt}=f(x)+g(u)$\n",
    "    \n",
    "- We need to compute a nonlinear function of an input ($d$) and the state variable ($x$)\n",
    "- How can we do this?"
   ]
  },
  {
   "cell_type": "markdown",
   "metadata": {
    "slideshow": {
     "slide_type": "subslide"
    }
   },
   "source": [
    "- Going to 2D so we can compute the nonlinear function\n",
    "    - Let's have the state variable be $[x, d]$\n",
    "    \n",
    "<img src=\"files/lecture5/controlled_integrator.png\" width = \"600\">    "
   ]
  },
  {
   "cell_type": "code",
   "execution_count": null,
   "metadata": {
    "slideshow": {
     "slide_type": "subslide"
    }
   },
   "outputs": [],
   "source": [
    "import nengo\n",
    "from nengo.utils.functions import piecewise\n",
    "\n",
    "tau = 0.1\n",
    "\n",
    "model = nengo.Network('Controlled integrator', seed=1)\n",
    "\n",
    "with model:\n",
    "    vel = nengo.Node(piecewise({.2:1.5, .5:0 }))\n",
    "    dec = nengo.Node(piecewise({.7:.2, .9:0 }))\n",
    "    \n",
    "    velocity = nengo.Ensemble(100, dimensions=1)\n",
    "    decay = nengo.Ensemble(100, dimensions=1)\n",
    "    position = nengo.Ensemble(400, dimensions=2)\n",
    "    \n",
    "    def feedback(x):\n",
    "        return -x[1]*x[0]+x[0], 0\n",
    "    \n",
    "    conn = nengo.Connection(vel, velocity)\n",
    "    conn = nengo.Connection(dec, decay)\n",
    "    conn = nengo.Connection(velocity, position[0], transform=tau, synapse=tau)\n",
    "    conn = nengo.Connection(decay, position[1], synapse=0.01)\n",
    "    conn = nengo.Connection(position, position, function=feedback, synapse=tau)\n",
    "\n",
    "    position_p = nengo.Probe(position, synapse=.01)\n",
    "    velocity_p = nengo.Probe(velocity, synapse=.01)\n",
    "    decay_p = nengo.Probe(decay, synapse=.01)\n",
    "    \n",
    "sim = nengo.Simulator(model)\n",
    "sim.run(1)\n",
    "\n",
    "plot(sim.trange(), sim.data[decay_p])\n",
    "lineObjects = plot(sim.trange(), sim.data[position_p])\n",
    "plot(sim.trange(), sim.data[velocity_p])\n",
    "legend(('decay','position','decay','velocity'),loc=\"best\");"
   ]
  },
  {
   "cell_type": "code",
   "execution_count": null,
   "metadata": {
    "slideshow": {
     "slide_type": "subslide"
    }
   },
   "outputs": [],
   "source": [
    "from nengo_gui.ipython import IPythonViz\n",
    "IPythonViz(model, \"configs/controlled_integrator.py.cfg\")"
   ]
  },
  {
   "cell_type": "markdown",
   "metadata": {
    "slideshow": {
     "slide_type": "slide"
    }
   },
   "source": [
    "### Other fun functions\n",
    "\n",
    "- Oscillator\n",
    "    - $F = -kx = m \\ddot{x}$ let $\\omega = \\sqrt{\\frac{k}{m}}$\n",
    "    - $\\frac{d}{dt} \\begin{bmatrix}\n",
    "\\omega x \\\\\n",
    "\\dot{x}\n",
    "\\end{bmatrix}\n",
    "=\n",
    "\\begin{bmatrix}\n",
    "0 & \\omega \\\\\n",
    "-\\omega & 0\n",
    "\\end{bmatrix}$\n",
    "    - $\\dot{x}=[x_1, -x_0]$"
   ]
  },
  {
   "cell_type": "code",
   "execution_count": null,
   "metadata": {
    "slideshow": {
     "slide_type": "subslide"
    }
   },
   "outputs": [],
   "source": [
    "import nengo\n",
    "\n",
    "model = nengo.Network('Oscillator')\n",
    "\n",
    "freq = 1\n",
    "\n",
    "with model:\n",
    "    stim = nengo.Node(lambda t: [.5,.5] if t<.02 else [0,0])\n",
    "    \n",
    "    osc = nengo.Ensemble(200, dimensions=2)\n",
    "    \n",
    "    def feedback(x):\n",
    "        return x[0]+freq*x[1], -freq*x[0]+x[1]\n",
    "    \n",
    "    nengo.Connection(osc, osc, function=feedback, synapse=.01)\n",
    "    nengo.Connection(stim, osc)\n",
    "    \n",
    "    osc_p = nengo.Probe(osc, synapse=.01)\n",
    "    \n",
    "sim = nengo.Simulator(model)\n",
    "sim.run(.5)\n",
    "\n",
    "figure(figsize=(12,4))\n",
    "subplot(1,2,1)\n",
    "plot(sim.trange(), sim.data[osc_p]);\n",
    "xlabel('Time (s)')\n",
    "ylabel('State value')\n",
    "       \n",
    "subplot(1,2,2)\n",
    "plot(sim.data[osc_p][:,0],sim.data[osc_p][:,1])\n",
    "xlabel('$x_0$')\n",
    "ylabel('$x_1$');"
   ]
  },
  {
   "cell_type": "code",
   "execution_count": null,
   "metadata": {
    "scrolled": false,
    "slideshow": {
     "slide_type": "subslide"
    }
   },
   "outputs": [],
   "source": [
    "from nengo_gui.ipython import IPythonViz\n",
    "IPythonViz(model, \"configs/oscillator.py.cfg\")"
   ]
  },
  {
   "cell_type": "markdown",
   "metadata": {
    "slideshow": {
     "slide_type": "subslide"
    }
   },
   "source": [
    "- Lorenz Attractor (a chaotic attractor)\n",
    "\n",
    "    - $\\dot{x}=[10x_1-10x_0, -x_0 x_2-x_1, x_0 x_1 - {8 \\over 3}(x_2+28)-28]$\n"
   ]
  },
  {
   "cell_type": "code",
   "execution_count": null,
   "metadata": {
    "slideshow": {
     "slide_type": "subslide"
    }
   },
   "outputs": [],
   "source": [
    "import nengo\n",
    "\n",
    "model = nengo.Network('Lorenz Attractor', seed=3)\n",
    "\n",
    "tau = 0.1\n",
    "sigma = 10\n",
    "beta = 8.0/3\n",
    "rho = 28\n",
    "\n",
    "def feedback(x):\n",
    "    dx0 = -sigma * x[0] + sigma * x[1]\n",
    "    dx1 = -x[0] * x[2] - x[1]\n",
    "    dx2 = x[0] * x[1] - beta * (x[2] + rho) - rho\n",
    "    return [dx0 * tau + x[0], \n",
    "            dx1 * tau + x[1], \n",
    "            dx2 * tau + x[2]]\n",
    "\n",
    "with model:\n",
    "    lorenz = nengo.Ensemble(2000, dimensions=3, radius=60)\n",
    "    \n",
    "    nengo.Connection(lorenz, lorenz, function=feedback, synapse=tau)\n",
    "    \n",
    "    lorenz_p = nengo.Probe(lorenz, synapse=tau)\n",
    "    \n",
    "sim = nengo.Simulator(model)\n",
    "sim.run(14)\n",
    "\n",
    "figure(figsize=(12,4))\n",
    "subplot(1,2,1)\n",
    "plot(sim.trange(), sim.data[lorenz_p]);\n",
    "xlabel('Time (s)')\n",
    "ylabel('State value')\n",
    "       \n",
    "subplot(1,2,2)\n",
    "plot(sim.data[lorenz_p][:,0],sim.data[lorenz_p][:,1])\n",
    "xlabel('$x_0$')\n",
    "ylabel('$x_1$');"
   ]
  },
  {
   "cell_type": "code",
   "execution_count": null,
   "metadata": {
    "slideshow": {
     "slide_type": "subslide"
    }
   },
   "outputs": [],
   "source": [
    "from nengo_gui.ipython import IPythonViz\n",
    "IPythonViz(model, \"configs/lorenz.py.cfg\")"
   ]
  },
  {
   "cell_type": "markdown",
   "metadata": {
    "slideshow": {
     "slide_type": "subslide"
    }
   },
   "source": [
    "- Note: This is not the original Lorenz attractor.  \n",
    "    - The original is $\\dot{x}=[10x_1-10x_0, x_0 (28-x_2)-x_1, x_0 x_1 - {8 \\over 3}(x_2)]$\n",
    "    - Why change it to $\\dot{x}=[10x_1-10x_0, -x_0 x_2-x_1, x_0 x_1 - {8 \\over 3}(x_2+28)-28]$?\n",
    "    - What's being changed here?"
   ]
  },
  {
   "cell_type": "markdown",
   "metadata": {
    "slideshow": {
     "slide_type": "subslide"
    }
   },
   "source": [
    "### Oscillators with different paths\n",
    "\n",
    "- Since we can implement any function, we're not limited to linear oscillators\n",
    "- What about a \"square\" oscillator?\n",
    "    - Instead of the value going in a circle, it traces out a square\n",
    "\n",
    "$$\n",
    "{\\dot{x}} = \\begin{cases}\n",
    "    [r, 0] &\\mbox{if } |x_1|>|x_0| \\wedge x_1>0 \\\\ \n",
    "    [-r, 0] &\\mbox{if } |x_1|>|x_0| \\wedge x_1<0 \\\\ \n",
    "    [0, -r] &\\mbox{if } |x_1|<|x_0| \\wedge x_0>0 \\\\ \n",
    "    [0, r] &\\mbox{if } |x_1|<|x_0| \\wedge x_0<0 \\\\ \n",
    "    \\end{cases}\n",
    "$$    "
   ]
  },
  {
   "cell_type": "code",
   "execution_count": null,
   "metadata": {
    "slideshow": {
     "slide_type": "subslide"
    }
   },
   "outputs": [],
   "source": [
    "import nengo\n",
    "\n",
    "model = nengo.Network('Square Oscillator')\n",
    "\n",
    "tau = 0.02\n",
    "r=4\n",
    "\n",
    "def feedback(x):    \n",
    "    if abs(x[1])>abs(x[0]):\n",
    "        if x[1]>0: dx=[r, 0]\n",
    "        else: dx=[-r, 0]\n",
    "    else:\n",
    "        if x[0]>0: dx=[0, -r]\n",
    "        else: dx=[0, r]\n",
    "    return [tau*dx[0]+x[0], tau*dx[1]+x[1]] \n",
    "\n",
    "with model:\n",
    "    stim = nengo.Node(lambda t: [.5,.5] if t<.02 else [0,0])\n",
    "    \n",
    "    square_osc = nengo.Ensemble(1000, dimensions=2)\n",
    "    \n",
    "    nengo.Connection(square_osc, square_osc, function=feedback, synapse=tau)\n",
    "    nengo.Connection(stim, square_osc)\n",
    "    \n",
    "    square_osc_p = nengo.Probe(square_osc, synapse=tau)\n",
    "    \n",
    "sim = nengo.Simulator(model)\n",
    "sim.run(2)\n",
    "\n",
    "figure(figsize=(12,4))\n",
    "subplot(1,2,1)\n",
    "plot(sim.trange(), sim.data[square_osc_p]);\n",
    "xlabel('Time (s)')\n",
    "ylabel('State value')\n",
    "       \n",
    "subplot(1,2,2)\n",
    "plot(sim.data[square_osc_p][:,0],sim.data[square_osc_p][:,1])\n",
    "xlabel('$x_0$')\n",
    "ylabel('$x_1$');"
   ]
  },
  {
   "cell_type": "markdown",
   "metadata": {
    "slideshow": {
     "slide_type": "subslide"
    }
   },
   "source": [
    "- Does this do what you expect?\n",
    "- How is it affected by:\n",
    "    - Number of neurons?\n",
    "    - Post-synaptic time constant?\n",
    "    - Decoding filter time constant?\n",
    "    - Speed of oscillation (``r``)?"
   ]
  },
  {
   "cell_type": "markdown",
   "metadata": {
    "slideshow": {
     "slide_type": "subslide"
    }
   },
   "source": [
    "- What about this shape?\n",
    "\n"
   ]
  },
  {
   "cell_type": "code",
   "execution_count": null,
   "metadata": {
    "slideshow": {
     "slide_type": "subslide"
    }
   },
   "outputs": [],
   "source": [
    "import nengo\n",
    "\n",
    "model = nengo.Network('Heart Oscillator')\n",
    "\n",
    "tau = 0.02\n",
    "r=4\n",
    "\n",
    "def feedback(x):    \n",
    "    return [-tau*r*x[1]+x[0], tau*r*x[0]+x[1]]\n",
    "\n",
    "def heart_shape(x):\n",
    "    theta = np.arctan2(x[1], x[0])\n",
    "    r = 2 - 2 * np.sin(theta) + np.sin(theta)*np.sqrt(np.abs(np.cos(theta)))/(np.sin(theta)+1.4)\n",
    "    return -r*np.cos(theta), r*np.sin(theta)\n",
    "\n",
    "with model:\n",
    "    stim = nengo.Node(lambda t: [.5,.5] if t<.02 else [0,0])\n",
    "    \n",
    "    heart_osc = nengo.Ensemble(1000, dimensions=2)\n",
    "    heart = nengo.Ensemble(100, dimensions=2, radius=4)\n",
    "    \n",
    "    nengo.Connection(stim, heart_osc)\n",
    "    nengo.Connection(heart_osc, heart_osc, function=feedback, synapse=tau)\n",
    "    nengo.Connection(heart_osc, heart, function=heart_shape, synapse=tau)\n",
    "    \n",
    "    heart_p = nengo.Probe(heart, synapse=tau)\n",
    "    \n",
    "sim = nengo.Simulator(model)\n",
    "sim.run(4)\n",
    "\n",
    "figure(figsize=(12,4))\n",
    "subplot(1,2,1)\n",
    "plot(sim.trange(), sim.data[heart_p]);\n",
    "xlabel('Time (s)')\n",
    "ylabel('State value')\n",
    "       \n",
    "subplot(1,2,2)\n",
    "plot(sim.data[heart_p][:,0],sim.data[heart_p][:,1])\n",
    "xlabel('$x_0$')\n",
    "ylabel('$x_1$');"
   ]
  },
  {
   "cell_type": "markdown",
   "metadata": {
    "slideshow": {
     "slide_type": "subslide"
    }
   },
   "source": [
    "- We are doing things differently here\n",
    "- The actual $x$ value is a normal circle oscillator\n",
    "- The heart shape is a function of $x$\n",
    "    - But that's just a different decoder\n",
    "- Would it be possible to do an oscillator where $x$ followed this shape?\n",
    "    - How could we tell them apart in terms of neural behaviour?\n"
   ]
  },
  {
   "cell_type": "markdown",
   "metadata": {
    "slideshow": {
     "slide_type": "slide"
    }
   },
   "source": [
    "### Controlled Oscillator\n",
    "\n",
    "- Change the frequency of the oscillator on-the-fly\n",
    "\n",
    "- $\\dot{x}=[x_1 x_2, -x_0 x_2]$"
   ]
  },
  {
   "cell_type": "code",
   "execution_count": null,
   "metadata": {
    "slideshow": {
     "slide_type": "subslide"
    }
   },
   "outputs": [],
   "source": [
    "import nengo\n",
    "from nengo.utils.functions import piecewise\n",
    "\n",
    "model = nengo.Network('Controlled Oscillator')\n",
    "\n",
    "tau = 0.1\n",
    "freq = 20\n",
    "\n",
    "def feedback(x):\n",
    "    return x[1]*x[2]*freq*tau+1.1*x[0], -x[0]*x[2]*freq*tau+1.1*x[1], 0\n",
    "\n",
    "with model:\n",
    "    stim = nengo.Node(lambda t: [20,20] if t<.02 else [0,0])\n",
    "    freq_ctrl = nengo.Node(piecewise({0:1, 2:.5, 6:-1}))\n",
    "    \n",
    "    ctrl_osc = nengo.Ensemble(500, dimensions=3)\n",
    "    \n",
    "    nengo.Connection(ctrl_osc, ctrl_osc, function=feedback, synapse=tau)\n",
    "    nengo.Connection(stim, ctrl_osc[0:2])\n",
    "    nengo.Connection(freq_ctrl, ctrl_osc[2])\n",
    "    \n",
    "    ctrl_osc_p = nengo.Probe(ctrl_osc, synapse=0.01)\n",
    "    \n",
    "sim = nengo.Simulator(model)\n",
    "sim.run(8)\n",
    "\n",
    "figure(figsize=(12,4))\n",
    "subplot(1,2,1)\n",
    "plot(sim.trange(), sim.data[ctrl_osc_p]);\n",
    "xlabel('Time (s)')\n",
    "ylabel('State value')\n",
    "       \n",
    "subplot(1,2,2)\n",
    "plot(sim.data[ctrl_osc_p][:,0],sim.data[ctrl_osc_p][:,1])\n",
    "xlabel('$x_0$')\n",
    "ylabel('$x_1$');"
   ]
  },
  {
   "cell_type": "code",
   "execution_count": null,
   "metadata": {
    "slideshow": {
     "slide_type": "subslide"
    }
   },
   "outputs": [],
   "source": [
    "from nengo_gui.ipython import IPythonViz\n",
    "IPythonViz(model, \"configs/controlled_oscillator.py.cfg\")"
   ]
  },
  {
   "cell_type": "code",
   "execution_count": null,
   "metadata": {},
   "outputs": [],
   "source": []
  }
 ],
 "metadata": {
  "celltoolbar": "Slideshow",
  "kernelspec": {
   "display_name": "Python 3",
   "language": "python",
   "name": "python3"
  },
  "language_info": {
   "codemirror_mode": {
    "name": "ipython",
    "version": 3
   },
   "file_extension": ".py",
   "mimetype": "text/x-python",
   "name": "python",
   "nbconvert_exporter": "python",
   "pygments_lexer": "ipython3",
   "version": "3.6.6"
  },
  "livereveal": {
   "scroll": true,
   "start_slideshow_at": "selected"
  }
 },
 "nbformat": 4,
 "nbformat_minor": 1
}
