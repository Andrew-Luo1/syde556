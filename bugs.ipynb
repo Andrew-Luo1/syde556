{
 "cells": [
  {
   "cell_type": "markdown",
   "metadata": {},
   "source": [
    "## Solving for $d$\n",
    "\n",
    "- Minimize the average error over all $x$, i.e.,\n",
    "\n",
    "$ E = \\frac{1}{2}\\int_{-1}^1 (x-\\hat{x})^2 \\; dx $\n",
    "\n",
    "- Substitute for $\\hat{x}$:\n",
    "\n",
    "$ \n",
    "\\begin{align}\n",
    "E = \\frac{1}{2}\\int_{-1}^1 \\left(x-\\sum_i^N a_i d_i \\right)^2 \\; dx \n",
    "\\end{align}\n",
    "$\n",
    "\n",
    "- Take the derivative with respect to $d_i$:\n",
    "\n",
    "$\n",
    "\\begin{align}\n",
    "{{\\partial E} \\over {\\partial d_i}} &= {1 \\over 2} \\int_{-1}^1 2 \\left[ x-\\sum_j a_j d_j \\right] (-a_i) \\; dx \\\\\n",
    "{{\\partial E} \\over {\\partial d_i}} &= - \\int_{-1}^1 a_i x \\; dx + \\int_{-1}^1 \\sum_j a_j d_j a_i \\; dx \n",
    "\\end{align}\n",
    "$\n",
    "\n",
    "- At the minimum (i.e. smallest error), $ {{\\partial E} \\over {\\partial d_i}} = 0$\n",
    "\n",
    "$\n",
    "\\begin{align}\n",
    "\\int_{-1}^1 a_i x \\; dx &= \\int_{-1}^1 \\sum_j(a_j d_j a_i) \\; dx \\\\\n",
    "\\int_{-1}^1 a_i x \\; dx &= \\sum_j \\left(\\int_{-1}^1 a_i a_j \\; dx\\right)d_j \n",
    "\\end{align}\n",
    "$\n",
    "\n",
    "- That's a system of $N$ equations and $N$ unknowns\n",
    "- In fact, we can rewrite this in matrix form\n",
    "    \n",
    "$ \\Upsilon = \\Gamma d $\n",
    "\n",
    "where"
   ]
  },
  {
   "cell_type": "code",
   "execution_count": null,
   "metadata": {
    "collapsed": true
   },
   "outputs": [],
   "source": []
  }
 ],
 "metadata": {
  "language_info": {
   "codemirror_mode": {
    "name": "ipython",
    "version": 2
   },
   "file_extension": ".py",
   "mimetype": "text/x-python",
   "name": "python",
   "nbconvert_exporter": "python",
   "pygments_lexer": "ipython2",
   "version": "2.7.5"
  }
 },
 "nbformat": 4,
 "nbformat_minor": 0
}
